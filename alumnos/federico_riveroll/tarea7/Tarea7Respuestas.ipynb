{
 "cells": [
  {
   "cell_type": "markdown",
   "metadata": {},
   "source": [
    "# Métodos de Gran Escala\n",
    "## Tarea 7\n",
    "### Federico Riveroll Gonzalez"
   ]
  },
  {
   "cell_type": "markdown",
   "metadata": {},
   "source": [
    "### Especificaciones\n",
    "Para el presente trabajo se utilizaron los algoritmos de regresión <b>RandomForestRegressor</b> y <b>GBTRegressor</b>.<br>\n",
    "\n",
    "El script de pyspark con comentarios detallados se encuentra en:<br>\n",
    "<i>script/script_pyspark.py</i>\n",
    "<br>\n",
    "<br>\n",
    "El archivo para zeppelin que se uso para correr todo se encuentra en:<br>\n",
    "<i>script/tarea7.json</i>\n",
    "<br>\n",
    "<br>\n"
   ]
  },
  {
   "cell_type": "markdown",
   "metadata": {},
   "source": [
    "Para esta tarea, utilicé un cluster en AWS de 3 nodos:<br>\n",
    "<img src = \"img/cluster.png\"/>"
   ]
  },
  {
   "cell_type": "markdown",
   "metadata": {},
   "source": [
    "### Diagrama de elementos (transformadores, estimadores, data frames, pipeline):\n",
    "\n",
    "<img src=\"img/diagrama.jpg\"/>"
   ]
  },
  {
   "cell_type": "markdown",
   "metadata": {
    "collapsed": true
   },
   "source": [
    "### Duración de Magic Loop:\n",
    "<b>Seis horas</b> (cabe mencionar que primero intenté en mi computadora y no corrió, tuvo errores de memoria de java).\n",
    "<img src=\"img/tiempo.png\"/>\n",
    "<br>\n",
    "Resultado de mejor GBTRegressor:<br>\n",
    "<img src=\"img/rmse_reg.png\"/>\n",
    "<br>\n",
    "Resultado de mejor RandomForestRegressor:<br>\n",
    "<img src=\"img/rmse_rf.png\"/>"
   ]
  },
  {
   "cell_type": "markdown",
   "metadata": {},
   "source": [
    "Los mejores parámetros para GBT fueron maxDepth = 10, maxIter = 20.<br>\n",
    "Los mejores parámetros para RFR fueron maxDepth = 7, numTrees = 30.<br>"
   ]
  },
  {
   "cell_type": "code",
   "execution_count": null,
   "metadata": {
    "collapsed": true
   },
   "outputs": [],
   "source": []
  }
 ],
 "metadata": {
  "kernelspec": {
   "display_name": "Python 3",
   "language": "python",
   "name": "python3"
  },
  "language_info": {
   "codemirror_mode": {
    "name": "ipython",
    "version": 3
   },
   "file_extension": ".py",
   "mimetype": "text/x-python",
   "name": "python",
   "nbconvert_exporter": "python",
   "pygments_lexer": "ipython3",
   "version": "3.6.1"
  }
 },
 "nbformat": 4,
 "nbformat_minor": 2
}
