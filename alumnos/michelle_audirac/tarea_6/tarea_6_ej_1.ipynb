{
 "cells": [
  {
   "cell_type": "markdown",
   "metadata": {},
   "source": [
    "# Tarea 6"
   ]
  },
  {
   "cell_type": "markdown",
   "metadata": {},
   "source": [
    "https://medium.com/@suci/running-pyspark-on-jupyter-notebook-with-docker-602b18ac4494"
   ]
  },
  {
   "cell_type": "markdown",
   "metadata": {},
   "source": [
    "## Ejercicio 1"
   ]
  },
  {
   "cell_type": "code",
   "execution_count": 1,
   "metadata": {},
   "outputs": [],
   "source": [
    "import pandas as pd"
   ]
  },
  {
   "cell_type": "code",
   "execution_count": 2,
   "metadata": {},
   "outputs": [],
   "source": [
    "from pyspark.sql import SQLContext\n",
    "from pyspark import SparkContext\n",
    "sc = SparkContext()\n",
    "sqlContext = SQLContext(sc)"
   ]
  },
  {
   "cell_type": "code",
   "execution_count": 3,
   "metadata": {},
   "outputs": [],
   "source": [
    "from pyspark.sql import SparkSession\n",
    "from pyspark.sql.functions import *\n",
    "\n",
    "spark = SparkSession.builder.master(\"local[3]\").getOrCreate()"
   ]
  },
  {
   "cell_type": "code",
   "execution_count": 3,
   "metadata": {},
   "outputs": [],
   "source": [
    "# from pyspark.sql import SQLContext\n",
    "# sqlContext = SQLContext(sc)"
   ]
  },
  {
   "cell_type": "code",
   "execution_count": 6,
   "metadata": {},
   "outputs": [],
   "source": [
    "employees = spark.read.csv('/home/jovyan/northwind/employees.csv', header =True)\n",
    "orders = spark.read.csv('/home/jovyan/northwind/orders.csv', header =True)"
   ]
  },
  {
   "cell_type": "code",
   "execution_count": 7,
   "metadata": {},
   "outputs": [
    {
     "data": {
      "text/plain": [
       "pyspark.sql.dataframe.DataFrame"
      ]
     },
     "execution_count": 7,
     "metadata": {},
     "output_type": "execute_result"
    }
   ],
   "source": [
    "type(employees)"
   ]
  },
  {
   "cell_type": "code",
   "execution_count": 8,
   "metadata": {},
   "outputs": [
    {
     "name": "stdout",
     "output_type": "stream",
     "text": [
      "+---------+\n",
      "|firstname|\n",
      "+---------+\n",
      "|    Nancy|\n",
      "|   Andrew|\n",
      "|    Janet|\n",
      "| Margaret|\n",
      "|   Steven|\n",
      "|  Michael|\n",
      "|   Robert|\n",
      "|    Laura|\n",
      "|     Anne|\n",
      "+---------+\n",
      "\n"
     ]
    }
   ],
   "source": [
    "employees.select(\"firstname\").show()"
   ]
  },
  {
   "cell_type": "code",
   "execution_count": 9,
   "metadata": {},
   "outputs": [
    {
     "data": {
      "text/plain": [
       "DataFrame[summary: string, employeeid: string, lastname: string, firstname: string, title: string, titleofcourtesy: string, birthdate: string, hiredate: string, address: string, city: string, region: string, postalcode: string, country: string, homephone: string, extension: string, photo: string, notes: string, reportsto: string, photopath: string]"
      ]
     },
     "execution_count": 9,
     "metadata": {},
     "output_type": "execute_result"
    }
   ],
   "source": [
    "employees.describe()"
   ]
  },
  {
   "cell_type": "markdown",
   "metadata": {},
   "source": [
    "# Ejercicio 1a\n",
    "1a. ¿Cuántos “jefes” hay en la tabla empleados? ¿Cuáles son estos jefes: número de empleado, nombre, apellido, título, fecha de nacimiento, fecha en que iniciaron en la empresa, ciudad y país? (atributo reportsto, ocupa explode en tu respuesta)"
   ]
  },
  {
   "cell_type": "code",
   "execution_count": 10,
   "metadata": {},
   "outputs": [],
   "source": [
    "employees.createOrReplaceTempView(\"employees\") "
   ]
  },
  {
   "cell_type": "code",
   "execution_count": 11,
   "metadata": {},
   "outputs": [
    {
     "data": {
      "text/html": [
       "<div>\n",
       "<table border=\"1\" class=\"dataframe\">\n",
       "  <thead>\n",
       "    <tr style=\"text-align: right;\">\n",
       "      <th></th>\n",
       "      <th>employeeid</th>\n",
       "      <th>firstname</th>\n",
       "      <th>lastname</th>\n",
       "      <th>titleofcourtesy</th>\n",
       "      <th>birthdate</th>\n",
       "      <th>hiredate</th>\n",
       "      <th>city</th>\n",
       "      <th>country</th>\n",
       "    </tr>\n",
       "  </thead>\n",
       "  <tbody>\n",
       "    <tr>\n",
       "      <th>0</th>\n",
       "      <td>2</td>\n",
       "      <td>Andrew</td>\n",
       "      <td>Fuller</td>\n",
       "      <td>Dr.</td>\n",
       "      <td>1952-02-19</td>\n",
       "      <td>1992-08-14</td>\n",
       "      <td>Tacoma</td>\n",
       "      <td>USA</td>\n",
       "    </tr>\n",
       "    <tr>\n",
       "      <th>1</th>\n",
       "      <td>5</td>\n",
       "      <td>Steven</td>\n",
       "      <td>Buchanan</td>\n",
       "      <td>Mr.</td>\n",
       "      <td>1955-03-04</td>\n",
       "      <td>1993-10-17</td>\n",
       "      <td>London</td>\n",
       "      <td>UK</td>\n",
       "    </tr>\n",
       "  </tbody>\n",
       "</table>\n",
       "</div>"
      ],
      "text/plain": [
       "  employeeid firstname  lastname titleofcourtesy   birthdate    hiredate  \\\n",
       "0          2    Andrew    Fuller             Dr.  1952-02-19  1992-08-14   \n",
       "1          5    Steven  Buchanan             Mr.  1955-03-04  1993-10-17   \n",
       "\n",
       "     city country  \n",
       "0  Tacoma     USA  \n",
       "1  London      UK  "
      ]
     },
     "execution_count": 11,
     "metadata": {},
     "output_type": "execute_result"
    }
   ],
   "source": [
    "res = spark.sql(\"\"\"SELECT employeeid,firstname,lastname,titleofcourtesy,\n",
    "birthdate,hiredate,city,country FROM employees where employeeid \n",
    "IN ( select distinct reportsto from employees where reportsto >0)\"\"\")\n",
    "res.toPandas()"
   ]
  },
  {
   "cell_type": "code",
   "execution_count": 13,
   "metadata": {},
   "outputs": [],
   "source": [
    "res.repartition(1).write.csv('1a')"
   ]
  },
  {
   "cell_type": "markdown",
   "metadata": {},
   "source": [
    "# Ejercicio 1b\n",
    "1b. ¿Quién es el segundo “mejor” empleado que más órdenes ha generado? (nombre, apellido, título, cuándo entró a la compañía, número de órdenes generadas, número de órdenes generadas por el mejor empleado (número 1))"
   ]
  },
  {
   "cell_type": "code",
   "execution_count": 14,
   "metadata": {},
   "outputs": [],
   "source": [
    "orders.createOrReplaceTempView(\"orders\") "
   ]
  },
  {
   "cell_type": "code",
   "execution_count": 15,
   "metadata": {},
   "outputs": [
    {
     "data": {
      "text/plain": [
       "lastname                    Leverling\n",
       "firstname                       Janet\n",
       "title            Sales Representative\n",
       "hiredate                   1992-04-01\n",
       "total_ordenes                     127\n",
       "Name: 1, dtype: object"
      ]
     },
     "execution_count": 15,
     "metadata": {},
     "output_type": "execute_result"
    }
   ],
   "source": [
    "res = spark.sql(\"\"\"SELECT lastname, firstname, title, hiredate, count(*) \n",
    "as total_ordenes FROM orders JOIN employees \n",
    "ON orders.employeeid = employees.employeeid \n",
    "GROUP BY lastname, firstname, title, hiredate \n",
    "ORDER BY total_ordenes DESC LIMIT 2\n",
    "\"\"\")\n",
    "res.toPandas().loc[1]"
   ]
  },
  {
   "cell_type": "code",
   "execution_count": 16,
   "metadata": {},
   "outputs": [],
   "source": [
    "res.repartition(1).write.csv('1b')"
   ]
  },
  {
   "cell_type": "markdown",
   "metadata": {},
   "source": [
    "# Ejercicio 1c\n",
    "1c. ¿Cuál es el delta de tiempo más grande entre una orden y otra?"
   ]
  },
  {
   "cell_type": "code",
   "execution_count": 17,
   "metadata": {},
   "outputs": [
    {
     "data": {
      "text/html": [
       "<div>\n",
       "<table border=\"1\" class=\"dataframe\">\n",
       "  <thead>\n",
       "    <tr style=\"text-align: right;\">\n",
       "      <th></th>\n",
       "      <th>orderid</th>\n",
       "      <th>orderdate</th>\n",
       "      <th>lag(orderdate, 1, NULL) OVER (ORDER BY orderid ASC NULLS FIRST ROWS BETWEEN 1 PRECEDING AND 1 PRECEDING)</th>\n",
       "      <th>delta</th>\n",
       "    </tr>\n",
       "  </thead>\n",
       "  <tbody>\n",
       "    <tr>\n",
       "      <th>0</th>\n",
       "      <td>10262</td>\n",
       "      <td>1996-07-22</td>\n",
       "      <td>1996-07-19</td>\n",
       "      <td>3</td>\n",
       "    </tr>\n",
       "    <tr>\n",
       "      <th>1</th>\n",
       "      <td>10284</td>\n",
       "      <td>1996-08-19</td>\n",
       "      <td>1996-08-16</td>\n",
       "      <td>3</td>\n",
       "    </tr>\n",
       "    <tr>\n",
       "      <th>2</th>\n",
       "      <td>10267</td>\n",
       "      <td>1996-07-29</td>\n",
       "      <td>1996-07-26</td>\n",
       "      <td>3</td>\n",
       "    </tr>\n",
       "    <tr>\n",
       "      <th>3</th>\n",
       "      <td>10256</td>\n",
       "      <td>1996-07-15</td>\n",
       "      <td>1996-07-12</td>\n",
       "      <td>3</td>\n",
       "    </tr>\n",
       "    <tr>\n",
       "      <th>4</th>\n",
       "      <td>10273</td>\n",
       "      <td>1996-08-05</td>\n",
       "      <td>1996-08-02</td>\n",
       "      <td>3</td>\n",
       "    </tr>\n",
       "  </tbody>\n",
       "</table>\n",
       "</div>"
      ],
      "text/plain": [
       "  orderid   orderdate  \\\n",
       "0   10262  1996-07-22   \n",
       "1   10284  1996-08-19   \n",
       "2   10267  1996-07-29   \n",
       "3   10256  1996-07-15   \n",
       "4   10273  1996-08-05   \n",
       "\n",
       "  lag(orderdate, 1, NULL) OVER (ORDER BY orderid ASC NULLS FIRST ROWS BETWEEN 1 PRECEDING AND 1 PRECEDING)  \\\n",
       "0                                         1996-07-19                                                         \n",
       "1                                         1996-08-16                                                         \n",
       "2                                         1996-07-26                                                         \n",
       "3                                         1996-07-12                                                         \n",
       "4                                         1996-08-02                                                         \n",
       "\n",
       "   delta  \n",
       "0      3  \n",
       "1      3  \n",
       "2      3  \n",
       "3      3  \n",
       "4      3  "
      ]
     },
     "execution_count": 17,
     "metadata": {},
     "output_type": "execute_result"
    }
   ],
   "source": [
    "res = spark.sql(\"\"\"\n",
    "SELECT orderid, orderdate, lag(orderdate) OVER(ORDER BY orderid), \n",
    "datediff(orderdate, lag(orderdate) OVER(ORDER BY orderid)) delta\n",
    "FROM orders \n",
    "ORDER BY delta DESC LIMIT 5\n",
    "\"\"\")\n",
    "res.toPandas()"
   ]
  },
  {
   "cell_type": "code",
   "execution_count": 18,
   "metadata": {},
   "outputs": [],
   "source": [
    "res.repartition(1).write.csv('1c')"
   ]
  }
 ],
 "metadata": {
  "kernelspec": {
   "display_name": "Python 3",
   "language": "python",
   "name": "python3"
  },
  "language_info": {
   "codemirror_mode": {
    "name": "ipython",
    "version": 3
   },
   "file_extension": ".py",
   "mimetype": "text/x-python",
   "name": "python",
   "nbconvert_exporter": "python",
   "pygments_lexer": "ipython3",
   "version": "3.6.3"
  }
 },
 "nbformat": 4,
 "nbformat_minor": 2
}
