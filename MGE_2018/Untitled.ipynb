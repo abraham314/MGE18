{
 "cells": [
  {
   "cell_type": "code",
   "execution_count": 7,
   "metadata": {
    "collapsed": true
   },
   "outputs": [],
   "source": [
    "import luigi"
   ]
  },
  {
   "cell_type": "code",
   "execution_count": null,
   "metadata": {
    "collapsed": true
   },
   "outputs": [],
   "source": []
  },
  {
   "cell_type": "code",
   "execution_count": 12,
   "metadata": {},
   "outputs": [
    {
     "name": "stderr",
     "output_type": "stream",
     "text": [
      "/home/abraham/anaconda3/envs/py35/lib/python3.5/site-packages/psycopg2/__init__.py:144: UserWarning: The psycopg2 wheel package will be renamed from release 2.8; in order to keep installing from binary please use \"pip install psycopg2-binary\" instead. For details see: <http://initd.org/psycopg/docs/install.html#binary-install-from-pypi>.\n",
      "  \"\"\")\n"
     ]
    }
   ],
   "source": [
    "import os\n",
    "import csv\n",
    "import json\n",
    "import luigi\n",
    "import time\n",
    "import random\n",
    "import requests\n",
    "import psycopg2\n",
    "from luigi.contrib.postgres import CopyToTable, PostgresTarget, PostgresQuery"
   ]
  },
  {
   "cell_type": "code",
   "execution_count": 13,
   "metadata": {
    "collapsed": true
   },
   "outputs": [],
   "source": [
    "\n",
    "class DeleteTableProducto(PostgresQuery):\n",
    "    producto = luigi.Parameter()\n",
    "    host = os.environ.get('DB_HOST', '0.0.0.0:5433')\n",
    "    database = os.environ.get('DB_DATABASE', 'QQP')\n",
    "    user = os.environ.get('DB_USER', 'QQP')\n",
    "    password = os.environ.get('DB_PASSWORD', 'q1q2p')\n",
    "    port = os.environ.get('DB_PORT', 5433)\n",
    "    table = os.environ.get('DB_TABLE','PRODUCTO')\n",
    "    update_id = str(int(round(time.time() * 1000) * random.random()))\n",
    "\n",
    "    @property\n",
    "    def query(self):\n",
    "        return \"DELETE FROM PRODUCTO;\"\n",
    "\n",
    "\n",
    "class DownloadProduct(luigi.Task):\n",
    "    producto = luigi.Parameter()\n",
    "\n",
    "    def requires(self):\n",
    "        return DeleteTableProducto(self.producto)\n",
    "\n",
    "    def run(self):\n",
    "        page = 1\n",
    "        must_continue = True\n",
    "        list_product = []\n",
    "\n",
    "        while must_continue:\n",
    "            print(\"Peticion al API pagina: \", str(page))\n",
    "            self.set_status_message(\"Peticion al API QQP, producto: {} pagina: {}\".format(self.producto, str(page)))\n",
    "\n",
    "            response = requests.get('https://api.datos.gob.mx/v1/profeco.precios', params={'producto': self.producto, 'page': str(page)})\n",
    "            print(\"Respuesta del servidor\", response.status_code)\n",
    "            if response.status_code == 200:\n",
    "                json_response = response.json().get('results', [])\n",
    "                must_continue = len(json_response) > 0\n",
    "\n",
    "                if must_continue:\n",
    "                    list_product.extend(json_response)\n",
    "                    page += 1\n",
    "\n",
    "        if len(list_product) > 0:\n",
    "            with self.output().open('w') as json_file:\n",
    "                json.dump(list_product, json_file)\n",
    "\n",
    "    def output(self):\n",
    "        return luigi.LocalTarget('/tmp/qqp/{}/data.json'.format(self.producto))\n",
    "\n",
    "\n",
    "class ConvertJSONToCSV(luigi.Task):\n",
    "    producto = luigi.Parameter()\n",
    "\n",
    "    def requires(self):\n",
    "        return DownloadProduct(self.producto)\n",
    "\n",
    "    def run(self):\n",
    "        with self.input().open('r') as json_file:\n",
    "            json_product = json.load(json_file)\n",
    "\n",
    "        print(len(json_product))\n",
    "        headers = json_product[0].keys()\n",
    "\n",
    "        with open('/tmp/qqp/{0}/headers.csv'.format(self.producto), 'w+') as header_file:\n",
    "            json.dump(list(headers), header_file)\n",
    "\n",
    "        with self.output().open('w') as csv_file:\n",
    "            writer = csv.writer(csv_file, delimiter='|', quotechar='\"')\n",
    "\n",
    "            for product in json_product:\n",
    "                writer.writerow(list(product.values()))\n",
    "\n",
    "    def output(self):\n",
    "        return luigi.LocalTarget('/tmp/qqp/{0}/data.csv'.format(self.producto))\n",
    "\n",
    "\n",
    "class InsertDataInDataBase(CopyToTable):\n",
    "    producto = luigi.Parameter()\n",
    "    host = os.environ.get('DB_HOST', '0.0.0.0:5433')\n",
    "    database = os.environ.get('DB_DATABASE', 'QQP')\n",
    "    user = os.environ.get('DB_USER', 'QQP')\n",
    "    password = os.environ.get('DB_PASSWORD', 'q1q2p')\n",
    "    port = os.environ.get('DB_PORT', 5433)\n",
    "    table = os.environ.get('DB_TABLE','PRODUCTO')\n",
    "    update_id = str(int(round(time.time() * 1000) * random.random()))\n",
    "    column_separator = \"|\"\n",
    "\n",
    "    @property\n",
    "    def columns(self):\n",
    "        with open('/tmp/qqp/{0}/headers.csv'.format(self.producto), 'r') as header_file:\n",
    "            return json.load(header_file)\n",
    "\n",
    "    def requires(self):\n",
    "        return ConvertJSONToCSV(self.producto)\n",
    "\n",
    "\n",
    "class DropAggTableIfExists(PostgresQuery):\n",
    "    producto = luigi.Parameter()\n",
    "    host = os.environ.get('DB_HOST', '0.0.0.0:5433')\n",
    "    database = os.environ.get('DB_DATABASE', 'QQP')\n",
    "    user = os.environ.get('DB_USER', 'QQP')\n",
    "    password = os.environ.get('DB_PASSWORD', 'q1q2p')\n",
    "    port = os.environ.get('DB_PORT', 5433)\n",
    "    table = os.environ.get('DB_TABLE','PRODUCTO')\n",
    "    update_id = str(int(round(time.time() * 1000) * random.random()))\n",
    "\n",
    "    @property\n",
    "    def query(self):\n",
    "        return \"DROP TABLE IF EXISTS agg_{0};\".format(self.producto.lower().replace(' ', '_'))\n",
    "\n",
    "    def requires(self):\n",
    "        return InsertDataInDataBase(self.producto)\n",
    "\n",
    "\n",
    "class AggretateByState(PostgresQuery):\n",
    "    producto = luigi.Parameter()\n",
    "    host = os.environ.get('DB_HOST', '0.0.0.0:5433')\n",
    "    database = os.environ.get('DB_DATABASE', 'QQP')\n",
    "    user = os.environ.get('DB_USER', 'QQP')\n",
    "    password = os.environ.get('DB_PASSWORD', 'q1q2p')\n",
    "    port = os.environ.get('DB_PORT', 5433)\n",
    "    table = os.environ.get('DB_TABLE','PRODUCTO')\n",
    "    update_id = str(int(round(time.time() * 1000) * random.random() ))\n",
    "\n",
    "    @property\n",
    "    def query(self):\n",
    "        return \"SELECT AVG(precio), cadenaComercial INTO agg_{0} FROM PRODUCTO GROUP BY cadenaComercial;\".format(self.producto.lower().replace(' ', '_'))\n",
    "\n",
    "    def requires(self):\n",
    "        return DropAggTableIfExists(self.producto)\n",
    "\n",
    "\n",
    "class StartPipeline(luigi.Task):\n",
    "    producto = luigi.Parameter()\n",
    "\n",
    "    def requires(self):\n",
    "        return AggretateByState(self.producto)\n"
   ]
  },
  {
   "cell_type": "code",
   "execution_count": 1,
   "metadata": {
    "collapsed": true
   },
   "outputs": [],
   "source": [
    "import botocore"
   ]
  },
  {
   "cell_type": "markdown",
   "metadata": {},
   "source": []
  }
 ],
 "metadata": {
  "kernelspec": {
   "display_name": "Python 3",
   "language": "python",
   "name": "python3"
  },
  "language_info": {
   "codemirror_mode": {
    "name": "ipython",
    "version": 3
   },
   "file_extension": ".py",
   "mimetype": "text/x-python",
   "name": "python",
   "nbconvert_exporter": "python",
   "pygments_lexer": "ipython3",
   "version": "3.5.4"
  }
 },
 "nbformat": 4,
 "nbformat_minor": 2
}
