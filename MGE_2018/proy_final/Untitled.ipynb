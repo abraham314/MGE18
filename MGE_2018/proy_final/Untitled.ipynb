{
 "cells": [
  {
   "cell_type": "code",
   "execution_count": 1,
   "metadata": {
    "collapsed": true
   },
   "outputs": [],
   "source": [
    "import findspark \n",
    "findspark.init('/home/abraham/spark-2.2.1-bin-hadoop2.7') \n",
    "import pyspark\n",
    "import os\n",
    "import sys\n",
    "from pyspark.sql import SQLContext\n",
    "from pyspark import SparkContext\n",
    "sc =SparkContext()\n",
    "sqlContext = SQLContext(sc) \n",
    "from pyspark.sql import SparkSession \n",
    "spark = SparkSession.builder.appName('cruise').getOrCreate() \n",
    "flights = spark.read.csv('defun_2016.csv',inferSchema=True,header=True)"
   ]
  },
  {
   "cell_type": "code",
   "execution_count": 2,
   "metadata": {},
   "outputs": [
    {
     "data": {
      "text/plain": [
       "685766"
      ]
     },
     "execution_count": 2,
     "metadata": {},
     "output_type": "execute_result"
    }
   ],
   "source": [
    "flights.count()"
   ]
  },
  {
   "cell_type": "code",
   "execution_count": 3,
   "metadata": {},
   "outputs": [
    {
     "data": {
      "text/plain": [
       "DataFrame[ent_regis: double, mun_regis: double, ent_resid: double, mun_resid: double, tloc_resid: int, loc_resid: double, ent_ocurr: double, mun_ocurr: double, tloc_ocurr: int, loc_ocurr: double, causa_def: string, lista_mex: string, sexo: int, edad: int, dia_ocurr: int, mes_ocurr: int, anio_ocur: int, dia_regis: int, mes_regis: int, anio_regis: int, dia_nacim: int, mes_nacim: int, anio_nacim: int, ocupacion: int, escolarida: int, edo_civil: int, presunto: int, ocurr_trab: int, lugar_ocur: int, necropsia: int, asist_medi: int, sitio_ocur: int, cond_cert: int, nacionalid: int, derechohab: int, embarazo: int, rel_emba: int, horas: int, minutos: int, capitulo: int, grupo: int, lista1: int, gr_lismex: string, vio_fami: int, area_ur: int, edad_agru: int, complicaro: int, dia_cert: int, mes_cert: int, anio_cert: int, maternas: string, lengua: int, cond_act: int, par_agre: int, ent_ocules: double, mun_ocules: double, loc_ocules: double, razon_m: int, dis_re_oax: double]"
      ]
     },
     "execution_count": 3,
     "metadata": {},
     "output_type": "execute_result"
    }
   ],
   "source": [
    "flights"
   ]
  },
  {
   "cell_type": "code",
   "execution_count": 11,
   "metadata": {},
   "outputs": [
    {
     "name": "stdout",
     "output_type": "stream",
     "text": [
      "+---------+-----+\n",
      "|mes_ocurr|count|\n",
      "+---------+-----+\n",
      "|        1|64821|\n",
      "|        2|63944|\n",
      "|        3|62305|\n",
      "|        4|53451|\n",
      "|        5|56291|\n",
      "|        6|51637|\n",
      "|        7|54591|\n",
      "|        8|54415|\n",
      "|        9|52563|\n",
      "|       10|55145|\n",
      "|       11|55708|\n",
      "|       12|60539|\n",
      "|       99|  356|\n",
      "+---------+-----+\n",
      "\n"
     ]
    }
   ],
   "source": [
    "from pyspark.sql.functions import desc\n",
    "flights.select('mes_ocurr').groupby('mes_ocurr').count().sort('mes_ocurr').show()"
   ]
  },
  {
   "cell_type": "code",
   "execution_count": 12,
   "metadata": {},
   "outputs": [
    {
     "name": "stdout",
     "output_type": "stream",
     "text": [
      "+--------+------+\n",
      "|vio_fami| count|\n",
      "+--------+------+\n",
      "|       1|   165|\n",
      "|       2|   459|\n",
      "|       8|661207|\n",
      "|       9| 23935|\n",
      "+--------+------+\n",
      "\n"
     ]
    }
   ],
   "source": [
    "flights.select('vio_fami').groupby('vio_fami').count().sort('vio_fami').show()"
   ]
  },
  {
   "cell_type": "code",
   "execution_count": null,
   "metadata": {
    "collapsed": true
   },
   "outputs": [],
   "source": []
  }
 ],
 "metadata": {
  "kernelspec": {
   "display_name": "Python 3",
   "language": "python",
   "name": "python3"
  },
  "language_info": {
   "codemirror_mode": {
    "name": "ipython",
    "version": 3
   },
   "file_extension": ".py",
   "mimetype": "text/x-python",
   "name": "python",
   "nbconvert_exporter": "python",
   "pygments_lexer": "ipython3",
   "version": "3.5.4"
  }
 },
 "nbformat": 4,
 "nbformat_minor": 2
}
