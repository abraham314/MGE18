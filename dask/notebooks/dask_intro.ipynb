{
 "cells": [
  {
   "cell_type": "markdown",
   "metadata": {},
   "source": [
    "# Introducción a Dask\n",
    "\n",
    "Dask es una biblioteca de python diseñada para cómputo científico/analítico en gran escala. Existen dos grandes componentes de  Dask:\n",
    "\n",
    "1. **Cómputo de tareas**: Para ejecutar un _workflow_ o _pipeline_ de tareas en paralelo. Esto es similar a Airflow o Luigi, pero de \"bajo nivel\".\n",
    "2. **Grandes datos**: Datos que no quepan en memoria o no se puedan procesar cómodamente en una computadora personal. Dask provee una solución similar a Spark, pero con sintáxis de pandas/numpy. Este componente está construido sobre el anterior\n",
    "\n",
    "## ¿Por qué Dask?\n",
    "\n",
    "![](resources/growth.png)\n",
    "\n",
    "* API Familiar (parecido a numpy/pandas)\n",
    "* Python no es un extra \n",
    "* Escala fácilmente y de manera flexible\n",
    "* Desarrollo constante \n",
    "* Comunidad activa\n",
    "\n",
    "## Dask vs Spark\n",
    "\n",
    "### Lenguaje\n",
    "* Spark está escrito en Scala con soporte (secundario) para Python y R. Puede utilizar código para la JVM\n",
    "* Dask está escrito en Python y sólo soporta Python. Puede utilizar código de C/C++/Fortran a través de las integraciones con Python\n",
    "\n",
    "### Ecosistema\n",
    "* Spark es parte de un ecosistema inspirado en el (Sparkling Water, Spark ML, etc). \"Juega bonito\" con otros proyectos de Apache\n",
    "* Dask es parte del ecosistema Python. \"Juega bonito\" con otras librerías de Python como pandas, numpy, etc\n",
    "\n",
    "### Edad y Confianza\n",
    "* Spark es más viejo y maduro (2010), y por lo tanto se ha ganado un lugar en la industria\n",
    "* Dask es más joven (2014) y en desarrollo constante, pero intenta ser una extensión de otras librerías confiables como numpy/pandas\n",
    "\n",
    "### Alcance\n",
    "* Spark está diseñado para trabajar con abstracciones de alto nivel. Tareas típicas de BI y queries SQL son sus principales casos de uso\n",
    "* Dask está pensado para trabajar a un nivel más bajo. Paralelizar y ejecutar tareas arbitrarias es uno de sus objetivos, aunque también incluye algunas abstracciones de alto nivel.\n",
    "\n",
    "### Escoge Spark si...\n",
    "* Prefieres Scala o SQL\n",
    "* Necesitas operar con código basado en la JVM\n",
    "* Quieres una solución establecida y robusta para producción\n",
    "* Necesitas programar ETLs sencillos\n",
    "* Principalmente realizas tareas de BI con un poco de ML\n",
    "\n",
    "### Escoge Dask si...\n",
    "* Prefieres Python o código nativo (C/Fortran)\n",
    "* Tu caso de uso es complejo y no es fácil de manejar en Spark\n",
    "* Prefieres un proyecto más ligero que te permita realizar cómputo en paralelo\n"
   ]
  },
  {
   "cell_type": "markdown",
   "metadata": {},
   "source": [
    "## Conéctandonos al cluster"
   ]
  },
  {
   "cell_type": "markdown",
   "metadata": {},
   "source": [
    "La manera de distribuir trabajo en Dask es similar a Spark. Tenemos un sólo _scheduler_ que se encarga de agendar las tareas y distribuirlas a los _workers_ activos. Esto nos permite escalar a cientos de CPUs.\n",
    "\n",
    "![](resources/workers.png)\n",
    "\n",
    "Dask también nos permite monitorear recursos del sistema\n",
    "\n",
    "![](resources/system.png)\n",
    "\n",
    "También nos permite monitorear la ejecución de tareas\n",
    "\n",
    "![](resources/task_stream.png)\n",
    "\n",
    "Al igual que en Spark, podemos crear un cliente dirigiéndonos simplemente a la dirección del _scheduler_"
   ]
  },
  {
   "cell_type": "code",
   "execution_count": 1,
   "metadata": {},
   "outputs": [],
   "source": [
    "from dask.distributed import Client\n",
    "\n",
    "client = Client(\"scheduler:8786\")"
   ]
  },
  {
   "cell_type": "markdown",
   "metadata": {},
   "source": [
    "* Entrar a http://localhost:8787\n",
    "* Verificar que existe al menos un _worker_\n",
    "* Verificar que el cliente está conectado usando los logs `docker-compose logs -f scheduler`"
   ]
  },
  {
   "cell_type": "markdown",
   "metadata": {},
   "source": [
    "## Computo _Lazy_ y en paralelo\n",
    "\n"
   ]
  },
  {
   "cell_type": "markdown",
   "metadata": {},
   "source": [
    "Con Dask podemos generar una \"receta\" para la ejecución de tareas, sin ejecutarla en ese momento. Esto nos permite no \"bloquear\" nuestro programa y es lo que permite la paralelización"
   ]
  },
  {
   "cell_type": "code",
   "execution_count": 2,
   "metadata": {},
   "outputs": [
    {
     "data": {
      "text/plain": [
       "Delayed('add-b52370a1-fd02-44f1-9cd4-9f7d00e28302')"
      ]
     },
     "execution_count": 2,
     "metadata": {},
     "output_type": "execute_result"
    }
   ],
   "source": [
    "from dask import delayed\n",
    "\n",
    "# Decoramos nuestras funciones con `delayed`, para indicar que no se deben ejecutar en este momento\n",
    "\n",
    "@delayed\n",
    "def inc1(x):\n",
    "    return x + 1\n",
    "\n",
    "\n",
    "@delayed\n",
    "def mul2(x):\n",
    "    return x*2\n",
    "\n",
    "\n",
    "@delayed\n",
    "def add(x, y):\n",
    "    return x + y\n",
    "\n",
    "# Creamos la \"receta\" de ejecución\n",
    "x = inc1(15)\n",
    "y = mul2(7)\n",
    "total = add(x, y)\n",
    "total"
   ]
  },
  {
   "cell_type": "code",
   "execution_count": 3,
   "metadata": {},
   "outputs": [
    {
     "data": {
      "image/png": "[encoded data removed]",
      "text/plain": [
       "<IPython.core.display.Image object>"
      ]
     },
     "execution_count": 3,
     "metadata": {},
     "output_type": "execute_result"
    }
   ],
   "source": [
    "# Podemos visualizar el grafo de tareas generado por esta receta\n",
    "total.visualize()"
   ]
  },
  {
   "cell_type": "code",
   "execution_count": 4,
   "metadata": {},
   "outputs": [
    {
     "name": "stdout",
     "output_type": "stream",
     "text": [
      "30\n"
     ]
    },
    {
     "data": {
      "text/plain": [
       "30"
      ]
     },
     "execution_count": 4,
     "metadata": {},
     "output_type": "execute_result"
    }
   ],
   "source": [
    "# Realizamos el cómputo de la tarea\n",
    "result = total.compute()\n",
    "print(result)\n",
    "\n",
    "# O bien, lo realizamos de manera remota \n",
    "computed = client.compute(total) # Esto no bloquea\n",
    "computed.result()"
   ]
  },
  {
   "cell_type": "code",
   "execution_count": 5,
   "metadata": {},
   "outputs": [
    {
     "name": "stdout",
     "output_type": "stream",
     "text": [
      "Sequential:\n",
      "CPU times: user 1.68 s, sys: 101 ms, total: 1.78 s\n",
      "Wall time: 1.78 s\n",
      "Parallel:\n",
      "CPU times: user 4.92 ms, sys: 4.32 ms, total: 9.24 ms\n",
      "Wall time: 723 ms\n"
     ]
    },
    {
     "data": {
      "text/plain": [
       "18.253194951301033"
      ]
     },
     "execution_count": 5,
     "metadata": {},
     "output_type": "execute_result"
    }
   ],
   "source": [
    "import numpy as np\n",
    "\n",
    "def sequential(s):\n",
    "    a = np.random.normal(0, 1, s)\n",
    "    b = np.random.normal(5, 3, s)\n",
    "    c = np.random.normal(7, 2, s)\n",
    "    \n",
    "    return np.percentile(a, 80) + np.percentile(b, 60) + np.percentile(c, 99)\n",
    "\n",
    "delayed_normal = delayed(np.random.normal)\n",
    "delayed_percentile = delayed(np.percentile)\n",
    "def in_parallel(s):\n",
    "    a = delayed_normal(0, 1, s)\n",
    "    b = delayed_normal(5, 3, s)\n",
    "    c = delayed_normal(7, 2, s)\n",
    "\n",
    "    return (delayed_percentile(a, 80) + delayed_percentile(b, 60) + delayed_percentile(c, 99)).compute()\n",
    "\n",
    "print(\"Sequential:\")\n",
    "%time sequential(int(1e7))\n",
    "\n",
    "print(\"Parallel:\")\n",
    "%time in_parallel(int(1e7))"
   ]
  },
  {
   "cell_type": "markdown",
   "metadata": {},
   "source": [
    "* ¿Cómo cambia este resultado con el parámetro de tamaño `s`? ¿Por qué?\n",
    "* ¿Cómo cambiarías la función para usar ciclos y parámetros (de la normal y percentiles)?"
   ]
  },
  {
   "cell_type": "code",
   "execution_count": 6,
   "metadata": {},
   "outputs": [],
   "source": [
    "# Ejercicio: escribe una función para checar si un número es primo y pruébala con los sig. numeros. \n",
    "#  Después, ejecuta el ciclo en paralelo y compara el tiempo de ejecución de ambos métodos\n",
    "\n",
    "nums = [7961147, 1627785787, 402938420121, 2093482093844387, 211236347099, 3718687359123, 871144421117, 650280751121]\n",
    "def is_prime(n):\n",
    "    '''Checa si n es primo o no'''\n",
    "    # Hint: sólo tienes que checar los factores hasta la raíz cuadrada de n\n",
    "    return False\n",
    "\n"
   ]
  },
  {
   "cell_type": "markdown",
   "metadata": {},
   "source": [
    "## _Bags_\n",
    "\n",
    "Los _bags_ de Dask están diseñados para lidiar con datos semi-estructurados o no estructurados (e.g. documentos JSON, texto plano). Son análogos a los RDD de Spark y proveen una abstracción a los conceptos de `map`, `filter`, etc."
   ]
  },
  {
   "cell_type": "code",
   "execution_count": 7,
   "metadata": {},
   "outputs": [
    {
     "name": "stdout",
     "output_type": "stream",
     "text": [
      "('{\"trips\": [{\"tpep_pickup_datetime\": \"2015-01-03 01:17:32\", \"trip_distance\": 6.9, \"tip_amount\": 4.6, \"tpep_dropoff_datetime\": \"2015-01-03 01:37:02\", \"passenger_count\": 1, \"fare_amount\": 22.0}, {\"tpep_pickup_datetime\": \"2015-01-05 23:25:15\", \"trip_distance\": 1.81, \"tip_amount\": 0.0, \"tpep_dropoff_datetime\": \"2015-01-05 23:35:02\", \"passenger_count\": 1, \"fare_amount\": 9.0}, {\"tpep_pickup_datetime\": \"2015-01-06 15:11:45\", \"trip_distance\": 0.96, \"tip_amount\": 1.0, \"tpep_dropoff_datetime\": \"2015-01-06 15:22:12\", \"passenger_count\": 1, \"fare_amount\": 7.5}, {\"tpep_pickup_datetime\": \"2015-01-08 08:22:12\", \"trip_distance\": 1.9, \"tip_amount\": 1.0, \"tpep_dropoff_datetime\": \"2015-01-08 08:31:23\", \"passenger_count\": 1, \"fare_amount\": 8.5}, {\"tpep_pickup_datetime\": \"2015-01-08 12:26:26\", \"trip_distance\": 1.0, \"tip_amount\": 1.66, \"tpep_dropoff_datetime\": \"2015-01-08 12:35:54\", \"passenger_count\": 1, \"fare_amount\": 7.5}, {\"tpep_pickup_datetime\": \"2015-01-10 21:51:09\", \"trip_distance\": 1.71, \"tip_amount\": 1.5, \"tpep_dropoff_datetime\": \"2015-01-10 22:02:13\", \"passenger_count\": 5, \"fare_amount\": 9.5}, {\"tpep_pickup_datetime\": \"2015-01-15 09:04:01\", \"trip_distance\": 1.27, \"tip_amount\": 1.5, \"tpep_dropoff_datetime\": \"2015-01-15 09:14:21\", \"passenger_count\": 1, \"fare_amount\": 8.0}, {\"tpep_pickup_datetime\": \"2015-01-16 00:31:11\", \"trip_distance\": 1.55, \"tip_amount\": 1.6, \"tpep_dropoff_datetime\": \"2015-01-16 00:39:12\", \"passenger_count\": 4, \"fare_amount\": 7.5}, {\"tpep_pickup_datetime\": \"2015-01-20 18:58:23\", \"trip_distance\": 0.54, \"tip_amount\": 1.56, \"tpep_dropoff_datetime\": \"2015-01-20 19:05:28\", \"passenger_count\": 5, \"fare_amount\": 6.0}, {\"tpep_pickup_datetime\": \"2015-01-20 19:59:55\", \"trip_distance\": 15.38, \"tip_amount\": 30.0, \"tpep_dropoff_datetime\": \"2015-01-20 20:31:05\", \"passenger_count\": 1, \"fare_amount\": 52.0}, {\"tpep_pickup_datetime\": \"2015-01-22 17:38:52\", \"trip_distance\": 7.36, \"tip_amount\": 3.0, \"tpep_dropoff_datetime\": \"2015-01-22 18:17:11\", \"passenger_count\": 5, \"fare_amount\": 28.5}, {\"tpep_pickup_datetime\": \"2015-01-23 19:46:45\", \"trip_distance\": 7.8, \"tip_amount\": 5.0, \"tpep_dropoff_datetime\": \"2015-01-23 20:27:31\", \"passenger_count\": 1, \"fare_amount\": 32.0}, {\"tpep_pickup_datetime\": \"2015-01-24 12:04:29\", \"trip_distance\": 3.6, \"tip_amount\": 0.0, \"tpep_dropoff_datetime\": \"2015-01-24 12:21:53\", \"passenger_count\": 1, \"fare_amount\": 14.0}, {\"tpep_pickup_datetime\": \"2015-01-25 00:13:06\", \"trip_distance\": 3.37, \"tip_amount\": 0.0, \"tpep_dropoff_datetime\": \"2015-01-25 00:24:51\", \"passenger_count\": 1, \"fare_amount\": 12.5}, {\"tpep_pickup_datetime\": \"2015-01-27 16:20:26\", \"trip_distance\": 3.28, \"tip_amount\": 1.5, \"tpep_dropoff_datetime\": \"2015-01-27 16:36:35\", \"passenger_count\": 1, \"fare_amount\": 14.0}, {\"tpep_pickup_datetime\": \"2015-01-28 10:50:01\", \"trip_distance\": 0.6, \"tip_amount\": 0.0, \"tpep_dropoff_datetime\": \"2015-01-28 10:55:55\", \"passenger_count\": 1, \"fare_amount\": 5.5}, {\"tpep_pickup_datetime\": \"2015-01-28 20:22:17\", \"trip_distance\": 2.1, \"tip_amount\": 2.35, \"tpep_dropoff_datetime\": \"2015-01-28 20:35:43\", \"passenger_count\": 3, \"fare_amount\": 10.5}], \"taxi_id\": 1, \"car_type\": \"A\"}\\n',)\n"
     ]
    }
   ],
   "source": [
    "from dask import bag\n",
    "\n",
    "taxis = bag.read_text(\"/data/taxis.json\")\n",
    "\n",
    "# Cada línea es un JSON en texto\n",
    "print(taxis.take(1))"
   ]
  },
  {
   "cell_type": "code",
   "execution_count": 8,
   "metadata": {},
   "outputs": [
    {
     "data": {
      "text/plain": [
       "({'car_type': 'A',\n",
       "  'taxi_id': 1,\n",
       "  'trips': [{'fare_amount': 22.0,\n",
       "    'passenger_count': 1,\n",
       "    'tip_amount': 4.6,\n",
       "    'tpep_dropoff_datetime': '2015-01-03 01:37:02',\n",
       "    'tpep_pickup_datetime': '2015-01-03 01:17:32',\n",
       "    'trip_distance': 6.9},\n",
       "   {'fare_amount': 9.0,\n",
       "    'passenger_count': 1,\n",
       "    'tip_amount': 0.0,\n",
       "    'tpep_dropoff_datetime': '2015-01-05 23:35:02',\n",
       "    'tpep_pickup_datetime': '2015-01-05 23:25:15',\n",
       "    'trip_distance': 1.81},\n",
       "   {'fare_amount': 7.5,\n",
       "    'passenger_count': 1,\n",
       "    'tip_amount': 1.0,\n",
       "    'tpep_dropoff_datetime': '2015-01-06 15:22:12',\n",
       "    'tpep_pickup_datetime': '2015-01-06 15:11:45',\n",
       "    'trip_distance': 0.96},\n",
       "   {'fare_amount': 8.5,\n",
       "    'passenger_count': 1,\n",
       "    'tip_amount': 1.0,\n",
       "    'tpep_dropoff_datetime': '2015-01-08 08:31:23',\n",
       "    'tpep_pickup_datetime': '2015-01-08 08:22:12',\n",
       "    'trip_distance': 1.9},\n",
       "   {'fare_amount': 7.5,\n",
       "    'passenger_count': 1,\n",
       "    'tip_amount': 1.66,\n",
       "    'tpep_dropoff_datetime': '2015-01-08 12:35:54',\n",
       "    'tpep_pickup_datetime': '2015-01-08 12:26:26',\n",
       "    'trip_distance': 1.0},\n",
       "   {'fare_amount': 9.5,\n",
       "    'passenger_count': 5,\n",
       "    'tip_amount': 1.5,\n",
       "    'tpep_dropoff_datetime': '2015-01-10 22:02:13',\n",
       "    'tpep_pickup_datetime': '2015-01-10 21:51:09',\n",
       "    'trip_distance': 1.71},\n",
       "   {'fare_amount': 8.0,\n",
       "    'passenger_count': 1,\n",
       "    'tip_amount': 1.5,\n",
       "    'tpep_dropoff_datetime': '2015-01-15 09:14:21',\n",
       "    'tpep_pickup_datetime': '2015-01-15 09:04:01',\n",
       "    'trip_distance': 1.27},\n",
       "   {'fare_amount': 7.5,\n",
       "    'passenger_count': 4,\n",
       "    'tip_amount': 1.6,\n",
       "    'tpep_dropoff_datetime': '2015-01-16 00:39:12',\n",
       "    'tpep_pickup_datetime': '2015-01-16 00:31:11',\n",
       "    'trip_distance': 1.55},\n",
       "   {'fare_amount': 6.0,\n",
       "    'passenger_count': 5,\n",
       "    'tip_amount': 1.56,\n",
       "    'tpep_dropoff_datetime': '2015-01-20 19:05:28',\n",
       "    'tpep_pickup_datetime': '2015-01-20 18:58:23',\n",
       "    'trip_distance': 0.54},\n",
       "   {'fare_amount': 52.0,\n",
       "    'passenger_count': 1,\n",
       "    'tip_amount': 30.0,\n",
       "    'tpep_dropoff_datetime': '2015-01-20 20:31:05',\n",
       "    'tpep_pickup_datetime': '2015-01-20 19:59:55',\n",
       "    'trip_distance': 15.38},\n",
       "   {'fare_amount': 28.5,\n",
       "    'passenger_count': 5,\n",
       "    'tip_amount': 3.0,\n",
       "    'tpep_dropoff_datetime': '2015-01-22 18:17:11',\n",
       "    'tpep_pickup_datetime': '2015-01-22 17:38:52',\n",
       "    'trip_distance': 7.36},\n",
       "   {'fare_amount': 32.0,\n",
       "    'passenger_count': 1,\n",
       "    'tip_amount': 5.0,\n",
       "    'tpep_dropoff_datetime': '2015-01-23 20:27:31',\n",
       "    'tpep_pickup_datetime': '2015-01-23 19:46:45',\n",
       "    'trip_distance': 7.8},\n",
       "   {'fare_amount': 14.0,\n",
       "    'passenger_count': 1,\n",
       "    'tip_amount': 0.0,\n",
       "    'tpep_dropoff_datetime': '2015-01-24 12:21:53',\n",
       "    'tpep_pickup_datetime': '2015-01-24 12:04:29',\n",
       "    'trip_distance': 3.6},\n",
       "   {'fare_amount': 12.5,\n",
       "    'passenger_count': 1,\n",
       "    'tip_amount': 0.0,\n",
       "    'tpep_dropoff_datetime': '2015-01-25 00:24:51',\n",
       "    'tpep_pickup_datetime': '2015-01-25 00:13:06',\n",
       "    'trip_distance': 3.37},\n",
       "   {'fare_amount': 14.0,\n",
       "    'passenger_count': 1,\n",
       "    'tip_amount': 1.5,\n",
       "    'tpep_dropoff_datetime': '2015-01-27 16:36:35',\n",
       "    'tpep_pickup_datetime': '2015-01-27 16:20:26',\n",
       "    'trip_distance': 3.28},\n",
       "   {'fare_amount': 5.5,\n",
       "    'passenger_count': 1,\n",
       "    'tip_amount': 0.0,\n",
       "    'tpep_dropoff_datetime': '2015-01-28 10:55:55',\n",
       "    'tpep_pickup_datetime': '2015-01-28 10:50:01',\n",
       "    'trip_distance': 0.6},\n",
       "   {'fare_amount': 10.5,\n",
       "    'passenger_count': 3,\n",
       "    'tip_amount': 2.35,\n",
       "    'tpep_dropoff_datetime': '2015-01-28 20:35:43',\n",
       "    'tpep_pickup_datetime': '2015-01-28 20:22:17',\n",
       "    'trip_distance': 2.1}]},)"
      ]
     },
     "execution_count": 8,
     "metadata": {},
     "output_type": "execute_result"
    }
   ],
   "source": [
    "import json\n",
    "taxis = taxis.map(json.loads) # Lazy!\n",
    "taxis.take(1) #Sólo ejecuta un `json.loads`"
   ]
  },
  {
   "cell_type": "code",
   "execution_count": 9,
   "metadata": {},
   "outputs": [
    {
     "name": "stdout",
     "output_type": "stream",
     "text": [
      "Autos tipo B: 297\n",
      "Primeros 10 ids: (1, 2, 3, 4, 5, 6, 7, 8, 9, 10)\n"
     ]
    }
   ],
   "source": [
    "# Filter\n",
    "b_type = taxis.filter(lambda d: d[\"car_type\"] == \"B\")\n",
    "print(\"Autos tipo B: {}\".format(b_type.count().compute()))\n",
    "\n",
    "# Pluck\n",
    "print(\"Primeros 10 ids: {}\".format(taxis.pluck(\"taxi_id\").take(10)))"
   ]
  },
  {
   "cell_type": "code",
   "execution_count": 10,
   "metadata": {},
   "outputs": [
    {
     "data": {
      "text/plain": [
       "({'fare_amount': 22.0,\n",
       "  'passenger_count': 1,\n",
       "  'tip_amount': 4.6,\n",
       "  'tpep_dropoff_datetime': '2015-01-03 01:37:02',\n",
       "  'tpep_pickup_datetime': '2015-01-03 01:17:32',\n",
       "  'trip_distance': 6.9},\n",
       " {'fare_amount': 9.0,\n",
       "  'passenger_count': 1,\n",
       "  'tip_amount': 0.0,\n",
       "  'tpep_dropoff_datetime': '2015-01-05 23:35:02',\n",
       "  'tpep_pickup_datetime': '2015-01-05 23:25:15',\n",
       "  'trip_distance': 1.81})"
      ]
     },
     "execution_count": 10,
     "metadata": {},
     "output_type": "execute_result"
    }
   ],
   "source": [
    "# Aplasta\n",
    "trips = taxis.pluck(\"trips\").flatten()\n",
    "trips.take(2)"
   ]
  },
  {
   "cell_type": "code",
   "execution_count": 11,
   "metadata": {},
   "outputs": [
    {
     "data": {
      "text/plain": [
       "11.864121548162636"
      ]
     },
     "execution_count": 11,
     "metadata": {},
     "output_type": "execute_result"
    }
   ],
   "source": [
    "# Algunas operaciones se pueden aplicar directamente\n",
    "(trips.pluck(\"fare_amount\")\n",
    "      .mean()\n",
    "      .compute())"
   ]
  },
  {
   "cell_type": "markdown",
   "metadata": {},
   "source": [
    "### Group By\n",
    "Agrupa los elementos del bag de acuerdo a la evaluación de alguna función \"llave\""
   ]
  },
  {
   "cell_type": "code",
   "execution_count": 12,
   "metadata": {},
   "outputs": [
    {
     "data": {
      "text/plain": [
       "[(1, [1, 3, 5, 7, 9]), (0, [0, 2, 4, 6, 8])]"
      ]
     },
     "execution_count": 12,
     "metadata": {},
     "output_type": "execute_result"
    }
   ],
   "source": [
    "b = bag.from_sequence(list(range(10)))\n",
    "b.groupby(lambda x: x % 2).compute()"
   ]
  },
  {
   "cell_type": "markdown",
   "metadata": {},
   "source": [
    "### Fold By\n",
    "\n",
    "Agrupa y **reduce** de acuerdo a la evaluación de alguna función. Cumple un propósito similar a `reduceByKey` o `combineByKey` de Spark.\n",
    "\n",
    "Necesita 3 cosas:\n",
    "\n",
    "1. Una función \"llave\" para agrupar los elementos\n",
    "2. Una función binaria para reducir elementos por pares\n",
    "3. Una función binaria para reducir el resultado de dos reducciones"
   ]
  },
  {
   "cell_type": "code",
   "execution_count": 13,
   "metadata": {},
   "outputs": [
    {
     "name": "stdout",
     "output_type": "stream",
     "text": [
      "CPU times: user 9.42 ms, sys: 401 µs, total: 9.82 ms\n",
      "Wall time: 49.3 ms\n"
     ]
    }
   ],
   "source": [
    "%%time\n",
    "\n",
    "def incr(x, y):\n",
    "    return x + 1\n",
    "\n",
    "def add(x, y):\n",
    "    return x + y\n",
    "\n",
    "(trips.foldby(key=lambda x: x[\"tip_amount\"] > 10, # Si el tip es > 10 o no\n",
    "              binop=incr, # Incrementa 1 por obs\n",
    "              initial=0, \n",
    "              combine=add, # Suma cada cuenta\n",
    "              combine_initial=0)\n",
    "       .compute())"
   ]
  },
  {
   "cell_type": "code",
   "execution_count": 14,
   "metadata": {},
   "outputs": [
    {
     "name": "stdout",
     "output_type": "stream",
     "text": [
      "CPU times: user 213 ms, sys: 17.1 ms, total: 230 ms\n",
      "Wall time: 484 ms\n"
     ]
    },
    {
     "data": {
      "text/plain": [
       "[(False, 9082), (True, 116)]"
      ]
     },
     "execution_count": 14,
     "metadata": {},
     "output_type": "execute_result"
    }
   ],
   "source": [
    "%%time\n",
    "\n",
    "(trips.groupby(grouper=lambda x: x[\"tip_amount\"] > 10, method=\"disk\")\n",
    "      .starmap(lambda k, v: (k, len(v)))\n",
    "      .compute())"
   ]
  },
  {
   "cell_type": "markdown",
   "metadata": {},
   "source": [
    "¿Por qué es tan lento `groupby` comparado con `foldby`?"
   ]
  },
  {
   "cell_type": "code",
   "execution_count": 16,
   "metadata": {},
   "outputs": [
    {
     "data": {
      "text/html": [
       "<div>\n",
       "<style scoped>\n",
       "    .dataframe tbody tr th:only-of-type {\n",
       "        vertical-align: middle;\n",
       "    }\n",
       "\n",
       "    .dataframe tbody tr th {\n",
       "        vertical-align: top;\n",
       "    }\n",
       "\n",
       "    .dataframe thead th {\n",
       "        text-align: right;\n",
       "    }\n",
       "</style>\n",
       "<table border=\"1\" class=\"dataframe\">\n",
       "  <thead>\n",
       "    <tr style=\"text-align: right;\">\n",
       "      <th></th>\n",
       "      <th>car_type</th>\n",
       "      <th>fare_amount</th>\n",
       "      <th>passenger_count</th>\n",
       "      <th>taxi_id</th>\n",
       "      <th>tip_amount</th>\n",
       "      <th>tpep_dropoff_datetime</th>\n",
       "      <th>tpep_pickup_datetime</th>\n",
       "      <th>trip_distance</th>\n",
       "    </tr>\n",
       "  </thead>\n",
       "  <tbody>\n",
       "    <tr>\n",
       "      <th>0</th>\n",
       "      <td>A</td>\n",
       "      <td>22.0</td>\n",
       "      <td>1</td>\n",
       "      <td>1</td>\n",
       "      <td>4.60</td>\n",
       "      <td>2015-01-03 01:37:02</td>\n",
       "      <td>2015-01-03 01:17:32</td>\n",
       "      <td>6.90</td>\n",
       "    </tr>\n",
       "    <tr>\n",
       "      <th>1</th>\n",
       "      <td>A</td>\n",
       "      <td>9.0</td>\n",
       "      <td>1</td>\n",
       "      <td>1</td>\n",
       "      <td>0.00</td>\n",
       "      <td>2015-01-05 23:35:02</td>\n",
       "      <td>2015-01-05 23:25:15</td>\n",
       "      <td>1.81</td>\n",
       "    </tr>\n",
       "    <tr>\n",
       "      <th>2</th>\n",
       "      <td>A</td>\n",
       "      <td>7.5</td>\n",
       "      <td>1</td>\n",
       "      <td>1</td>\n",
       "      <td>1.00</td>\n",
       "      <td>2015-01-06 15:22:12</td>\n",
       "      <td>2015-01-06 15:11:45</td>\n",
       "      <td>0.96</td>\n",
       "    </tr>\n",
       "    <tr>\n",
       "      <th>3</th>\n",
       "      <td>A</td>\n",
       "      <td>8.5</td>\n",
       "      <td>1</td>\n",
       "      <td>1</td>\n",
       "      <td>1.00</td>\n",
       "      <td>2015-01-08 08:31:23</td>\n",
       "      <td>2015-01-08 08:22:12</td>\n",
       "      <td>1.90</td>\n",
       "    </tr>\n",
       "    <tr>\n",
       "      <th>4</th>\n",
       "      <td>A</td>\n",
       "      <td>7.5</td>\n",
       "      <td>1</td>\n",
       "      <td>1</td>\n",
       "      <td>1.66</td>\n",
       "      <td>2015-01-08 12:35:54</td>\n",
       "      <td>2015-01-08 12:26:26</td>\n",
       "      <td>1.00</td>\n",
       "    </tr>\n",
       "  </tbody>\n",
       "</table>\n",
       "</div>"
      ],
      "text/plain": [
       "  car_type  fare_amount  passenger_count  taxi_id  tip_amount  \\\n",
       "0        A         22.0                1        1        4.60   \n",
       "1        A          9.0                1        1        0.00   \n",
       "2        A          7.5                1        1        1.00   \n",
       "3        A          8.5                1        1        1.00   \n",
       "4        A          7.5                1        1        1.66   \n",
       "\n",
       "  tpep_dropoff_datetime tpep_pickup_datetime  trip_distance  \n",
       "0   2015-01-03 01:37:02  2015-01-03 01:17:32           6.90  \n",
       "1   2015-01-05 23:35:02  2015-01-05 23:25:15           1.81  \n",
       "2   2015-01-06 15:22:12  2015-01-06 15:11:45           0.96  \n",
       "3   2015-01-08 08:31:23  2015-01-08 08:22:12           1.90  \n",
       "4   2015-01-08 12:35:54  2015-01-08 12:26:26           1.00  "
      ]
     },
     "execution_count": 16,
     "metadata": {},
     "output_type": "execute_result"
    }
   ],
   "source": [
    "## Ejercicio: Denormalización\n",
    "# Obtener un dataframe de trips a partir de nuestro bag de taxis SIN PERDER la información del taxi\n",
    "# Hint: Una vez que el bag contenga los elementos correctos, usar `my_bag.to_dataframe()`\n",
    "def denorm_trips(taxi_dict):\n",
    "    trips=taxi_dict[\"trips\"]\n",
    "    for t in trips:\n",
    "        t[\"taxi_id\"]=taxi_dict[\"taxi_id\"]\n",
    "        t[\"car_type\"]=taxi_dict[\"car_type\"]\n",
    "\n",
    "    return trips\n",
    "\n",
    "trips_df=(taxis.map(denorm_trips)\n",
    "      .flatten()\n",
    "      .to_dataframe()) \n",
    "\n",
    "trips_df.head()"
   ]
  },
  {
   "cell_type": "markdown",
   "metadata": {},
   "source": [
    "## _Dataframes_"
   ]
  },
  {
   "cell_type": "markdown",
   "metadata": {},
   "source": [
    "El dataframe es un concepto popular en análisis de datos para manejar datos estructurados de manera tabular. Dask implementa una interface (API) de dataframes similar a la de pandas. De hecho, un dataframe de Dask está formado de varios dataframes de pandas en paralelo, y una operación en el dataframe de Dask genera una operación para cada uno de esos dataframes."
   ]
  },
  {
   "cell_type": "code",
   "execution_count": 17,
   "metadata": {},
   "outputs": [
    {
     "data": {
      "text/html": [
       "<div>\n",
       "<style scoped>\n",
       "    .dataframe tbody tr th:only-of-type {\n",
       "        vertical-align: middle;\n",
       "    }\n",
       "\n",
       "    .dataframe tbody tr th {\n",
       "        vertical-align: top;\n",
       "    }\n",
       "\n",
       "    .dataframe thead th {\n",
       "        text-align: right;\n",
       "    }\n",
       "</style>\n",
       "<table border=\"1\" class=\"dataframe\">\n",
       "  <thead>\n",
       "    <tr style=\"text-align: right;\">\n",
       "      <th></th>\n",
       "      <th>car_type</th>\n",
       "      <th>fare_amount</th>\n",
       "      <th>passenger_count</th>\n",
       "      <th>taxi_id</th>\n",
       "      <th>tip_amount</th>\n",
       "      <th>tpep_dropoff_datetime</th>\n",
       "      <th>tpep_pickup_datetime</th>\n",
       "      <th>trip_distance</th>\n",
       "    </tr>\n",
       "  </thead>\n",
       "  <tbody>\n",
       "    <tr>\n",
       "      <th>0</th>\n",
       "      <td>A</td>\n",
       "      <td>22.0</td>\n",
       "      <td>1</td>\n",
       "      <td>1</td>\n",
       "      <td>4.60</td>\n",
       "      <td>2015-01-03 01:37:02</td>\n",
       "      <td>2015-01-03 01:17:32</td>\n",
       "      <td>6.90</td>\n",
       "    </tr>\n",
       "    <tr>\n",
       "      <th>1</th>\n",
       "      <td>A</td>\n",
       "      <td>9.0</td>\n",
       "      <td>1</td>\n",
       "      <td>1</td>\n",
       "      <td>0.00</td>\n",
       "      <td>2015-01-05 23:35:02</td>\n",
       "      <td>2015-01-05 23:25:15</td>\n",
       "      <td>1.81</td>\n",
       "    </tr>\n",
       "    <tr>\n",
       "      <th>2</th>\n",
       "      <td>A</td>\n",
       "      <td>7.5</td>\n",
       "      <td>1</td>\n",
       "      <td>1</td>\n",
       "      <td>1.00</td>\n",
       "      <td>2015-01-06 15:22:12</td>\n",
       "      <td>2015-01-06 15:11:45</td>\n",
       "      <td>0.96</td>\n",
       "    </tr>\n",
       "    <tr>\n",
       "      <th>3</th>\n",
       "      <td>A</td>\n",
       "      <td>8.5</td>\n",
       "      <td>1</td>\n",
       "      <td>1</td>\n",
       "      <td>1.00</td>\n",
       "      <td>2015-01-08 08:31:23</td>\n",
       "      <td>2015-01-08 08:22:12</td>\n",
       "      <td>1.90</td>\n",
       "    </tr>\n",
       "    <tr>\n",
       "      <th>4</th>\n",
       "      <td>A</td>\n",
       "      <td>7.5</td>\n",
       "      <td>1</td>\n",
       "      <td>1</td>\n",
       "      <td>1.66</td>\n",
       "      <td>2015-01-08 12:35:54</td>\n",
       "      <td>2015-01-08 12:26:26</td>\n",
       "      <td>1.00</td>\n",
       "    </tr>\n",
       "  </tbody>\n",
       "</table>\n",
       "</div>"
      ],
      "text/plain": [
       "  car_type  fare_amount  passenger_count  taxi_id  tip_amount  \\\n",
       "0        A         22.0                1        1        4.60   \n",
       "1        A          9.0                1        1        0.00   \n",
       "2        A          7.5                1        1        1.00   \n",
       "3        A          8.5                1        1        1.00   \n",
       "4        A          7.5                1        1        1.66   \n",
       "\n",
       "  tpep_dropoff_datetime tpep_pickup_datetime  trip_distance  \n",
       "0   2015-01-03 01:37:02  2015-01-03 01:17:32           6.90  \n",
       "1   2015-01-05 23:35:02  2015-01-05 23:25:15           1.81  \n",
       "2   2015-01-06 15:22:12  2015-01-06 15:11:45           0.96  \n",
       "3   2015-01-08 08:31:23  2015-01-08 08:22:12           1.90  \n",
       "4   2015-01-08 12:35:54  2015-01-08 12:26:26           1.00  "
      ]
     },
     "execution_count": 17,
     "metadata": {},
     "output_type": "execute_result"
    }
   ],
   "source": [
    "from dask import dataframe\n",
    "trips_df = dataframe.read_csv(\"/data/trips.csv\")\n",
    "trips_df.head()"
   ]
  },
  {
   "cell_type": "code",
   "execution_count": 18,
   "metadata": {},
   "outputs": [
    {
     "data": {
      "text/plain": [
       "0   2015-01-03 01:37:02\n",
       "1   2015-01-05 23:35:02\n",
       "2   2015-01-06 15:22:12\n",
       "3   2015-01-08 08:31:23\n",
       "4   2015-01-08 12:35:54\n",
       "Name: tpep_dropoff_datetime, dtype: datetime64[ns]"
      ]
     },
     "execution_count": 18,
     "metadata": {},
     "output_type": "execute_result"
    }
   ],
   "source": [
    "# Truco para convertir a datetime...\n",
    "trips_df.tpep_pickup_datetime = trips_df.tpep_pickup_datetime.astype('M8[us]')\n",
    "trips_df.tpep_dropoff_datetime = trips_df.tpep_dropoff_datetime.astype('M8[us]')\n",
    "trips_df.tpep_dropoff_datetime.head()"
   ]
  },
  {
   "cell_type": "markdown",
   "metadata": {},
   "source": [
    "En general, los dataframes de pandas implementan más funciones (i.e. tienen más features) que los de Dask. Los dataframes de Dask son una manera de interactuar _a la pandas_ con datos que no caben en memoria"
   ]
  },
  {
   "cell_type": "markdown",
   "metadata": {},
   "source": [
    "### Ejercicios simples"
   ]
  },
  {
   "cell_type": "code",
   "execution_count": 19,
   "metadata": {},
   "outputs": [
    {
     "data": {
      "text/html": [
       "<div>\n",
       "<style scoped>\n",
       "    .dataframe tbody tr th:only-of-type {\n",
       "        vertical-align: middle;\n",
       "    }\n",
       "\n",
       "    .dataframe tbody tr th {\n",
       "        vertical-align: top;\n",
       "    }\n",
       "\n",
       "    .dataframe thead th {\n",
       "        text-align: right;\n",
       "    }\n",
       "</style>\n",
       "<table border=\"1\" class=\"dataframe\">\n",
       "  <thead>\n",
       "    <tr style=\"text-align: right;\">\n",
       "      <th></th>\n",
       "      <th>fare_amount</th>\n",
       "      <th>passenger_count</th>\n",
       "      <th>taxi_id</th>\n",
       "      <th>tip_amount</th>\n",
       "      <th>trip_distance</th>\n",
       "    </tr>\n",
       "  </thead>\n",
       "  <tbody>\n",
       "    <tr>\n",
       "      <th>count</th>\n",
       "      <td>9198.000000</td>\n",
       "      <td>9198.000000</td>\n",
       "      <td>9198.000000</td>\n",
       "      <td>9198.000000</td>\n",
       "      <td>9198.000000</td>\n",
       "    </tr>\n",
       "    <tr>\n",
       "      <th>mean</th>\n",
       "      <td>11.864122</td>\n",
       "      <td>1.688845</td>\n",
       "      <td>250.233746</td>\n",
       "      <td>1.540099</td>\n",
       "      <td>2.737848</td>\n",
       "    </tr>\n",
       "    <tr>\n",
       "      <th>std</th>\n",
       "      <td>10.339877</td>\n",
       "      <td>1.341433</td>\n",
       "      <td>144.640465</td>\n",
       "      <td>2.180261</td>\n",
       "      <td>3.296340</td>\n",
       "    </tr>\n",
       "    <tr>\n",
       "      <th>min</th>\n",
       "      <td>-3.500000</td>\n",
       "      <td>0.000000</td>\n",
       "      <td>1.000000</td>\n",
       "      <td>-0.700000</td>\n",
       "      <td>0.000000</td>\n",
       "    </tr>\n",
       "    <tr>\n",
       "      <th>25%</th>\n",
       "      <td>6.500000</td>\n",
       "      <td>1.000000</td>\n",
       "      <td>125.000000</td>\n",
       "      <td>0.000000</td>\n",
       "      <td>1.000000</td>\n",
       "    </tr>\n",
       "    <tr>\n",
       "      <th>50%</th>\n",
       "      <td>9.000000</td>\n",
       "      <td>1.000000</td>\n",
       "      <td>249.000000</td>\n",
       "      <td>1.050000</td>\n",
       "      <td>1.660000</td>\n",
       "    </tr>\n",
       "    <tr>\n",
       "      <th>75%</th>\n",
       "      <td>13.000000</td>\n",
       "      <td>2.000000</td>\n",
       "      <td>376.000000</td>\n",
       "      <td>2.100000</td>\n",
       "      <td>3.000000</td>\n",
       "    </tr>\n",
       "    <tr>\n",
       "      <th>max</th>\n",
       "      <td>230.000000</td>\n",
       "      <td>9.000000</td>\n",
       "      <td>499.000000</td>\n",
       "      <td>40.000000</td>\n",
       "      <td>41.940000</td>\n",
       "    </tr>\n",
       "  </tbody>\n",
       "</table>\n",
       "</div>"
      ],
      "text/plain": [
       "       fare_amount  passenger_count      taxi_id   tip_amount  trip_distance\n",
       "count  9198.000000      9198.000000  9198.000000  9198.000000    9198.000000\n",
       "mean     11.864122         1.688845   250.233746     1.540099       2.737848\n",
       "std      10.339877         1.341433   144.640465     2.180261       3.296340\n",
       "min      -3.500000         0.000000     1.000000    -0.700000       0.000000\n",
       "25%       6.500000         1.000000   125.000000     0.000000       1.000000\n",
       "50%       9.000000         1.000000   249.000000     1.050000       1.660000\n",
       "75%      13.000000         2.000000   376.000000     2.100000       3.000000\n",
       "max     230.000000         9.000000   499.000000    40.000000      41.940000"
      ]
     },
     "execution_count": 19,
     "metadata": {},
     "output_type": "execute_result"
    }
   ],
   "source": [
    "# Usa `describe` para obtener información básica del dataframe\n",
    "trips_df.describe().compute()"
   ]
  },
  {
   "cell_type": "code",
   "execution_count": 20,
   "metadata": {},
   "outputs": [
    {
     "data": {
      "text/plain": [
       "car_type\n",
       "A    1.782840\n",
       "B    1.364334\n",
       "Name: tip_amount, dtype: float64"
      ]
     },
     "execution_count": 20,
     "metadata": {},
     "output_type": "execute_result"
    }
   ],
   "source": [
    "# Calcula la propina promedio para cada tipo de coche (A, B)\n",
    "trips_df.groupby(\"car_type\")[\"tip_amount\"].mean().compute()"
   ]
  },
  {
   "cell_type": "code",
   "execution_count": 36,
   "metadata": {},
   "outputs": [
    {
     "data": {
      "text/plain": [
       "<matplotlib.axes._subplots.AxesSubplot at 0x7f4e2972d3c8>"
      ]
     },
     "execution_count": 36,
     "metadata": {},
     "output_type": "execute_result"
    },
    {
     "data": {
      "image/png": "[encoded data removed]",
      "text/plain": [
       "<Figure size 432x288 with 1 Axes>"
      ]
     },
     "metadata": {},
     "output_type": "display_data"
    }
   ],
   "source": [
    "# Grafica dos boxplot para comparar la distribución de propina según el tipo de coche \n",
    "import numpy as np\n",
    "import matplotlib.pyplot as plt\n",
    "%matplotlib inline \n",
    "\n",
    "#plt.boxplot(np.array(trips_df[\"tip_amount\"]))\n",
    "localdf=trips_df[[\"tip_amount\",\"car_type\"]].compute()\n",
    "localdf.boxplot(column=\"tip_amount\",by=\"car_type\")"
   ]
  },
  {
   "cell_type": "code",
   "execution_count": 24,
   "metadata": {},
   "outputs": [
    {
     "data": {
      "text/plain": [
       "(array([8.195e+03, 7.820e+02, 1.460e+02, 5.800e+01, 1.100e+01, 2.000e+00,\n",
       "        1.000e+00, 1.000e+00, 0.000e+00, 2.000e+00]),\n",
       " array([-0.7 ,  3.37,  7.44, 11.51, 15.58, 19.65, 23.72, 27.79, 31.86,\n",
       "        35.93, 40.  ]),\n",
       " <a list of 10 Patch objects>)"
      ]
     },
     "execution_count": 24,
     "metadata": {},
     "output_type": "execute_result"
    },
    {
     "data": {
      "image/png": "[encoded data removed]",
      "text/plain": [
       "<Figure size 432x288 with 1 Axes>"
      ]
     },
     "metadata": {},
     "output_type": "display_data"
    }
   ],
   "source": [
    "# Grafica un histograma de los viajes según la hora del día \n",
    "plt.hist(np.array(trips_df[\"tip_amount\"]))"
   ]
  },
  {
   "cell_type": "code",
   "execution_count": 26,
   "metadata": {},
   "outputs": [
    {
     "data": {
      "text/html": [
       "<div>\n",
       "<style scoped>\n",
       "    .dataframe tbody tr th:only-of-type {\n",
       "        vertical-align: middle;\n",
       "    }\n",
       "\n",
       "    .dataframe tbody tr th {\n",
       "        vertical-align: top;\n",
       "    }\n",
       "\n",
       "    .dataframe thead th {\n",
       "        text-align: right;\n",
       "    }\n",
       "</style>\n",
       "<table border=\"1\" class=\"dataframe\">\n",
       "  <thead>\n",
       "    <tr style=\"text-align: right;\">\n",
       "      <th></th>\n",
       "      <th>car_type</th>\n",
       "      <th>fare_amount</th>\n",
       "      <th>passenger_count</th>\n",
       "      <th>taxi_id</th>\n",
       "      <th>tip_amount</th>\n",
       "      <th>tpep_dropoff_datetime</th>\n",
       "      <th>tpep_pickup_datetime</th>\n",
       "      <th>trip_distance</th>\n",
       "      <th>duracion</th>\n",
       "    </tr>\n",
       "  </thead>\n",
       "  <tbody>\n",
       "    <tr>\n",
       "      <th>0</th>\n",
       "      <td>A</td>\n",
       "      <td>22.0</td>\n",
       "      <td>1</td>\n",
       "      <td>1</td>\n",
       "      <td>4.60</td>\n",
       "      <td>2015-01-03 01:37:02</td>\n",
       "      <td>2015-01-03 01:17:32</td>\n",
       "      <td>6.90</td>\n",
       "      <td>00:19:30</td>\n",
       "    </tr>\n",
       "    <tr>\n",
       "      <th>1</th>\n",
       "      <td>A</td>\n",
       "      <td>9.0</td>\n",
       "      <td>1</td>\n",
       "      <td>1</td>\n",
       "      <td>0.00</td>\n",
       "      <td>2015-01-05 23:35:02</td>\n",
       "      <td>2015-01-05 23:25:15</td>\n",
       "      <td>1.81</td>\n",
       "      <td>00:09:47</td>\n",
       "    </tr>\n",
       "    <tr>\n",
       "      <th>2</th>\n",
       "      <td>A</td>\n",
       "      <td>7.5</td>\n",
       "      <td>1</td>\n",
       "      <td>1</td>\n",
       "      <td>1.00</td>\n",
       "      <td>2015-01-06 15:22:12</td>\n",
       "      <td>2015-01-06 15:11:45</td>\n",
       "      <td>0.96</td>\n",
       "      <td>00:10:27</td>\n",
       "    </tr>\n",
       "    <tr>\n",
       "      <th>3</th>\n",
       "      <td>A</td>\n",
       "      <td>8.5</td>\n",
       "      <td>1</td>\n",
       "      <td>1</td>\n",
       "      <td>1.00</td>\n",
       "      <td>2015-01-08 08:31:23</td>\n",
       "      <td>2015-01-08 08:22:12</td>\n",
       "      <td>1.90</td>\n",
       "      <td>00:09:11</td>\n",
       "    </tr>\n",
       "    <tr>\n",
       "      <th>4</th>\n",
       "      <td>A</td>\n",
       "      <td>7.5</td>\n",
       "      <td>1</td>\n",
       "      <td>1</td>\n",
       "      <td>1.66</td>\n",
       "      <td>2015-01-08 12:35:54</td>\n",
       "      <td>2015-01-08 12:26:26</td>\n",
       "      <td>1.00</td>\n",
       "      <td>00:09:28</td>\n",
       "    </tr>\n",
       "  </tbody>\n",
       "</table>\n",
       "</div>"
      ],
      "text/plain": [
       "  car_type  fare_amount  passenger_count  taxi_id  tip_amount  \\\n",
       "0        A         22.0                1        1        4.60   \n",
       "1        A          9.0                1        1        0.00   \n",
       "2        A          7.5                1        1        1.00   \n",
       "3        A          8.5                1        1        1.00   \n",
       "4        A          7.5                1        1        1.66   \n",
       "\n",
       "  tpep_dropoff_datetime tpep_pickup_datetime  trip_distance duracion  \n",
       "0   2015-01-03 01:37:02  2015-01-03 01:17:32           6.90 00:19:30  \n",
       "1   2015-01-05 23:35:02  2015-01-05 23:25:15           1.81 00:09:47  \n",
       "2   2015-01-06 15:22:12  2015-01-06 15:11:45           0.96 00:10:27  \n",
       "3   2015-01-08 08:31:23  2015-01-08 08:22:12           1.90 00:09:11  \n",
       "4   2015-01-08 12:35:54  2015-01-08 12:26:26           1.00 00:09:28  "
      ]
     },
     "execution_count": 26,
     "metadata": {},
     "output_type": "execute_result"
    }
   ],
   "source": [
    "# Agrega una columna para la duración del viaje\n",
    "trips_df[\"duracion\"]=trips_df[\"tpep_dropoff_datetime\"]-trips_df[\"tpep_pickup_datetime\"]\n",
    "trips_df.head()"
   ]
  },
  {
   "cell_type": "code",
   "execution_count": 53,
   "metadata": {},
   "outputs": [
    {
     "ename": "TypeError",
     "evalue": "invalid type promotion",
     "output_type": "error",
     "traceback": [
      "\u001b[0;31m---------------------------------------------------------------------------\u001b[0m",
      "\u001b[0;31mTypeError\u001b[0m                                 Traceback (most recent call last)",
      "\u001b[0;32m<ipython-input-53-b53cbe3b235f>\u001b[0m in \u001b[0;36m<module>\u001b[0;34m()\u001b[0m\n\u001b[1;32m      4\u001b[0m \u001b[0my\u001b[0m\u001b[0;34m=\u001b[0m\u001b[0mnp\u001b[0m\u001b[0;34m.\u001b[0m\u001b[0marray\u001b[0m\u001b[0;34m(\u001b[0m\u001b[0mlocsamp\u001b[0m\u001b[0;34m[\u001b[0m\u001b[0;34m\"duracion\"\u001b[0m\u001b[0;34m]\u001b[0m\u001b[0;34m)\u001b[0m\u001b[0;34m\u001b[0m\u001b[0m\n\u001b[1;32m      5\u001b[0m \u001b[0;34m\u001b[0m\u001b[0m\n\u001b[0;32m----> 6\u001b[0;31m \u001b[0mplt\u001b[0m\u001b[0;34m.\u001b[0m\u001b[0mscatter\u001b[0m\u001b[0;34m(\u001b[0m\u001b[0mx\u001b[0m\u001b[0;34m,\u001b[0m\u001b[0my\u001b[0m\u001b[0;34m,\u001b[0m\u001b[0;34m)\u001b[0m\u001b[0;34m\u001b[0m\u001b[0m\n\u001b[0m",
      "\u001b[0;32m/usr/local/lib/python3.5/site-packages/matplotlib/pyplot.py\u001b[0m in \u001b[0;36mscatter\u001b[0;34m(x, y, s, c, marker, cmap, norm, vmin, vmax, alpha, linewidths, verts, edgecolors, hold, data, **kwargs)\u001b[0m\n\u001b[1;32m   3468\u001b[0m                          \u001b[0mvmin\u001b[0m\u001b[0;34m=\u001b[0m\u001b[0mvmin\u001b[0m\u001b[0;34m,\u001b[0m \u001b[0mvmax\u001b[0m\u001b[0;34m=\u001b[0m\u001b[0mvmax\u001b[0m\u001b[0;34m,\u001b[0m \u001b[0malpha\u001b[0m\u001b[0;34m=\u001b[0m\u001b[0malpha\u001b[0m\u001b[0;34m,\u001b[0m\u001b[0;34m\u001b[0m\u001b[0m\n\u001b[1;32m   3469\u001b[0m                          \u001b[0mlinewidths\u001b[0m\u001b[0;34m=\u001b[0m\u001b[0mlinewidths\u001b[0m\u001b[0;34m,\u001b[0m \u001b[0mverts\u001b[0m\u001b[0;34m=\u001b[0m\u001b[0mverts\u001b[0m\u001b[0;34m,\u001b[0m\u001b[0;34m\u001b[0m\u001b[0m\n\u001b[0;32m-> 3470\u001b[0;31m                          edgecolors=edgecolors, data=data, **kwargs)\n\u001b[0m\u001b[1;32m   3471\u001b[0m     \u001b[0;32mfinally\u001b[0m\u001b[0;34m:\u001b[0m\u001b[0;34m\u001b[0m\u001b[0m\n\u001b[1;32m   3472\u001b[0m         \u001b[0max\u001b[0m\u001b[0;34m.\u001b[0m\u001b[0m_hold\u001b[0m \u001b[0;34m=\u001b[0m \u001b[0mwashold\u001b[0m\u001b[0;34m\u001b[0m\u001b[0m\n",
      "\u001b[0;32m/usr/local/lib/python3.5/site-packages/matplotlib/__init__.py\u001b[0m in \u001b[0;36minner\u001b[0;34m(ax, *args, **kwargs)\u001b[0m\n\u001b[1;32m   1853\u001b[0m                         \u001b[0;34m\"the Matplotlib list!)\"\u001b[0m \u001b[0;34m%\u001b[0m \u001b[0;34m(\u001b[0m\u001b[0mlabel_namer\u001b[0m\u001b[0;34m,\u001b[0m \u001b[0mfunc\u001b[0m\u001b[0;34m.\u001b[0m\u001b[0m__name__\u001b[0m\u001b[0;34m)\u001b[0m\u001b[0;34m,\u001b[0m\u001b[0;34m\u001b[0m\u001b[0m\n\u001b[1;32m   1854\u001b[0m                         RuntimeWarning, stacklevel=2)\n\u001b[0;32m-> 1855\u001b[0;31m             \u001b[0;32mreturn\u001b[0m \u001b[0mfunc\u001b[0m\u001b[0;34m(\u001b[0m\u001b[0max\u001b[0m\u001b[0;34m,\u001b[0m \u001b[0;34m*\u001b[0m\u001b[0margs\u001b[0m\u001b[0;34m,\u001b[0m \u001b[0;34m**\u001b[0m\u001b[0mkwargs\u001b[0m\u001b[0;34m)\u001b[0m\u001b[0;34m\u001b[0m\u001b[0m\n\u001b[0m\u001b[1;32m   1856\u001b[0m \u001b[0;34m\u001b[0m\u001b[0m\n\u001b[1;32m   1857\u001b[0m         inner.__doc__ = _add_data_doc(inner.__doc__,\n",
      "\u001b[0;32m/usr/local/lib/python3.5/site-packages/matplotlib/axes/_axes.py\u001b[0m in \u001b[0;36mscatter\u001b[0;34m(self, x, y, s, c, marker, cmap, norm, vmin, vmax, alpha, linewidths, verts, edgecolors, **kwargs)\u001b[0m\n\u001b[1;32m   4309\u001b[0m             \u001b[0mlinewidths\u001b[0m \u001b[0;34m=\u001b[0m \u001b[0mrcParams\u001b[0m\u001b[0;34m[\u001b[0m\u001b[0;34m'lines.linewidth'\u001b[0m\u001b[0;34m]\u001b[0m\u001b[0;34m\u001b[0m\u001b[0m\n\u001b[1;32m   4310\u001b[0m \u001b[0;34m\u001b[0m\u001b[0m\n\u001b[0;32m-> 4311\u001b[0;31m         \u001b[0moffsets\u001b[0m \u001b[0;34m=\u001b[0m \u001b[0mnp\u001b[0m\u001b[0;34m.\u001b[0m\u001b[0mcolumn_stack\u001b[0m\u001b[0;34m(\u001b[0m\u001b[0;34m[\u001b[0m\u001b[0mx\u001b[0m\u001b[0;34m,\u001b[0m \u001b[0my\u001b[0m\u001b[0;34m]\u001b[0m\u001b[0;34m)\u001b[0m\u001b[0;34m\u001b[0m\u001b[0m\n\u001b[0m\u001b[1;32m   4312\u001b[0m \u001b[0;34m\u001b[0m\u001b[0m\n\u001b[1;32m   4313\u001b[0m         collection = mcoll.PathCollection(\n",
      "\u001b[0;32m/usr/local/lib/python3.5/site-packages/numpy/lib/shape_base.py\u001b[0m in \u001b[0;36mcolumn_stack\u001b[0;34m(tup)\u001b[0m\n\u001b[1;32m    367\u001b[0m             \u001b[0marr\u001b[0m \u001b[0;34m=\u001b[0m \u001b[0marray\u001b[0m\u001b[0;34m(\u001b[0m\u001b[0marr\u001b[0m\u001b[0;34m,\u001b[0m \u001b[0mcopy\u001b[0m\u001b[0;34m=\u001b[0m\u001b[0;32mFalse\u001b[0m\u001b[0;34m,\u001b[0m \u001b[0msubok\u001b[0m\u001b[0;34m=\u001b[0m\u001b[0;32mTrue\u001b[0m\u001b[0;34m,\u001b[0m \u001b[0mndmin\u001b[0m\u001b[0;34m=\u001b[0m\u001b[0;36m2\u001b[0m\u001b[0;34m)\u001b[0m\u001b[0;34m.\u001b[0m\u001b[0mT\u001b[0m\u001b[0;34m\u001b[0m\u001b[0m\n\u001b[1;32m    368\u001b[0m         \u001b[0marrays\u001b[0m\u001b[0;34m.\u001b[0m\u001b[0mappend\u001b[0m\u001b[0;34m(\u001b[0m\u001b[0marr\u001b[0m\u001b[0;34m)\u001b[0m\u001b[0;34m\u001b[0m\u001b[0m\n\u001b[0;32m--> 369\u001b[0;31m     \u001b[0;32mreturn\u001b[0m \u001b[0m_nx\u001b[0m\u001b[0;34m.\u001b[0m\u001b[0mconcatenate\u001b[0m\u001b[0;34m(\u001b[0m\u001b[0marrays\u001b[0m\u001b[0;34m,\u001b[0m \u001b[0;36m1\u001b[0m\u001b[0;34m)\u001b[0m\u001b[0;34m\u001b[0m\u001b[0m\n\u001b[0m\u001b[1;32m    370\u001b[0m \u001b[0;34m\u001b[0m\u001b[0m\n\u001b[1;32m    371\u001b[0m \u001b[0;32mdef\u001b[0m \u001b[0mdstack\u001b[0m\u001b[0;34m(\u001b[0m\u001b[0mtup\u001b[0m\u001b[0;34m)\u001b[0m\u001b[0;34m:\u001b[0m\u001b[0;34m\u001b[0m\u001b[0m\n",
      "\u001b[0;31mTypeError\u001b[0m: invalid type promotion"
     ]
    },
    {
     "data": {
      "image/png": "[encoded data removed]",
      "text/plain": [
       "<Figure size 432x288 with 1 Axes>"
      ]
     },
     "metadata": {},
     "output_type": "display_data"
    }
   ],
   "source": [
    "# Grafica un scatterplot de duración de viaje vs. distancia de viaje\n",
    "locsamp=trips_df.sample(.1).compute()\n",
    "x=np.array(locsamp[\"trip_distance\"]) \n",
    "y=np.array(locsamp[\"duracion\"])\n",
    "\n",
    "plt.scatter(x,y,)\n"
   ]
  },
  {
   "cell_type": "code",
   "execution_count": 24,
   "metadata": {},
   "outputs": [],
   "source": [
    "# ¿Cuál es la proporción de propina promedio para los viajes con más de 3 pasajeros?\n",
    "trip_df[]"
   ]
  },
  {
   "cell_type": "markdown",
   "metadata": {},
   "source": [
    "## Indices\n",
    "\n",
    "Dada la naturaleza en paralelo de Dask, los índices cobran mucho mayor relevancia. Todas las operaciones que puedan hacerse sobre un índice serán mucho más rápidas, pero cambiar de índice será costoso"
   ]
  },
  {
   "cell_type": "code",
   "execution_count": 54,
   "metadata": {},
   "outputs": [
    {
     "data": {
      "text/plain": [
       "(1, 499)"
      ]
     },
     "execution_count": 54,
     "metadata": {},
     "output_type": "execute_result"
    }
   ],
   "source": [
    "trips_indexed = trips_df.set_index(\"taxi_id\") # Muy costoso en datos grandes, evitar!\n",
    "trips_indexed.divisions"
   ]
  },
  {
   "cell_type": "code",
   "execution_count": 55,
   "metadata": {},
   "outputs": [
    {
     "data": {
      "text/html": [
       "<div>\n",
       "<style scoped>\n",
       "    .dataframe tbody tr th:only-of-type {\n",
       "        vertical-align: middle;\n",
       "    }\n",
       "\n",
       "    .dataframe tbody tr th {\n",
       "        vertical-align: top;\n",
       "    }\n",
       "\n",
       "    .dataframe thead th {\n",
       "        text-align: right;\n",
       "    }\n",
       "</style>\n",
       "<table border=\"1\" class=\"dataframe\">\n",
       "  <thead>\n",
       "    <tr style=\"text-align: right;\">\n",
       "      <th></th>\n",
       "      <th>car_type</th>\n",
       "      <th>fare_amount</th>\n",
       "      <th>passenger_count</th>\n",
       "      <th>tip_amount</th>\n",
       "      <th>tpep_dropoff_datetime</th>\n",
       "      <th>tpep_pickup_datetime</th>\n",
       "      <th>trip_distance</th>\n",
       "      <th>duracion</th>\n",
       "    </tr>\n",
       "    <tr>\n",
       "      <th>taxi_id</th>\n",
       "      <th></th>\n",
       "      <th></th>\n",
       "      <th></th>\n",
       "      <th></th>\n",
       "      <th></th>\n",
       "      <th></th>\n",
       "      <th></th>\n",
       "      <th></th>\n",
       "    </tr>\n",
       "  </thead>\n",
       "  <tbody>\n",
       "    <tr>\n",
       "      <th>1</th>\n",
       "      <td>A</td>\n",
       "      <td>22.0</td>\n",
       "      <td>1</td>\n",
       "      <td>4.60</td>\n",
       "      <td>2015-01-03 01:37:02</td>\n",
       "      <td>2015-01-03 01:17:32</td>\n",
       "      <td>6.90</td>\n",
       "      <td>00:19:30</td>\n",
       "    </tr>\n",
       "    <tr>\n",
       "      <th>1</th>\n",
       "      <td>A</td>\n",
       "      <td>9.0</td>\n",
       "      <td>1</td>\n",
       "      <td>0.00</td>\n",
       "      <td>2015-01-05 23:35:02</td>\n",
       "      <td>2015-01-05 23:25:15</td>\n",
       "      <td>1.81</td>\n",
       "      <td>00:09:47</td>\n",
       "    </tr>\n",
       "    <tr>\n",
       "      <th>1</th>\n",
       "      <td>A</td>\n",
       "      <td>7.5</td>\n",
       "      <td>1</td>\n",
       "      <td>1.00</td>\n",
       "      <td>2015-01-06 15:22:12</td>\n",
       "      <td>2015-01-06 15:11:45</td>\n",
       "      <td>0.96</td>\n",
       "      <td>00:10:27</td>\n",
       "    </tr>\n",
       "    <tr>\n",
       "      <th>1</th>\n",
       "      <td>A</td>\n",
       "      <td>8.5</td>\n",
       "      <td>1</td>\n",
       "      <td>1.00</td>\n",
       "      <td>2015-01-08 08:31:23</td>\n",
       "      <td>2015-01-08 08:22:12</td>\n",
       "      <td>1.90</td>\n",
       "      <td>00:09:11</td>\n",
       "    </tr>\n",
       "    <tr>\n",
       "      <th>1</th>\n",
       "      <td>A</td>\n",
       "      <td>7.5</td>\n",
       "      <td>1</td>\n",
       "      <td>1.66</td>\n",
       "      <td>2015-01-08 12:35:54</td>\n",
       "      <td>2015-01-08 12:26:26</td>\n",
       "      <td>1.00</td>\n",
       "      <td>00:09:28</td>\n",
       "    </tr>\n",
       "  </tbody>\n",
       "</table>\n",
       "</div>"
      ],
      "text/plain": [
       "        car_type  fare_amount  passenger_count  tip_amount  \\\n",
       "taxi_id                                                      \n",
       "1              A         22.0                1        4.60   \n",
       "1              A          9.0                1        0.00   \n",
       "1              A          7.5                1        1.00   \n",
       "1              A          8.5                1        1.00   \n",
       "1              A          7.5                1        1.66   \n",
       "\n",
       "        tpep_dropoff_datetime tpep_pickup_datetime  trip_distance duracion  \n",
       "taxi_id                                                                     \n",
       "1         2015-01-03 01:37:02  2015-01-03 01:17:32           6.90 00:19:30  \n",
       "1         2015-01-05 23:35:02  2015-01-05 23:25:15           1.81 00:09:47  \n",
       "1         2015-01-06 15:22:12  2015-01-06 15:11:45           0.96 00:10:27  \n",
       "1         2015-01-08 08:31:23  2015-01-08 08:22:12           1.90 00:09:11  \n",
       "1         2015-01-08 12:35:54  2015-01-08 12:26:26           1.00 00:09:28  "
      ]
     },
     "execution_count": 55,
     "metadata": {},
     "output_type": "execute_result"
    }
   ],
   "source": [
    "trips_indexed.loc[1].head()"
   ]
  },
  {
   "cell_type": "markdown",
   "metadata": {},
   "source": [
    "## Ejercicio/Tarea\n",
    "\n",
    "Aprovecha la capacidad de Dask para realizar cómputo en paralelo para ajustar un modelo para predecir la proporción de propina de un viaje. Realiza búsqueda de hiperparámetros en grid con cross validation. Puedes usar funciones de scikit learn. Recuerda usar el decorador `delayed` para ejecutar en paralelo.\n",
    "\n",
    "* ¿Qué tan rápido es buscar en paralelo comparado con una búsqueda secuencial en python?\n",
    "\n",
    "Haz lo mismo que arriba, pero utilizando la biblioteca Dask-ML http://dask-ml.readthedocs.io/en/latest/ \n",
    "\n",
    "* ¿Cómo se comparan los tiempos de ejecución de tu búsqueda con la de Dask ML?\n",
    "\n",
    "**Bonus**\n",
    "\n",
    "Haz lo mismo utilizando Spark ML\n",
    "\n",
    "* ¿Cómo se comparan los tiempos de ejecución de Spark vs Dask?\n",
    "\n",
    "Usa los datos en s3://dask-data/nyc-taxi/2015/yellow_tripdata_2015-01.csv\n",
    "\n",
    "* ¿Cambia alguno de los resultados anteriores?"
   ]
  },
  {
   "cell_type": "code",
   "execution_count": null,
   "metadata": {},
   "outputs": [],
   "source": []
  }
 ],
 "metadata": {
  "kernelspec": {
   "display_name": "Python 3",
   "language": "python",
   "name": "python3"
  },
  "language_info": {
   "codemirror_mode": {
    "name": "ipython",
    "version": 3
   },
   "file_extension": ".py",
   "mimetype": "text/x-python",
   "name": "python",
   "nbconvert_exporter": "python",
   "pygments_lexer": "ipython3",
   "version": "3.5.4"
  }
 },
 "nbformat": 4,
 "nbformat_minor": 2
}
