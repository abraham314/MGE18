{
 "cells": [
  {
   "cell_type": "markdown",
   "metadata": {},
   "source": [
    "# Daniel Sharp 138176\n",
    "## Tarea 6 - Spark\n",
    "\n",
    "Iniciamos la Spark Session"
   ]
  },
  {
   "cell_type": "code",
   "execution_count": 1,
   "metadata": {},
   "outputs": [],
   "source": [
    "from pyspark.sql import SparkSession\n",
    "from pyspark.sql.functions import *\n",
    "\n",
    "spark = SparkSession.builder.master(\"local[*]\").getOrCreate()"
   ]
  },
  {
   "cell_type": "markdown",
   "metadata": {},
   "source": [
    "Carga de las tablas a Spark"
   ]
  },
  {
   "cell_type": "code",
   "execution_count": 2,
   "metadata": {},
   "outputs": [],
   "source": [
    "employees = spark.read.csv('/home/jovyan/northwind/employees.csv', header =True)\n",
    "orders = spark.read.csv('/home/jovyan/northwind/orders.csv', header =True)\n",
    "customers = spark.read.csv('/home/jovyan/northwind/customers.csv', header =True)\n",
    "order_details = spark.read.csv('/home/jovyan/northwind/order_details.csv', header =True)\n",
    "products = spark.read.csv('/home/jovyan/northwind/products.csv', header =True)"
   ]
  },
  {
   "cell_type": "markdown",
   "metadata": {},
   "source": [
    "### Ejercicio 1\n",
    "#### a. ¿Cuántos “jefes” hay en la tabla empleados? ¿Cuáles son estos jefes: número de empleado, nombre, apellido, título, fecha de nacimiento, fecha en que iniciaron en la empresa, ciudad y país? (atributo reportsto, ocupa explode en tu respuesta) "
   ]
  },
  {
   "cell_type": "code",
   "execution_count": 3,
   "metadata": {},
   "outputs": [
    {
     "name": "stdout",
     "output_type": "stream",
     "text": [
      "+---------------+\n",
      "|Numero de jefes|\n",
      "+---------------+\n",
      "|              2|\n",
      "+---------------+\n",
      "\n"
     ]
    }
   ],
   "source": [
    "ej1_a1=employees.agg(countDistinct(\"reportsto\").alias(\"Numero de jefes\"))\n",
    "ej1_a1.show()\n",
    "ej1_a1.repartition(1).write.csv(\"/home/jovyan/northwind/output/ej1_a1.csv\", header = True)"
   ]
  },
  {
   "cell_type": "code",
   "execution_count": 4,
   "metadata": {},
   "outputs": [
    {
     "name": "stdout",
     "output_type": "stream",
     "text": [
      "+----------+---------+--------+--------------------+----------+----------+------+-------+--------+\n",
      "|employeeid|firstname|lastname|               title| birthdate|  hiredate|  city|country|     col|\n",
      "+----------+---------+--------+--------------------+----------+----------+------+-------+--------+\n",
      "|         2|   Andrew|  Fuller|Vice President, S...|1952-02-19|1992-08-14|Tacoma|    USA|   Janet|\n",
      "|         2|   Andrew|  Fuller|Vice President, S...|1952-02-19|1992-08-14|Tacoma|    USA|   Laura|\n",
      "|         2|   Andrew|  Fuller|Vice President, S...|1952-02-19|1992-08-14|Tacoma|    USA|   Nancy|\n",
      "|         2|   Andrew|  Fuller|Vice President, S...|1952-02-19|1992-08-14|Tacoma|    USA|Margaret|\n",
      "|         2|   Andrew|  Fuller|Vice President, S...|1952-02-19|1992-08-14|Tacoma|    USA|  Steven|\n",
      "|         5|   Steven|Buchanan|       Sales Manager|1955-03-04|1993-10-17|London|     UK|  Robert|\n",
      "|         5|   Steven|Buchanan|       Sales Manager|1955-03-04|1993-10-17|London|     UK|    Anne|\n",
      "|         5|   Steven|Buchanan|       Sales Manager|1955-03-04|1993-10-17|London|     UK| Michael|\n",
      "+----------+---------+--------+--------------------+----------+----------+------+-------+--------+\n",
      "\n"
     ]
    }
   ],
   "source": [
    "ej1_a2=employees.select(\"employeeid\",\"firstname\",\"lastname\",\"title\",\"birthdate\", \"hiredate\",\"city\",\"country\").alias(\"t1\")\\\n",
    ".join(employees.alias(\"t2\").select(\"reportsto\",\"firstname\").where(\"reportsto > 0\")\\\n",
    ".groupBy(\"reportsto\").agg(collect_set(\"firstname\").alias(\"subs\")),col(\"t1.employeeid\")==col(\"t2.reportsto\"))\\\n",
    ".select(\"employeeid\",\"firstname\",\"lastname\",\"title\",\"birthdate\", \"hiredate\",\"city\",\"country\",explode(\"subs\"))\n",
    "ej1_a2.show()\n",
    "ej1_a2.repartition(1).write.csv(\"/home/jovyan/northwind/output/ej1_a2.csv\", header = True)"
   ]
  },
  {
   "cell_type": "markdown",
   "metadata": {},
   "source": [
    "#### b. ¿Quién es el segundo “mejor” empleado que más órdenes ha generado? (nombre, apellido, título, cuándo entró a la compañía, número de órdenes generadas, número de órdenes generadas por el mejor empleado (número 1))"
   ]
  },
  {
   "cell_type": "code",
   "execution_count": 5,
   "metadata": {},
   "outputs": [
    {
     "name": "stdout",
     "output_type": "stream",
     "text": [
      "+----------+-----+---------+---------+--------------------+----------+---------+\n",
      "|employeeid|sales|firstname| lastname|               title|  hiredate|max_sales|\n",
      "+----------+-----+---------+---------+--------------------+----------+---------+\n",
      "|         3|  127|    Janet|Leverling|Sales Representative|1992-04-01|      156|\n",
      "+----------+-----+---------+---------+--------------------+----------+---------+\n",
      "\n"
     ]
    }
   ],
   "source": [
    "from pyspark.sql import Window\n",
    "ej1_b=orders.alias(\"t1\").select(\"employeeid\").groupBy(\"employeeid\").agg(count(\"*\").alias(\"sales\")).\\\n",
    "join(employees.alias(\"t2\").select(\"employeeid\",\"firstname\",\"lastname\",\"title\",\"hiredate\"),\\\n",
    "     [\"employeeid\"]).orderBy(desc(\"sales\")).alias(\"t3\")\\\n",
    ".select(\"*\",lag(\"sales\").over(Window.orderBy(desc(\"sales\"))).alias(\"max_sales\"))\\\n",
    ".select(\"*\",row_number().over(Window.orderBy(desc(\"sales\"))).alias(\"rn\")).filter(\"rn == 2\").drop(\"rn\")\n",
    "ej1_b.show()\n",
    "ej1_b.repartition(1).write.csv(\"/home/jovyan/northwind/output/ej1_b.csv\", header = True)"
   ]
  },
  {
   "cell_type": "markdown",
   "metadata": {},
   "source": [
    "#### c. ¿Cuál es el delta de tiempo más grande entre una orden y otra?"
   ]
  },
  {
   "cell_type": "code",
   "execution_count": 6,
   "metadata": {},
   "outputs": [
    {
     "name": "stdout",
     "output_type": "stream",
     "text": [
      "+-------+-----+\n",
      "|orderid|delta|\n",
      "+-------+-----+\n",
      "|  10262|    3|\n",
      "|  10284|    3|\n",
      "|  10267|    3|\n",
      "|  10256|    3|\n",
      "|  10273|    3|\n",
      "+-------+-----+\n",
      "\n"
     ]
    }
   ],
   "source": [
    "ej1_c=orders.select(\"orderid\",to_date(\"orderdate\").alias(\"date\"))\\\n",
    ".select(\"*\",lag(\"date\").over(Window.orderBy(\"orderid\")).alias(\"lag\"))\\\n",
    ".select(\"orderid\", datediff(\"date\",\"lag\").alias(\"delta\")).orderBy(desc(\"delta\"))\\\n",
    ".limit(5)\n",
    "ej1_c.show()\n",
    "ej1_c.repartition(1).write.csv(\"/home/jovyan/northwind/output/ej1_c.csv\", header = True)"
   ]
  },
  {
   "cell_type": "markdown",
   "metadata": {},
   "source": [
    "### Ejercicio 2\n",
    "\n",
    "Carga de tablas a Spark"
   ]
  },
  {
   "cell_type": "code",
   "execution_count": 7,
   "metadata": {},
   "outputs": [],
   "source": [
    "flights = spark.read.csv('/home/jovyan/flights/flights.csv', header =True)\n",
    "airports = spark.read.csv('/home/jovyan/flights/airports.csv', header =True)\n",
    "airlines = spark.read.csv('/home/jovyan/flights/airlines.csv', header =True)"
   ]
  },
  {
   "cell_type": "markdown",
   "metadata": {},
   "source": [
    "#### a. ¿Qué aerolíneas (nombres) llegan al aeropuerto “Honolulu International Airport”?"
   ]
  },
  {
   "cell_type": "code",
   "execution_count": 8,
   "metadata": {},
   "outputs": [
    {
     "name": "stdout",
     "output_type": "stream",
     "text": [
      "+--------------------+\n",
      "|             AIRLINE|\n",
      "+--------------------+\n",
      "|      Virgin America|\n",
      "|United Air Lines ...|\n",
      "|     US Airways Inc.|\n",
      "|Hawaiian Airlines...|\n",
      "|Alaska Airlines Inc.|\n",
      "|Delta Air Lines Inc.|\n",
      "|American Airlines...|\n",
      "+--------------------+\n",
      "\n"
     ]
    }
   ],
   "source": [
    "ej2_a=flights.alias(\"f\").select(\"*\").withColumnRenamed(\"AIRLINE\",\"AIRLINE_C\")\\\n",
    ".join(airlines.alias(\"al\"), col(\"AIRLINE_C\")==col(\"al.IATA_CODE\"))\\\n",
    ".join(airports.alias(\"ap\"), col(\"f.DESTINATION_AIRPORT\")==col(\"ap.IATA_CODE\"))\\\n",
    ".select(\"al.AIRLINE\").filter(col(\"AIRPORT\").like('Honolulu International Airport')).distinct()\n",
    "ej2_a.show()\n",
    "ej2_a.repartition(1).write.csv(\"/home/jovyan/flights/output/ej2_a.csv\", header = True)"
   ]
  },
  {
   "cell_type": "markdown",
   "metadata": {},
   "source": [
    "#### b. ¿En qué horario (hora del día, no importan los minutos) hay salidas del aeropuerto de San Francisco (“SFO”) a “Honolulu International Airport”?"
   ]
  },
  {
   "cell_type": "code",
   "execution_count": 9,
   "metadata": {},
   "outputs": [
    {
     "name": "stdout",
     "output_type": "stream",
     "text": [
      "+----+\n",
      "|hora|\n",
      "+----+\n",
      "|  06|\n",
      "|  07|\n",
      "|  08|\n",
      "|  09|\n",
      "|  10|\n",
      "|  11|\n",
      "|  12|\n",
      "|  13|\n",
      "|  14|\n",
      "|  15|\n",
      "|  16|\n",
      "|  17|\n",
      "|  18|\n",
      "|  19|\n",
      "+----+\n",
      "\n"
     ]
    }
   ],
   "source": [
    "ej2_b=flights.alias(\"f\").select(\"SCHEDULED_DEPARTURE\",\"DESTINATION_AIRPORT\",\"ORIGIN_AIRPORT\")\\\n",
    ".join(airports.alias(\"ap\").withColumnRenamed(\"AIRPORT\",\"DEST_AIRPORT\"), col(\"f.DESTINATION_AIRPORT\") == col(\"ap.IATA_CODE\"))\\\n",
    ".join(airports.alias(\"ap2\"), col(\"f.ORIGIN_AIRPORT\") == col(\"ap2.IATA_CODE\"))\\\n",
    ".select(substring(\"SCHEDULED_DEPARTURE\",1,2).alias(\"hora\")).filter((col(\"DEST_AIRPORT\").like('Honolulu International Airport'))\\\n",
    "                                                    & (col(\"AIRPORT\").like('San Francisco International Airport')))\\\n",
    ".distinct().orderBy(\"hora\")\n",
    "ej2_b.show()\n",
    "ej2_b.repartition(1).write.csv(\"/home/jovyan/flights/output/ej2_b.csv\", header = True)"
   ]
  },
  {
   "cell_type": "markdown",
   "metadata": {},
   "source": [
    "#### c. ¿Qué día de la semana y en qué aerolínea nos conviene viajar a “Honolulu International Airport” para tener el menor retraso posible?"
   ]
  },
  {
   "cell_type": "code",
   "execution_count": 10,
   "metadata": {},
   "outputs": [
    {
     "name": "stdout",
     "output_type": "stream",
     "text": [
      "+-----------+--------------+------------------+\n",
      "|DAY_OF_WEEK|       AIRLINE|         avg_delay|\n",
      "+-----------+--------------+------------------+\n",
      "|          7|Virgin America|               3.2|\n",
      "|          1|Virgin America|3.4444444444444446|\n",
      "|          6|Virgin America|              3.75|\n",
      "|          2|Virgin America| 6.222222222222222|\n",
      "|          3|Virgin America|               6.5|\n",
      "+-----------+--------------+------------------+\n",
      "\n"
     ]
    }
   ],
   "source": [
    "ej2_c=flights.alias(\"f\").select(\"DAY_OF_WEEK\",\"DEPARTURE_DELAY\",\"DESTINATION_AIRPORT\",\"AIRLINE\")\\\n",
    ".withColumnRenamed(\"AIRLINE\",\"AIRLINE_C\")\\\n",
    ".join(airports.alias(\"ap\").select(\"IATA_CODE\",\"AIRPORT\"), col(\"f.DESTINATION_AIRPORT\")==col(\"ap.IATA_CODE\"))\\\n",
    ".join(airlines.alias(\"al\"), col(\"AIRLINE_C\")==col(\"al.IATA_CODE\"))\\\n",
    ".select(\"f.DAY_OF_WEEK\",\"al.AIRLINE\",\"f.DEPARTURE_DELAY\",\"AIRPORT\")\\\n",
    ".filter((col(\"AIRPORT\").like('Honolulu International Airport'))).filter(\"f.DEPARTURE_DELAY >= 0\")\\\n",
    ".groupBy(\"f.DAY_OF_WEEK\",\"al.AIRLINE\").agg(mean(\"f.DEPARTURE_DELAY\").alias(\"avg_delay\"))\\\n",
    ".orderBy(\"avg_delay\").filter(\"avg_delay > 0\").limit(5)\n",
    "ej2_c.show()\n",
    "ej2_c.repartition(1).write.csv(\"/home/jovyan/flights/output/ej2_c.csv\", header = True)"
   ]
  },
  {
   "cell_type": "markdown",
   "metadata": {},
   "source": [
    "#### d. ¿Cuál es el aeropuerto con mayor tráfico de entrada?"
   ]
  },
  {
   "cell_type": "code",
   "execution_count": 11,
   "metadata": {},
   "outputs": [
    {
     "name": "stdout",
     "output_type": "stream",
     "text": [
      "+--------------------+-------+\n",
      "|             AIRPORT|traffic|\n",
      "+--------------------+-------+\n",
      "|Hartsfield-Jackso...| 346904|\n",
      "|Chicago O'Hare In...| 285906|\n",
      "|Dallas/Fort Worth...| 239582|\n",
      "|Denver Internatio...| 196010|\n",
      "|Los Angeles Inter...| 194696|\n",
      "+--------------------+-------+\n",
      "\n"
     ]
    }
   ],
   "source": [
    "ej2_d=flights.alias(\"f\").select(\"DESTINATION_AIRPORT\")\\\n",
    ".join(airports.alias(\"ap\").select(\"AIRPORT\",\"IATA_CODE\"),col(\"f.DESTINATION_AIRPORT\")==col(\"ap.IATA_CODE\"))\\\n",
    ".select(\"ap.AIRPORT\").groupBy(\"ap.AIRPORT\").agg(count(\"*\").alias(\"traffic\"))\\\n",
    ".orderBy(desc(\"traffic\")).limit(5)\n",
    "ej2_d.show()\n",
    "ej2_d.repartition(1).write.csv(\"/home/jovyan/flights/output/ej2_d.csv\", header = True)"
   ]
  },
  {
   "cell_type": "markdown",
   "metadata": {},
   "source": [
    "#### e. ¿Cuál es la aerolínea con mayor retraso de salida por día de la semana?"
   ]
  },
  {
   "cell_type": "code",
   "execution_count": 12,
   "metadata": {},
   "outputs": [],
   "source": [
    "t1 = flights.alias(\"f\").select(\"AIRLINE\",\"DEPARTURE_DELAY\",\"DAY_OF_WEEK\").withColumnRenamed(\"AIRLINE\",\"AIRLINE_C\")\\\n",
    ".join(airlines.alias(\"al\").select(\"AIRLINE\",\"IATA_CODE\"), col(\"AIRLINE_C\")==col(\"al.IATA_CODE\"))\\\n",
    ".select(\"f.DAY_OF_WEEK\",\"al.AIRLINE\",\"f.DEPARTURE_DELAY\").filter(\"f.DEPARTURE_DELAY > 0\")\\\n",
    ".groupBy(\"f.DAY_OF_WEEK\",\"al.AIRLINE\").agg(mean(\"f.DEPARTURE_DELAY\").alias(\"mean_delay\"))"
   ]
  },
  {
   "cell_type": "code",
   "execution_count": 13,
   "metadata": {},
   "outputs": [
    {
     "name": "stdout",
     "output_type": "stream",
     "text": [
      "+--------------------+-----------+------------------+\n",
      "|             AIRLINE|DAY_OF_WEEK|         max_delay|\n",
      "+--------------------+-----------+------------------+\n",
      "|Frontier Airlines...|          1| 50.21651871864145|\n",
      "|Frontier Airlines...|          2| 47.32356687898089|\n",
      "|Frontier Airlines...|          3|43.845513963161025|\n",
      "|Atlantic Southeas...|          4| 41.68386779237497|\n",
      "|Frontier Airlines...|          5| 41.87589683924762|\n",
      "|Frontier Airlines...|          6|44.572584171403584|\n",
      "|Frontier Airlines...|          7| 44.15995307000391|\n",
      "+--------------------+-----------+------------------+\n",
      "\n"
     ]
    }
   ],
   "source": [
    "ej2_e=t1.alias(\"a\").select(\"*\").groupBy(\"DAY_OF_WEEK\").agg(max(\"mean_delay\").alias(\"max_delay\"))\\\n",
    ".join(t1.alias(\"b\"), col(\"b.mean_delay\")==col(\"max_delay\"),\"inner\")\\\n",
    ".select(\"AIRLINE\",\"a.DAY_OF_WEEK\",\"max_delay\").orderBy(\"a.DAY_OF_WEEK\")\n",
    "ej2_e.show()\n",
    "ej2_e.repartition(1).write.csv(\"/home/jovyan/flights/output/ej2_e.csv\", header = True)"
   ]
  },
  {
   "cell_type": "markdown",
   "metadata": {},
   "source": [
    "#### f. ¿Cuál es la tercer aerolínea con menor retraso de salida los lunes (day of week = 2)?"
   ]
  },
  {
   "cell_type": "code",
   "execution_count": 14,
   "metadata": {
    "scrolled": true
   },
   "outputs": [
    {
     "name": "stdout",
     "output_type": "stream",
     "text": [
      "+-----------+--------------------+------------------+\n",
      "|DAY_OF_WEEK|             AIRLINE|        mean_delay|\n",
      "+-----------+--------------------+------------------+\n",
      "|          2|Hawaiian Airlines...|13.919187358916478|\n",
      "|          2|Alaska Airlines Inc.|24.793569017587494|\n",
      "|          2|Southwest Airline...| 27.68090909090909|\n",
      "|          2|      Virgin America|29.154826377827334|\n",
      "|          2|American Airlines...|31.113598774885144|\n",
      "+-----------+--------------------+------------------+\n",
      "\n"
     ]
    }
   ],
   "source": [
    "ej2_f=flights.alias(\"f\").select(\"DAY_OF_WEEK\",\"DEPARTURE_DELAY\",\"AIRLINE\").withColumnRenamed(\"AIRLINE\",\"AIRLINE_C\")\\\n",
    ".join(airlines.alias(\"al\").select(\"AIRLINE\",\"IATA_CODE\"), col(\"AIRLINE_C\")==col(\"al.IATA_CODE\"))\\\n",
    ".select(\"f.DAY_OF_WEEK\",\"al.AIRLINE\",\"f.DEPARTURE_DELAY\").filter(\"f.DEPARTURE_DELAY > 0\").filter(\"DAY_OF_WEEK == 2\")\\\n",
    ".groupBy(\"f.DAY_OF_WEEK\",\"al.AIRLINE\").agg(mean(\"f.DEPARTURE_DELAY\").alias(\"mean_delay\"))\\\n",
    ".orderBy(\"mean_delay\").limit(5)\n",
    "ej2_f.show()\n",
    "ej2_f.repartition(1).write.csv(\"/home/jovyan/flights/output/ej2_f.csv\", header = True)"
   ]
  },
  {
   "cell_type": "markdown",
   "metadata": {},
   "source": [
    "#### g. ¿Cuál es el aeropuerto origen que llega a la mayor cantidad de aeropuertos destino diferentes?"
   ]
  },
  {
   "cell_type": "code",
   "execution_count": 15,
   "metadata": {},
   "outputs": [
    {
     "name": "stdout",
     "output_type": "stream",
     "text": [
      "+--------------------+------------+\n",
      "|             AIRPORT|destinations|\n",
      "+--------------------+------------+\n",
      "|Hartsfield-Jackso...|         169|\n",
      "|Chicago O'Hare In...|         162|\n",
      "|Dallas/Fort Worth...|         148|\n",
      "|Denver Internatio...|         139|\n",
      "|Minneapolis-Saint...|         120|\n",
      "+--------------------+------------+\n",
      "\n"
     ]
    }
   ],
   "source": [
    "ej2_g=flights.alias(\"f\").select(\"ORIGIN_AIRPORT\",\"DESTINATION_AIRPORT\")\\\n",
    ".join(airports.alias(\"ap\").select(\"AIRPORT\",\"IATA_CODE\"), col(\"f.ORIGIN_AIRPORT\")==col(\"ap.IATA_CODE\"))\\\n",
    ".groupBy(\"ap.AIRPORT\").agg(countDistinct(\"f.DESTINATION_AIRPORT\").alias(\"destinations\"))\\\n",
    ".orderBy(desc(\"destinations\")).limit(5)\n",
    "ej2_g.show()\n",
    "ej2_g.repartition(1).write.csv(\"/home/jovyan/flights/output/ej2_g.csv\", header = True)"
   ]
  },
  {
   "cell_type": "code",
   "execution_count": 16,
   "metadata": {},
   "outputs": [],
   "source": [
    "spark.stop()"
   ]
  }
 ],
 "metadata": {
  "kernelspec": {
   "display_name": "Python 3",
   "language": "python",
   "name": "python3"
  },
  "language_info": {
   "codemirror_mode": {
    "name": "ipython",
    "version": 3
   },
   "file_extension": ".py",
   "mimetype": "text/x-python",
   "name": "python",
   "nbconvert_exporter": "python",
   "pygments_lexer": "ipython3",
   "version": "3.6.3"
  }
 },
 "nbformat": 4,
 "nbformat_minor": 2
}
