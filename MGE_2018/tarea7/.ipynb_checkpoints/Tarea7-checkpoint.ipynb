{
 "cells": [
  {
   "cell_type": "code",
   "execution_count": 3,
   "metadata": {
    "collapsed": true
   },
   "outputs": [],
   "source": [
    "import findspark \n",
    "findspark.init('/home/abraham/spark-2.2.1-bin-hadoop2.7') \n",
    "import pyspark\n",
    "import os\n",
    "import sys\n",
    "from pyspark.sql import SQLContext\n",
    "from pyspark import SparkContext\n",
    "sc =SparkContext()\n",
    "sqlContext = SQLContext(sc) "
   ]
  },
  {
   "cell_type": "code",
   "execution_count": 2,
   "metadata": {
    "collapsed": true
   },
   "outputs": [],
   "source": [
    "#flights = sqlContext.read.format('com.databricks.spark.csv').options(header='true', inferschema='true').load('/home/abraham/MGE_2018/tarea4/flights.csv')"
   ]
  },
  {
   "cell_type": "code",
   "execution_count": 4,
   "metadata": {
    "collapsed": true
   },
   "outputs": [],
   "source": [
    "from pyspark.sql import SparkSession \n",
    "spark = SparkSession.builder.appName('cruise').getOrCreate() \n",
    "flights = spark.read.csv('/home/abraham/MGE_2018/tarea4/flights.csv',inferSchema=True,header=True)"
   ]
  },
  {
   "cell_type": "code",
   "execution_count": 5,
   "metadata": {
    "collapsed": true
   },
   "outputs": [],
   "source": [
    "flights=flights.na.fill(0)"
   ]
  },
  {
   "cell_type": "code",
   "execution_count": 6,
   "metadata": {},
   "outputs": [
    {
     "data": {
      "text/plain": [
       "<bound method DataFrame.first of DataFrame[YEAR: int, MONTH: int, DAY: int, DAY_OF_WEEK: int, AIRLINE: string, FLIGHT_NUMBER: int, TAIL_NUMBER: string, ORIGIN_AIRPORT: string, DESTINATION_AIRPORT: string, SCHEDULED_DEPARTURE: int, DEPARTURE_TIME: int, DEPARTURE_DELAY: int, TAXI_OUT: int, WHEELS_OFF: int, SCHEDULED_TIME: int, ELAPSED_TIME: int, AIR_TIME: int, DISTANCE: int, WHEELS_ON: int, TAXI_IN: int, SCHEDULED_ARRIVAL: int, ARRIVAL_TIME: int, ARRIVAL_DELAY: int, DIVERTED: int, CANCELLED: int, CANCELLATION_REASON: string, AIR_SYSTEM_DELAY: int, SECURITY_DELAY: int, AIRLINE_DELAY: int, LATE_AIRCRAFT_DELAY: int, WEATHER_DELAY: int]>"
      ]
     },
     "execution_count": 6,
     "metadata": {},
     "output_type": "execute_result"
    }
   ],
   "source": [
    "flights.first"
   ]
  },
  {
   "cell_type": "code",
   "execution_count": 9,
   "metadata": {},
   "outputs": [
    {
     "data": {
      "text/plain": [
       "['AIRLINE',\n",
       " 'TAIL_NUMBER',\n",
       " 'ORIGIN_AIRPORT',\n",
       " 'DESTINATION_AIRPORT',\n",
       " 'CANCELLATION_REASON']"
      ]
     },
     "execution_count": 9,
     "metadata": {},
     "output_type": "execute_result"
    }
   ],
   "source": [
    "columnList = [item[0] for item in flights.dtypes if item[1].startswith('string')]\n",
    "#columnList\n",
    "#flights.columns"
   ]
  },
  {
   "cell_type": "markdown",
   "metadata": {},
   "source": [
    "# Data Partition"
   ]
  },
  {
   "cell_type": "code",
   "execution_count": 10,
   "metadata": {
    "collapsed": true
   },
   "outputs": [],
   "source": [
    "# separamos los datos en entrenamiento y pruebas (70 y 30)\n",
    "#(training_data, test_data) = flights.randomSplit([0.7, 0.3])"
   ]
  },
  {
   "cell_type": "code",
   "execution_count": 10,
   "metadata": {
    "collapsed": true
   },
   "outputs": [],
   "source": [
    "from pyspark.ml.linalg import Vectors\n",
    "from pyspark.ml.feature import VectorAssembler"
   ]
  },
  {
   "cell_type": "code",
   "execution_count": 11,
   "metadata": {
    "collapsed": true
   },
   "outputs": [],
   "source": [
    "from pyspark.ml.feature import OneHotEncoder, StringIndexer\n",
    "\n",
    "indexers = [StringIndexer(inputCol=column, outputCol=column+\"_index\").fit(flights) for column in \n",
    "            list(set(columnList)) ]\n"
   ]
  },
  {
   "cell_type": "code",
   "execution_count": 12,
   "metadata": {
    "collapsed": true
   },
   "outputs": [],
   "source": [
    "assembler = VectorAssembler(\n",
    "  inputCols=[#'YEAR',\n",
    "             #'MONTH',\n",
    "             #'DAY',\n",
    "             'DAY_OF_WEEK',\n",
    "             #'AIRLINE',\n",
    "             #'FLIGHT_NUMBER',\n",
    "            # 'TAIL_NUMBER',\n",
    "            #'ORIGIN_AIRPORT',\n",
    "            #'DESTINATION_AIRPORT',\n",
    "            #'SCHEDULED_DEPARTURE',\n",
    "            #'DEPARTURE_TIME',\n",
    "            'TAXI_OUT',\n",
    "            'WHEELS_OFF',\n",
    "            #'SCHEDULED_TIME',\n",
    "            'ELAPSED_TIME',\n",
    "            'AIR_TIME',\n",
    "            'DISTANCE',\n",
    "            'WHEELS_ON',\n",
    "            'TAXI_IN',\n",
    "            #'SCHEDULED_ARRIVAL',\n",
    "            #'ARRIVAL_TIME',\n",
    "            #'ARRIVAL_DELAY',\n",
    "            #'DIVERTED',\n",
    "            #'CANCELLED',\n",
    "            #'CANCELLATION_REASON',\n",
    "            #'AIR_SYSTEM_DELAY',\n",
    "            #'SECURITY_DELAY',\n",
    "            #'AIRLINE_DELAY','LATE_AIRCRAFT_DELAY','WEATHER_DELAY'\n",
    "  ],\n",
    "    outputCol=\"features\")"
   ]
  },
  {
   "cell_type": "code",
   "execution_count": 17,
   "metadata": {
    "collapsed": true
   },
   "outputs": [],
   "source": [
    "output = assembler.transform(flights)"
   ]
  },
  {
   "cell_type": "code",
   "execution_count": 18,
   "metadata": {},
   "outputs": [
    {
     "name": "stdout",
     "output_type": "stream",
     "text": [
      "+--------------------+---------------+\n",
      "|            features|DEPARTURE_DELAY|\n",
      "+--------------------+---------------+\n",
      "|[4.0,21.0,15.0,19...|            -11|\n",
      "|[4.0,12.0,14.0,27...|             -8|\n",
      "|[4.0,16.0,34.0,29...|             -2|\n",
      "|[4.0,15.0,30.0,28...|             -5|\n",
      "|[4.0,11.0,35.0,21...|             -1|\n",
      "|[4.0,18.0,38.0,23...|             -5|\n",
      "|[4.0,11.0,30.0,17...|             -6|\n",
      "|[4.0,13.0,57.0,24...|             14|\n",
      "|[4.0,17.0,36.0,19...|            -11|\n",
      "|[4.0,12.0,45.0,20...|              3|\n",
      "|[4.0,12.0,36.0,14...|             -6|\n",
      "|[4.0,21.0,48.0,26...|             -8|\n",
      "|[4.0,18.0,53.0,21...|              0|\n",
      "|[4.0,18.0,52.0,19...|             -6|\n",
      "|[4.0,28.0,107.0,1...|             -1|\n",
      "|[4.0,17.0,58.0,19...|             -4|\n",
      "|[4.0,25.0,56.0,20...|            -14|\n",
      "|[4.0,11.0,53.0,21...|             -6|\n",
      "|[4.0,11.0,57.0,20...|             -4|\n",
      "|[4.0,9.0,54.0,186...|             -5|\n",
      "+--------------------+---------------+\n",
      "only showing top 20 rows\n",
      "\n"
     ]
    }
   ],
   "source": [
    "output.select(\"features\", \"DEPARTURE_DELAY\").show()"
   ]
  },
  {
   "cell_type": "code",
   "execution_count": null,
   "metadata": {
    "collapsed": true
   },
   "outputs": [],
   "source": [
    "from pyspark.ml.feature import OneHotEncoder, StringIndexer\n",
    "indexers = [StringIndexer(inputCol=column, outputCol=column+\"_index\").fit(df) for column in \n",
    "            list(set(df.columns)-set(['date'])) ]\n"
   ]
  },
  {
   "cell_type": "code",
   "execution_count": null,
   "metadata": {
    "collapsed": true
   },
   "outputs": [],
   "source": []
  },
  {
   "cell_type": "code",
   "execution_count": 19,
   "metadata": {
    "collapsed": true
   },
   "outputs": [],
   "source": [
    "final_data=output.select(\"features\", \"DEPARTURE_DELAY\")"
   ]
  },
  {
   "cell_type": "code",
   "execution_count": 20,
   "metadata": {
    "collapsed": true
   },
   "outputs": [],
   "source": [
    "train_data,test_data = final_data.randomSplit([0.7,0.3])"
   ]
  },
  {
   "cell_type": "code",
   "execution_count": 21,
   "metadata": {
    "collapsed": true
   },
   "outputs": [],
   "source": [
    "from pyspark.ml.regression import LinearRegression\n",
    "# Create a Linear Regression Model object\n",
    "lr = LinearRegression(labelCol='DEPARTURE_DELAY')"
   ]
  },
  {
   "cell_type": "code",
   "execution_count": 22,
   "metadata": {
    "collapsed": true
   },
   "outputs": [],
   "source": [
    "# Fit the model to the data and call this model lrModel\n",
    "lrModel = lr.fit(train_data)"
   ]
  },
  {
   "cell_type": "code",
   "execution_count": 25,
   "metadata": {
    "collapsed": true
   },
   "outputs": [],
   "source": [
    "#NEW=flights.select('DISTANCE',\"DEPARTURE_DELAY\").na.fill(0)\n",
    "test_results = lrModel.evaluate(test_data)"
   ]
  },
  {
   "cell_type": "code",
   "execution_count": 26,
   "metadata": {},
   "outputs": [
    {
     "name": "stdout",
     "output_type": "stream",
     "text": [
      "RMSE: 36.19759466557666\n"
     ]
    }
   ],
   "source": [
    "print(\"RMSE: {}\".format(test_results.rootMeanSquaredError))\n",
    "#from pyspark.sql.functions import when, mean \n",
    "#new2=NEW.withColumn('DEPARTURE_DELAY',when(NEW.DEPARTURE_DELAY.isNull(),NEW.DEPARTURE_DELAY.mean()).otherwise(NEW.DEPARTURE_DELAY))"
   ]
  },
  {
   "cell_type": "code",
   "execution_count": 24,
   "metadata": {
    "collapsed": true
   },
   "outputs": [],
   "source": [
    "#NEW.show(100)"
   ]
  },
  {
   "cell_type": "code",
   "execution_count": 29,
   "metadata": {
    "collapsed": true
   },
   "outputs": [],
   "source": [
    "from pyspark.ml.regression import RandomForestRegressor"
   ]
  },
  {
   "cell_type": "code",
   "execution_count": 32,
   "metadata": {
    "collapsed": true
   },
   "outputs": [],
   "source": [
    "# Train a RandomForest model.\n",
    "rf = RandomForestRegressor(featuresCol=\"features\",labelCol=\"DEPARTURE_DELAY\")"
   ]
  },
  {
   "cell_type": "code",
   "execution_count": 33,
   "metadata": {
    "collapsed": true
   },
   "outputs": [],
   "source": [
    "rfmodel = rf.fit(train_data)"
   ]
  },
  {
   "cell_type": "code",
   "execution_count": 37,
   "metadata": {
    "collapsed": true
   },
   "outputs": [],
   "source": [
    "test_rf = rfmodel.transform(test_data)"
   ]
  },
  {
   "cell_type": "code",
   "execution_count": 99,
   "metadata": {
    "collapsed": true
   },
   "outputs": [],
   "source": [
    "# parameter grid\n",
    "from pyspark.ml.tuning import CrossValidator, ParamGridBuilder\n",
    "param_grid = ParamGridBuilder().\\\n",
    "    addGrid(lr.regParam, [0, 0.5, 1]).\\\n",
    "    addGrid(lr.elasticNetParam, [0, 0.5, 1]).\\\n",
    "    build()"
   ]
  },
  {
   "cell_type": "code",
   "execution_count": 100,
   "metadata": {
    "collapsed": true
   },
   "outputs": [],
   "source": [
    "from pyspark.ml.evaluation import RegressionEvaluator \n",
    "crossval = CrossValidator(estimator=lr,\n",
    "                          estimatorParamMaps=param_grid,\n",
    "                          evaluator=RegressionEvaluator(predictionCol='prediction', labelCol=\"DEPARTURE_DELAY\", \n",
    "                               metricName='rmse'),#default es rmse\n",
    "                          numFolds=2)\n",
    "#Param for metric name in evaluation. Supports: - \"rmse\" (default): \n",
    "#root mean squared error - \"mse\": mean squared error - \"r2\": R^2^ metric - \"mae\": mean absolute error"
   ]
  },
  {
   "cell_type": "code",
   "execution_count": 101,
   "metadata": {
    "collapsed": true
   },
   "outputs": [],
   "source": [
    "cvModel = crossval.fit(train_data)"
   ]
  },
  {
   "cell_type": "code",
   "execution_count": 105,
   "metadata": {},
   "outputs": [
    {
     "data": {
      "text/plain": [
       "LinearRegression_42538153e1b94eb04c82"
      ]
     },
     "execution_count": 105,
     "metadata": {},
     "output_type": "execute_result"
    }
   ],
   "source": [
    "#https://mingchen0919.github.io/learning-apache-spark/linear-regression.html\n",
    "cvModel.bestModel"
   ]
  },
  {
   "cell_type": "code",
   "execution_count": 109,
   "metadata": {},
   "outputs": [
    {
     "data": {
      "text/plain": [
       "36.116920105333456"
      ]
     },
     "execution_count": 109,
     "metadata": {},
     "output_type": "execute_result"
    }
   ],
   "source": [
    "min(cvModel.avgMetrics)"
   ]
  },
  {
   "cell_type": "code",
   "execution_count": 108,
   "metadata": {},
   "outputs": [
    {
     "data": {
      "text/plain": [
       "{Param(parent='LinearRegression_42538153e1b94eb04c82', name='regParam', doc='regularization parameter (>= 0).'): 0,\n",
       " Param(parent='LinearRegression_42538153e1b94eb04c82', name='elasticNetParam', doc='the ElasticNet mixing parameter, in range [0, 1]. For alpha = 0, the penalty is an L2 penalty. For alpha = 1, it is an L1 penalty.'): 1}"
      ]
     },
     "execution_count": 108,
     "metadata": {},
     "output_type": "execute_result"
    }
   ],
   "source": [
    "param_grid[2]"
   ]
  },
  {
   "cell_type": "code",
   "execution_count": 62,
   "metadata": {
    "collapsed": true
   },
   "outputs": [],
   "source": [
    "bestPipeline = cvModel.bestModel\n",
    "#bestLRModel = bestPipeline.stages[2]\n",
    "bestParams = bestPipeline.extractParamMap()"
   ]
  },
  {
   "cell_type": "code",
   "execution_count": 67,
   "metadata": {},
   "outputs": [
    {
     "data": {
      "text/plain": [
       "{}"
      ]
     },
     "execution_count": 67,
     "metadata": {},
     "output_type": "execute_result"
    }
   ],
   "source": [
    "bestPipeline.extractParamMap()"
   ]
  },
  {
   "cell_type": "code",
   "execution_count": 70,
   "metadata": {},
   "outputs": [
    {
     "name": "stdout",
     "output_type": "stream",
     "text": [
      "Best Param (regParam):  0.0\n",
      "Best Param (elasticNetParam):  0.0\n"
     ]
    }
   ],
   "source": [
    "print ('Best Param (regParam): ', bestPipeline._java_obj.getRegParam()) \n",
    "print ('Best Param (elasticNetParam): ', bestPipeline._java_obj.getRegParam())"
   ]
  },
  {
   "cell_type": "code",
   "execution_count": 74,
   "metadata": {},
   "outputs": [
    {
     "name": "stdout",
     "output_type": "stream",
     "text": [
      "Best Param (regParam):  0.0\n"
     ]
    }
   ],
   "source": [
    "print ('Best Param (regParam): ', bestPipeline._java_obj.getRegParam()) "
   ]
  },
  {
   "cell_type": "code",
   "execution_count": 77,
   "metadata": {},
   "outputs": [
    {
     "data": {
      "text/plain": [
       "{Param(parent='RandomForestRegressor_44219e4cf8e48eded49a', name='featureSubsetStrategy', doc='The number of features to consider for splits at each tree node. Supported options: auto, all, onethird, sqrt, log2, (0.0-1.0], [1-n].'): 'auto',\n",
       " Param(parent='RandomForestRegressor_44219e4cf8e48eded49a', name='checkpointInterval', doc='set checkpoint interval (>= 1) or disable checkpoint (-1). E.g. 10 means that the cache will get checkpointed every 10 iterations.'): 10,\n",
       " Param(parent='RandomForestRegressor_44219e4cf8e48eded49a', name='minInfoGain', doc='Minimum information gain for a split to be considered at a tree node.'): 0.0,\n",
       " Param(parent='RandomForestRegressor_44219e4cf8e48eded49a', name='featuresCol', doc='features column name.'): 'features',\n",
       " Param(parent='RandomForestRegressor_44219e4cf8e48eded49a', name='impurity', doc='Criterion used for information gain calculation (case-insensitive). Supported options: variance'): 'variance',\n",
       " Param(parent='RandomForestRegressor_44219e4cf8e48eded49a', name='maxDepth', doc='Maximum depth of the tree. (>= 0) E.g., depth 0 means 1 leaf node; depth 1 means 1 internal node + 2 leaf nodes.'): 5,\n",
       " Param(parent='RandomForestRegressor_44219e4cf8e48eded49a', name='seed', doc='random seed.'): -7135288952621342857,\n",
       " Param(parent='RandomForestRegressor_44219e4cf8e48eded49a', name='subsamplingRate', doc='Fraction of the training data used for learning each decision tree, in range (0, 1].'): 1.0,\n",
       " Param(parent='RandomForestRegressor_44219e4cf8e48eded49a', name='maxMemoryInMB', doc='Maximum memory in MB allocated to histogram aggregation. If too small, then 1 node will be split per iteration, and its aggregates may exceed this size.'): 256,\n",
       " Param(parent='RandomForestRegressor_44219e4cf8e48eded49a', name='cacheNodeIds', doc='If false, the algorithm will pass trees to executors to match instances with nodes. If true, the algorithm will cache node IDs for each instance. Caching can speed up training of deeper trees. Users can set how often should the cache be checkpointed or disable it by setting checkpointInterval.'): False,\n",
       " Param(parent='RandomForestRegressor_44219e4cf8e48eded49a', name='minInstancesPerNode', doc='Minimum number of instances each child must have after split. If a split causes the left or right child to have fewer than minInstancesPerNode, the split will be discarded as invalid. Should be >= 1.'): 1,\n",
       " Param(parent='RandomForestRegressor_44219e4cf8e48eded49a', name='maxBins', doc='Max number of bins for discretizing continuous features.  Must be >=2 and >= number of categories for any categorical feature.'): 32,\n",
       " Param(parent='RandomForestRegressor_44219e4cf8e48eded49a', name='predictionCol', doc='prediction column name.'): 'prediction',\n",
       " Param(parent='RandomForestRegressor_44219e4cf8e48eded49a', name='numTrees', doc='Number of trees to train (>= 1).'): 20,\n",
       " Param(parent='RandomForestRegressor_44219e4cf8e48eded49a', name='labelCol', doc='label column name.'): 'DEPARTURE_DELAY'}"
      ]
     },
     "execution_count": 77,
     "metadata": {},
     "output_type": "execute_result"
    }
   ],
   "source": [
    "rf.extractParamMap()"
   ]
  },
  {
   "cell_type": "code",
   "execution_count": 168,
   "metadata": {
    "collapsed": true
   },
   "outputs": [],
   "source": [
    "# parameter grid\n",
    "from pyspark.ml.tuning import CrossValidator, ParamGridBuilder\n",
    "param_gridx = ParamGridBuilder().\\\n",
    "    addGrid(rf.numTrees, [10, 15, 20]).\\\n",
    "    build()"
   ]
  },
  {
   "cell_type": "code",
   "execution_count": 169,
   "metadata": {
    "collapsed": true
   },
   "outputs": [],
   "source": [
    "crossval = CrossValidator(estimator=rf,\n",
    "                          estimatorParamMaps=param_gridx,\n",
    "                          evaluator=RegressionEvaluator(predictionCol='prediction', labelCol=\"DEPARTURE_DELAY\", \n",
    "                               metricName='rmse'),#default es rmse\n",
    "                          numFolds=2)"
   ]
  },
  {
   "cell_type": "code",
   "execution_count": 170,
   "metadata": {
    "collapsed": true
   },
   "outputs": [],
   "source": [
    "cvModel = crossval.fit(train_data)"
   ]
  },
  {
   "cell_type": "code",
   "execution_count": 171,
   "metadata": {},
   "outputs": [
    {
     "data": {
      "text/plain": [
       "RandomForestRegressionModel (uid=RandomForestRegressor_44219e4cf8e48eded49a) with 20 trees"
      ]
     },
     "execution_count": 171,
     "metadata": {},
     "output_type": "execute_result"
    }
   ],
   "source": [
    "cvModel.bestModel"
   ]
  },
  {
   "cell_type": "code",
   "execution_count": 172,
   "metadata": {},
   "outputs": [
    {
     "data": {
      "text/plain": [
       "35.585590710309674"
      ]
     },
     "execution_count": 172,
     "metadata": {},
     "output_type": "execute_result"
    }
   ],
   "source": [
    "min(cvModel.avgMetrics)"
   ]
  },
  {
   "cell_type": "code",
   "execution_count": 95,
   "metadata": {},
   "outputs": [
    {
     "data": {
      "text/plain": [
       "{Param(parent='RandomForestRegressor_44219e4cf8e48eded49a', name='numTrees', doc='Number of trees to train (>= 1).'): 20}"
      ]
     },
     "execution_count": 95,
     "metadata": {},
     "output_type": "execute_result"
    }
   ],
   "source": [
    "param_gridx[2]"
   ]
  },
  {
   "cell_type": "code",
   "execution_count": 113,
   "metadata": {
    "collapsed": true
   },
   "outputs": [],
   "source": [
    "rdd = sc.parallelize(param_gridx)"
   ]
  },
  {
   "cell_type": "code",
   "execution_count": 173,
   "metadata": {},
   "outputs": [
    {
     "data": {
      "text/plain": [
       "2"
      ]
     },
     "execution_count": 173,
     "metadata": {},
     "output_type": "execute_result"
    }
   ],
   "source": [
    "cvModel.avgMetrics.index(min(cvModel.avgMetrics))"
   ]
  },
  {
   "cell_type": "code",
   "execution_count": 174,
   "metadata": {},
   "outputs": [
    {
     "name": "stdout",
     "output_type": "stream",
     "text": [
      "CPU times: user 5 µs, sys: 1 µs, total: 6 µs\n",
      "Wall time: 9.06 µs\n"
     ]
    },
    {
     "data": {
      "text/plain": [
       "{Param(parent='RandomForestRegressor_44219e4cf8e48eded49a', name='numTrees', doc='Number of trees to train (>= 1).'): 20}"
      ]
     },
     "execution_count": 174,
     "metadata": {},
     "output_type": "execute_result"
    }
   ],
   "source": [
    "%%time \n",
    "param_gridx[cvModel.avgMetrics.index(min(cvModel.avgMetrics))]"
   ]
  },
  {
   "cell_type": "code",
   "execution_count": 164,
   "metadata": {
    "collapsed": true
   },
   "outputs": [],
   "source": [
    "def define_hyper_params():\n",
    "\n",
    "    ## Por ejemplo\n",
    "    # Create space of candidate learning algorithms and their hyperparameters\n",
    "    modelo = {'lr': LinearRegression(labelCol='DEPARTURE_DELAY'),\n",
    "    'rf': RandomForestRegressor(featuresCol=\"features\",labelCol=\"DEPARTURE_DELAY\")}\n",
    "    \n",
    "    search_space = [ParamGridBuilder().\\\n",
    "    addGrid(modelo['lr'].regParam, [0, 0.5, 1]).\\\n",
    "    addGrid(modelo['lr'].elasticNetParam, [0, 0.5, 1]).\\\n",
    "    build()\n",
    "    ,\n",
    "    ParamGridBuilder().\\\n",
    "    addGrid(modelo['rf'].numTrees, [10, 15, 20]).\\\n",
    "    build()]\n",
    "\n",
    "    return (modelo,search_space)"
   ]
  },
  {
   "cell_type": "code",
   "execution_count": 144,
   "metadata": {},
   "outputs": [
    {
     "data": {
      "text/plain": [
       "RandomForestRegressor_428f8a927c9be1abcb60"
      ]
     },
     "execution_count": 144,
     "metadata": {},
     "output_type": "execute_result"
    }
   ],
   "source": [
    "modelo = {'lr': LinearRegression(labelCol='DEPARTURE_DELAY'),\n",
    "'rf': RandomForestRegressor(featuresCol=\"features\",labelCol=\"DEPARTURE_DELAY\")}\n",
    "modelo['rf']"
   ]
  },
  {
   "cell_type": "code",
   "execution_count": 163,
   "metadata": {},
   "outputs": [
    {
     "data": {
      "text/plain": [
       "{Param(parent='LinearRegression_4eea8199a2f65bdf0bfc', name='elasticNetParam', doc='the ElasticNet mixing parameter, in range [0, 1]. For alpha = 0, the penalty is an L2 penalty. For alpha = 1, it is an L1 penalty.'): 0,\n",
       " Param(parent='LinearRegression_4eea8199a2f65bdf0bfc', name='regParam', doc='regularization parameter (>= 0).'): 0}"
      ]
     },
     "execution_count": 163,
     "metadata": {},
     "output_type": "execute_result"
    }
   ],
   "source": [
    "classifier,search_space=define_hyper_params()\n",
    "search_space[0][0]"
   ]
  },
  {
   "cell_type": "code",
   "execution_count": 175,
   "metadata": {
    "collapsed": true
   },
   "outputs": [],
   "source": [
    "from pyspark.ml import Pipeline\n",
    "def magic_loop(X_train,models_to_run=['lr','rf']):\n",
    "    modelo,search_space=define_hyper_params() \n",
    "    best=[] \n",
    "    metr=[] \n",
    "    params=[] \n",
    "    for i in range(len(models_to_run)):\n",
    "        pipeline = Pipeline(stages=[modelo[models_to_run[i]]]) \n",
    "        crossval = CrossValidator(estimator=pipeline,\n",
    "                          estimatorParamMaps=search_space[i],\n",
    "                          evaluator=RegressionEvaluator(predictionCol='prediction', labelCol=\"DEPARTURE_DELAY\", \n",
    "                               metricName='rmse'),#default es rmse\n",
    "                          numFolds=2)\n",
    "        cvModel = crossval.fit(X_train)\n",
    "        best_model=cvModel.bestModel\n",
    "        best.append(best_model)\n",
    "        metr.append(min(cvModel.avgMetrics))\n",
    "        params.append(search_space[i][cvModel.avgMetrics.index(min(cvModel.avgMetrics))])\n",
    "        print('Mejor modelo de ',models_to_run[i],'fue:',search_space[i][cvModel.avgMetrics.index(min(cvModel.avgMetrics))]) \n",
    "    \n",
    "    print(metr)\n",
    "    print('Mejor modelo fue:',params[metr.index(min(metr))]) \n",
    "            \n",
    "    return(best[metr.index(min(metr))])"
   ]
  },
  {
   "cell_type": "code",
   "execution_count": 176,
   "metadata": {},
   "outputs": [
    {
     "name": "stdout",
     "output_type": "stream",
     "text": [
      "Mejor modelo de  lr fue: {Param(parent='LinearRegression_484eb7b4928ee76a20b2', name='elasticNetParam', doc='the ElasticNet mixing parameter, in range [0, 1]. For alpha = 0, the penalty is an L2 penalty. For alpha = 1, it is an L1 penalty.'): 0, Param(parent='LinearRegression_484eb7b4928ee76a20b2', name='regParam', doc='regularization parameter (>= 0).'): 0}\n",
      "Mejor modelo de  rf fue: {Param(parent='RandomForestRegressor_401fbe5732ff2cfe2013', name='numTrees', doc='Number of trees to train (>= 1).'): 20}\n",
      "[36.116920105333456, 35.58559071030968]\n",
      "Mejor modelo fue: {Param(parent='RandomForestRegressor_401fbe5732ff2cfe2013', name='numTrees', doc='Number of trees to train (>= 1).'): 20}\n"
     ]
    },
    {
     "data": {
      "text/plain": [
       "PipelineModel_469dae43e856896c125e"
      ]
     },
     "execution_count": 176,
     "metadata": {},
     "output_type": "execute_result"
    }
   ],
   "source": [
    "magic_loop(train_data)"
   ]
  },
  {
   "cell_type": "code",
   "execution_count": null,
   "metadata": {},
   "outputs": [],
   "source": []
  },
  {
   "cell_type": "code",
   "execution_count": null,
   "metadata": {
    "collapsed": true
   },
   "outputs": [],
   "source": []
  },
  {
   "cell_type": "code",
   "execution_count": null,
   "metadata": {},
   "outputs": [],
   "source": []
  },
  {
   "cell_type": "code",
   "execution_count": null,
   "metadata": {
    "collapsed": true
   },
   "outputs": [],
   "source": []
  }
 ],
 "metadata": {
  "kernelspec": {
   "display_name": "Python 3",
   "language": "python",
   "name": "python3"
  },
  "language_info": {
   "codemirror_mode": {
    "name": "ipython",
    "version": 3
   },
   "file_extension": ".py",
   "mimetype": "text/x-python",
   "name": "python",
   "nbconvert_exporter": "python",
   "pygments_lexer": "ipython3",
   "version": "3.5.4"
  }
 },
 "nbformat": 4,
 "nbformat_minor": 2
}
