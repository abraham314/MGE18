{
 "cells": [
  {
   "cell_type": "markdown",
   "metadata": {},
   "source": [
    "# Tarea 6"
   ]
  },
  {
   "cell_type": "markdown",
   "metadata": {},
   "source": [
    "https://medium.com/@suci/running-pyspark-on-jupyter-notebook-with-docker-602b18ac4494"
   ]
  },
  {
   "cell_type": "code",
   "execution_count": 4,
   "metadata": {},
   "outputs": [],
   "source": [
    "from pyspark.sql import SparkSession\n",
    "from pyspark.sql.functions import *\n",
    "\n",
    "spark = SparkSession.builder.master(\"local[3]\").getOrCreate()"
   ]
  },
  {
   "cell_type": "markdown",
   "metadata": {},
   "source": [
    "## Ejercicio 1"
   ]
  },
  {
   "cell_type": "markdown",
   "metadata": {},
   "source": [
    "## Ejercicio 2"
   ]
  },
  {
   "cell_type": "code",
   "execution_count": 68,
   "metadata": {},
   "outputs": [],
   "source": [
    "flights = spark.read.csv('/home/jovyan/flights/flights.csv', header =True)\n",
    "airports = spark.read.csv('/home/jovyan/flights/airports.csv', header =True)\n",
    "airlines = spark.read.csv('/home/jovyan/flights/airlines.csv', header =True)"
   ]
  },
  {
   "cell_type": "code",
   "execution_count": 69,
   "metadata": {},
   "outputs": [
    {
     "name": "stdout",
     "output_type": "stream",
     "text": [
      "root\n",
      " |-- YEAR: string (nullable = true)\n",
      " |-- MONTH: string (nullable = true)\n",
      " |-- DAY: string (nullable = true)\n",
      " |-- DAY_OF_WEEK: string (nullable = true)\n",
      " |-- AIRLINE: string (nullable = true)\n",
      " |-- FLIGHT_NUMBER: string (nullable = true)\n",
      " |-- TAIL_NUMBER: string (nullable = true)\n",
      " |-- ORIGIN_AIRPORT: string (nullable = true)\n",
      " |-- DESTINATION_AIRPORT: string (nullable = true)\n",
      " |-- SCHEDULED_DEPARTURE: string (nullable = true)\n",
      " |-- DEPARTURE_TIME: string (nullable = true)\n",
      " |-- DEPARTURE_DELAY: string (nullable = true)\n",
      " |-- TAXI_OUT: string (nullable = true)\n",
      " |-- WHEELS_OFF: string (nullable = true)\n",
      " |-- SCHEDULED_TIME: string (nullable = true)\n",
      " |-- ELAPSED_TIME: string (nullable = true)\n",
      " |-- AIR_TIME: string (nullable = true)\n",
      " |-- DISTANCE: string (nullable = true)\n",
      " |-- WHEELS_ON: string (nullable = true)\n",
      " |-- TAXI_IN: string (nullable = true)\n",
      " |-- SCHEDULED_ARRIVAL: string (nullable = true)\n",
      " |-- ARRIVAL_TIME: string (nullable = true)\n",
      " |-- ARRIVAL_DELAY: string (nullable = true)\n",
      " |-- DIVERTED: string (nullable = true)\n",
      " |-- CANCELLED: string (nullable = true)\n",
      " |-- CANCELLATION_REASON: string (nullable = true)\n",
      " |-- AIR_SYSTEM_DELAY: string (nullable = true)\n",
      " |-- SECURITY_DELAY: string (nullable = true)\n",
      " |-- AIRLINE_DELAY: string (nullable = true)\n",
      " |-- LATE_AIRCRAFT_DELAY: string (nullable = true)\n",
      " |-- WEATHER_DELAY: string (nullable = true)\n",
      "\n"
     ]
    }
   ],
   "source": [
    "flights.printSchema() "
   ]
  },
  {
   "cell_type": "markdown",
   "metadata": {},
   "source": [
    "### Ejercicio 2a\n",
    "\n",
    "2a. ¿Qué aerolíneas (nombres) llegan al aeropuerto \"Honolulu International Airport\"?"
   ]
  },
  {
   "cell_type": "code",
   "execution_count": 129,
   "metadata": {},
   "outputs": [
    {
     "name": "stdout",
     "output_type": "stream",
     "text": [
      "+-------+--------------------+\n",
      "|AIRLINE|              nombre|\n",
      "+-------+--------------------+\n",
      "|     UA|United Air Lines ...|\n",
      "|     AA|American Airlines...|\n",
      "|     DL|Delta Air Lines Inc.|\n",
      "|     US|     US Airways Inc.|\n",
      "|     HA|Hawaiian Airlines...|\n",
      "|     AS|Alaska Airlines Inc.|\n",
      "|     VX|      Virgin America|\n",
      "+-------+--------------------+\n",
      "\n"
     ]
    }
   ],
   "source": [
    "dest = flights.select(\"AIRLINE\").where(\"DESTINATION_AIRPORT = 'HNL'\").distinct()\n",
    "aerolinea = airlines.select(\"IATA_CODE\", \n",
    "                          airlines.AIRLINE.alias(\"nombre\"))\n",
    "ej_2a = dest.join(aerolinea, dest.AIRLINE == aerolinea.IATA_CODE, 'left')\n",
    "ej_2a = ej_2a.select(\"AIRLINE\", \"nombre\")\n",
    "\n",
    "ej_2a.show()\n",
    "ej_2a.repartition(1).write.csv('2a')"
   ]
  },
  {
   "cell_type": "markdown",
   "metadata": {},
   "source": [
    "### Ejercicio 2b\n",
    "\n",
    "2b. ¿En qué horario (hora del día, no importan los minutos) hay salidas del aeropuerto de San Francisco (\"SFO\") a \"Honolulu International Airport\""
   ]
  },
  {
   "cell_type": "code",
   "execution_count": 130,
   "metadata": {},
   "outputs": [
    {
     "name": "stdout",
     "output_type": "stream",
     "text": [
      "+-----+\n",
      "|HORAS|\n",
      "+-----+\n",
      "|   19|\n",
      "|    7|\n",
      "|    6|\n",
      "|    9|\n",
      "|   17|\n",
      "|   10|\n",
      "|   12|\n",
      "|    8|\n",
      "|   11|\n",
      "|   13|\n",
      "|   18|\n",
      "|   14|\n",
      "|   15|\n",
      "|   16|\n",
      "+-----+\n",
      "\n"
     ]
    }
   ],
   "source": [
    "horas = flights.withColumn(\"HORAS\", floor(flights.SCHEDULED_DEPARTURE / 100))\n",
    "ej_2b = horas.select(\"HORAS\").where(\"destination_airport = 'HNL' AND origin_airport = 'SFO'\")\\\n",
    ".distinct()\n",
    "\n",
    "ej_2b.show()\n",
    "ej_2b.repartition(1).write.csv('2b')"
   ]
  },
  {
   "cell_type": "markdown",
   "metadata": {},
   "source": [
    "### Ejercicio 2c\n",
    "\n",
    "2c. ¿Qué día de la semana y en qué aerolínea nos conviene viajar a \"Honolulu International Airport\" para tener el menor retraso posible? "
   ]
  },
  {
   "cell_type": "code",
   "execution_count": 131,
   "metadata": {},
   "outputs": [
    {
     "name": "stdout",
     "output_type": "stream",
     "text": [
      "+-----------+-------+--------------+-------------------+\n",
      "|DAY_OF_WEEK|AIRLINE|        nombre|            retraso|\n",
      "+-----------+-------+--------------+-------------------+\n",
      "|          1|     VX|Virgin America|-14.222222222222221|\n",
      "|          6|     VX|Virgin America|            -11.125|\n",
      "|          5|     VX|Virgin America|             -10.25|\n",
      "+-----------+-------+--------------+-------------------+\n",
      "\n"
     ]
    }
   ],
   "source": [
    "retraso = flights.select(flights.DAY_OF_WEEK, \n",
    "                         flights.ARRIVAL_DELAY.cast(\"float\").alias(\"ARRIVAL_DELAY\"),\n",
    "                        flights.DESTINATION_AIRPORT,\n",
    "                        flights.AIRLINE)\n",
    "retraso = retraso.where(\"DESTINATION_AIRPORT = 'HNL'\")\n",
    "retraso = retraso.groupBy(\"DAY_OF_WEEK\", \"AIRLINE\").avg(\"ARRIVAL_DELAY\")\n",
    "retraso = retraso.sort(retraso[\"avg(ARRIVAL_DELAY)\"]).limit(3)\n",
    "\n",
    "aerolinea = airlines.select(\"IATA_CODE\", \n",
    "                          airlines.AIRLINE.alias(\"nombre\"))\n",
    "ej_2c = retraso.join(aerolinea, retraso.AIRLINE == aerolinea.IATA_CODE, 'left')\n",
    "ej_2c = ej_2c.select(\"DAY_OF_WEEK\",\n",
    "                    \"AIRLINE\",\n",
    "                    \"nombre\",\n",
    "                    ej_2c[\"avg(ARRIVAL_DELAY)\"].alias(\"retraso\"))\n",
    "\n",
    "ej_2c.show()\n",
    "ej_2c.repartition(1).write.csv('2c')"
   ]
  },
  {
   "cell_type": "markdown",
   "metadata": {},
   "source": [
    "### Ejercicio 2d\n",
    "\n",
    "2d. ¿Cuál es el aeropuerto con mayor tráfico de entrada?"
   ]
  },
  {
   "cell_type": "code",
   "execution_count": 132,
   "metadata": {},
   "outputs": [
    {
     "name": "stdout",
     "output_type": "stream",
     "text": [
      "+-------------------+------+---------+--------------------+\n",
      "|DESTINATION_AIRPORT| count|IATA_CODE|             AIRPORT|\n",
      "+-------------------+------+---------+--------------------+\n",
      "|                ATL|346904|      ATL|Hartsfield-Jackso...|\n",
      "|                ORD|285906|      ORD|Chicago O'Hare In...|\n",
      "|                DFW|239582|      DFW|Dallas/Fort Worth...|\n",
      "+-------------------+------+---------+--------------------+\n",
      "\n"
     ]
    }
   ],
   "source": [
    "destino = flights.groupBy(\"DESTINATION_AIRPORT\").count().sort(desc(\"count\")).limit(3)\n",
    "aeropuerto = airports.select(\"IATA_CODE\", \"AIRPORT\")\n",
    "\n",
    "ej_2d = destino.join(aeropuerto, destino.DESTINATION_AIRPORT == aeropuerto.IATA_CODE, 'left')\n",
    "ej_2d.show()\n",
    "ej_2d.repartition(1).write.csv('2d')"
   ]
  },
  {
   "cell_type": "markdown",
   "metadata": {},
   "source": [
    "### Ejercicio 2e\n",
    "\n",
    "2e. ¿Cuál es la aerolínea con mayor retraso de salida por día de la semana? "
   ]
  },
  {
   "cell_type": "code",
   "execution_count": 133,
   "metadata": {},
   "outputs": [
    {
     "name": "stdout",
     "output_type": "stream",
     "text": [
      "+-----------+-------+--------------------+\n",
      "|DAY_OF_WEEK|AIRLINE|avg(DEPARTURE_DELAY)|\n",
      "+-----------+-------+--------------------+\n",
      "|          3|     UA|  14.282200834726739|\n",
      "|          6|     NK|  15.780295269659536|\n",
      "|          7|     NK|  17.149202320522118|\n",
      "|          1|     NK|  18.795626679697044|\n",
      "|          5|     NK|  15.786104837751099|\n",
      "|          4|     UA|   14.88742760925581|\n",
      "|          2|     NK|  15.714659197012137|\n",
      "+-----------+-------+--------------------+\n",
      "\n"
     ]
    }
   ],
   "source": [
    "retraso = flights.select(flights.DAY_OF_WEEK, \n",
    "                         flights.AIRLINE,\n",
    "                         flights.DEPARTURE_DELAY.cast(\"float\").alias(\"DEPARTURE_DELAY\"))\n",
    "retraso = retraso.groupBy(\"DAY_OF_WEEK\", \"AIRLINE\").avg(\"DEPARTURE_DELAY\")\n",
    "\n",
    "retraso_2 = retraso.groupBy(\"DAY_OF_WEEK\").max(\"avg(DEPARTURE_DELAY)\")\n",
    "retraso_2 = retraso_2.select(retraso_2.DAY_OF_WEEK.alias(\"dia_semana\"),\n",
    "                            retraso_2[\"max(avg(DEPARTURE_DELAY))\"])\n",
    "retraso_2 = retraso_2.join(retraso, \n",
    "               retraso_2[\"max(avg(DEPARTURE_DELAY))\"] == retraso[\"avg(DEPARTURE_DELAY)\"],\n",
    "              'left')\n",
    "\n",
    "ej_2e = retraso_2.select(\"DAY_OF_WEEK\", \"AIRLINE\", \"avg(DEPARTURE_DELAY)\")\n",
    "ej_2e.show()\n",
    "ej_2e.repartition(1).write.csv('2e')"
   ]
  },
  {
   "cell_type": "markdown",
   "metadata": {},
   "source": [
    "### Ejercicio 2f\n",
    "\n",
    "2f. ¿Cuál es la tercer aerolínea con menor retraso de salida los lunes (day of week = 2)?"
   ]
  },
  {
   "cell_type": "code",
   "execution_count": 134,
   "metadata": {},
   "outputs": [
    {
     "name": "stdout",
     "output_type": "stream",
     "text": [
      "+-----------+-------+--------------------+\n",
      "|DAY_OF_WEEK|AIRLINE|avg(DEPARTURE_DELAY)|\n",
      "+-----------+-------+--------------------+\n",
      "|          2|     HA|  -1.554867003527505|\n",
      "|          2|     AS|  0.7757525430766037|\n",
      "|          2|     US|   6.475248598806726|\n",
      "|          2|     AA|   6.750830434952519|\n",
      "|          2|     VX|   7.467288669064748|\n",
      "+-----------+-------+--------------------+\n",
      "\n"
     ]
    }
   ],
   "source": [
    "retraso = flights.select(flights.DAY_OF_WEEK, \n",
    "                         flights.AIRLINE,\n",
    "                         flights.DEPARTURE_DELAY.cast(\"float\").alias(\"DEPARTURE_DELAY\"))\n",
    "\n",
    "ej_2f = retraso.groupBy(\"DAY_OF_WEEK\", \"AIRLINE\").avg(\"DEPARTURE_DELAY\") \\\n",
    ".where(\"DAY_OF_WEEK = 2\").sort(asc(\"avg(DEPARTURE_DELAY)\")).limit(5)\n",
    "ej_2f.show()\n",
    "ej_2f.repartition(1).write.csv('2f')"
   ]
  },
  {
   "cell_type": "markdown",
   "metadata": {},
   "source": [
    "### Ejercicio 2g\n",
    "\n",
    "2g. ¿Cuál es el aeropuerto origen que llega a la mayor cantidad de aeropuertos destino diferentes?"
   ]
  },
  {
   "cell_type": "code",
   "execution_count": 135,
   "metadata": {},
   "outputs": [
    {
     "name": "stdout",
     "output_type": "stream",
     "text": [
      "+--------------+-------+---------+--------------------+\n",
      "|ORIGIN_AIRPORT|destino|IATA_CODE|             AIRPORT|\n",
      "+--------------+-------+---------+--------------------+\n",
      "|           ATL|    169|      ATL|Hartsfield-Jackso...|\n",
      "|           ORD|    162|      ORD|Chicago O'Hare In...|\n",
      "|           DFW|    148|      DFW|Dallas/Fort Worth...|\n",
      "+--------------+-------+---------+--------------------+\n",
      "\n"
     ]
    }
   ],
   "source": [
    "destino = flights.groupBy(\"ORIGIN_AIRPORT\").agg(countDistinct(\"DESTINATION_AIRPORT\"))\n",
    "destino = destino.select(\"ORIGIN_AIRPORT\", \n",
    "               destino[\"count(DISTINCT DESTINATION_AIRPORT)\"].alias(\"destino\"))\n",
    "destino = destino.sort(desc(\"destino\")).limit(3)\n",
    "aeropuerto = airports.select(\"IATA_CODE\", \"AIRPORT\")\n",
    "ej_2g = destino.join(aeropuerto, destino.ORIGIN_AIRPORT == aeropuerto.IATA_CODE, \"left\")\n",
    "\n",
    "ej_2g.show()\n",
    "ej_2g.repartition(1).write.csv('2g')"
   ]
  },
  {
   "cell_type": "code",
   "execution_count": null,
   "metadata": {},
   "outputs": [],
   "source": []
  }
 ],
 "metadata": {
  "kernelspec": {
   "display_name": "Python 3",
   "language": "python",
   "name": "python3"
  },
  "language_info": {
   "codemirror_mode": {
    "name": "ipython",
    "version": 3
   },
   "file_extension": ".py",
   "mimetype": "text/x-python",
   "name": "python",
   "nbconvert_exporter": "python",
   "pygments_lexer": "ipython3",
   "version": "3.6.3"
  }
 },
 "nbformat": 4,
 "nbformat_minor": 2
}
