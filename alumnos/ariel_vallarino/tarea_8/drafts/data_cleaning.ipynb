{
 "cells": [
  {
   "cell_type": "markdown",
   "metadata": {},
   "source": [
    "# Tarea 8 - Luigi\n",
    "\n",
    "_175904 - Jorge III Altamirano Astorga_\n",
    "\n",
    "## Limpieza de Datos"
   ]
  },
  {
   "cell_type": "code",
   "execution_count": 16,
   "metadata": {
    "collapsed": true
   },
   "outputs": [],
   "source": [
    "#importo librerías\n",
    "import pyspark\n",
    "from pyspark import SparkContext, SparkConf, SQLContext\n",
    "from pyspark.sql.functions import *\n",
    "from pyspark.sql import DataFrameStatFunctions, DataFrame\n",
    "from pyspark.sql.types import *\n",
    "from pyspark.ml import Pipeline\n",
    "from pyspark.ml.feature import *\n",
    "from pyspark.ml.classification import RandomForestClassifier, LogisticRegression\n",
    "from pyspark.ml.regression import GeneralizedLinearRegression\n",
    "from pyspark.ml.evaluation import MulticlassClassificationEvaluator\n",
    "from pyspark.ml.tuning import CrossValidator, ParamGridBuilder\n",
    "import numpy as np\n",
    "import pandas as pd\n",
    "import re as re\n",
    "import time"
   ]
  },
  {
   "cell_type": "code",
   "execution_count": 62,
   "metadata": {
    "collapsed": true
   },
   "outputs": [],
   "source": [
    "#arranque de Spark\n",
    "conf = SparkConf()\n",
    "conf.set(\"spark.driver.memory\", \"16g\")\n",
    "conf.set(\"spark.driver.cores\", 4)\n",
    "conf.set(\"spark.driver.memoryOverhead\", 0.9)\n",
    "conf.set(\"spark.executor.memory\", \"32g\")\n",
    "conf.set(\"spark.executor.cores\", 12)\n",
    "conf.set(\"spark.jars\", \"/home/jaa6766\")\n",
    "sc = SparkContext(master = \"local[14]\", sparkHome=\"/usr/local/spark/\", \n",
    "                  appName=\"tarea-mge-8\", conf=conf)\n",
    "spark = SQLContext(sc)"
   ]
  },
  {
   "cell_type": "markdown",
   "metadata": {},
   "source": [
    "### Carga de Datos"
   ]
  },
  {
   "cell_type": "code",
   "execution_count": 64,
   "metadata": {
    "scrolled": false
   },
   "outputs": [
    {
     "name": "stdout",
     "output_type": "stream",
     "text": [
      "+--------------------+--------------------+-----+--------------------+--------+------+-------------------+---------------+--------------------+--------------------+--------------------+----------------+-------------------+---------+----------+\n",
      "|            producto|        presentacion|marca|           categoria|catalogo|precio|      fechaRegistro|cadenaComercial|                giro|     nombreComercial|           direccion|          estado|          municipio|  latitud|  longitud|\n",
      "+--------------------+--------------------+-----+--------------------+--------+------+-------------------+---------------+--------------------+--------------------+--------------------+----------------+-------------------+---------+----------+\n",
      "|                null|                null| null|                null|    null|  null|               null|           null|                null|                null|                null|            null|               null|     null|      null|\n",
      "|POLVO P/PREPARAR ...|SOBRE 15 GR. NARA...| ZUKO|CHOCOLATES Y GOLO...| BASICOS|2.9000|2016-02-11 14:08:14| BODEGA AURRERA|TIENDA DE AUTOSER...|AURRERA BODEGA SU...|CALZ. DE LA VIGA ...|DISTRITO FEDERAL|VENUSTIANO CARRANZA|19.414749|-99.127874|\n",
      "+--------------------+--------------------+-----+--------------------+--------+------+-------------------+---------------+--------------------+--------------------+--------------------+----------------+-------------------+---------+----------+\n",
      "only showing top 2 rows\n",
      "\n",
      "root\n",
      " |-- producto: string (nullable = true)\n",
      " |-- presentacion: string (nullable = true)\n",
      " |-- marca: string (nullable = true)\n",
      " |-- categoria: string (nullable = true)\n",
      " |-- catalogo: string (nullable = true)\n",
      " |-- precio: decimal(16,4) (nullable = true)\n",
      " |-- fechaRegistro: timestamp (nullable = true)\n",
      " |-- cadenaComercial: string (nullable = true)\n",
      " |-- giro: string (nullable = true)\n",
      " |-- nombreComercial: string (nullable = true)\n",
      " |-- direccion: string (nullable = true)\n",
      " |-- estado: string (nullable = true)\n",
      " |-- municipio: string (nullable = true)\n",
      " |-- latitud: double (nullable = true)\n",
      " |-- longitud: double (nullable = true)\n",
      "\n",
      "CPU times: user 41.1 ms, sys: 12.8 ms, total: 54 ms\n",
      "Wall time: 2min 36s\n"
     ]
    }
   ],
   "source": [
    "%%time\n",
    "data = spark.read.csv(\"hdfs://172.17.0.2:9000/data/profeco/data.csv\", \n",
    "                      schema = StructType() \\\n",
    "                        .add(\"producto\", StringType(), False) \\\n",
    "                        .add(\"presentacion\", StringType(), True) \\\n",
    "                        .add(\"marca\", StringType(), True) \\\n",
    "                        .add(\"categoria\", StringType(), True) \\\n",
    "                        .add(\"catalogo\", StringType(), True) \\\n",
    "                        .add(\"precio\", DecimalType(precision=16, scale=4), True) \\\n",
    "                        .add(\"fechaRegistro\", TimestampType(), True) \\\n",
    "                        .add(\"cadenaComercial\", StringType(), True) \\\n",
    "                        .add(\"giro\", StringType(), True) \\\n",
    "                        .add(\"nombreComercial\", StringType(), True) \\\n",
    "                        .add(\"direccion\", StringType(), True) \\\n",
    "                        .add(\"estado\", StringType(), True) \\\n",
    "                        .add(\"municipio\", StringType(), True) \\\n",
    "                        .add(\"latitud\", DoubleType(), True) \\\n",
    "                        .add(\"longitud\", DoubleType(), True),\n",
    "                      inferSchema=False, \n",
    "                      escape='\"',\n",
    "                      quote='\"',\n",
    "                      timestampFormat=\"yyyy-MM-dd hh:mm:ss\",\n",
    "                      header=True)\n",
    "data.write.parquet(\"hdfs://172.17.0.2:9000/data/profeco/data.parquet\", mode=\"overwrite\")\n",
    "data = spark.read.parquet(\"hdfs://172.17.0.2:9000/data/profeco/data.parquet\")\n",
    "data.cache()\n",
    "data.show(2)\n",
    "data.printSchema()"
   ]
  },
  {
   "cell_type": "markdown",
   "metadata": {},
   "source": [
    "### Sumario"
   ]
  },
  {
   "cell_type": "code",
   "execution_count": null,
   "metadata": {},
   "outputs": [
    {
     "name": "stdout",
     "output_type": "stream",
     "text": [
      "CPU times: user 17.5 s, sys: 4.71 s, total: 22.2 s\n",
      "Wall time: 23h 9min 20s\n"
     ]
    }
   ],
   "source": [
    "%%time\n",
    "#sample = data.sample(fraction = 0.0001, seed=175904)\n",
    "summary = data.summary()"
   ]
  },
  {
   "cell_type": "code",
   "execution_count": 13,
   "metadata": {
    "collapsed": true
   },
   "outputs": [],
   "source": [
    "summary.coalesce(1).write.parquet(\"hdfs://172.17.0.2:9000/data/profeco/summary.parquet\", mode=\"overwrite\")"
   ]
  },
  {
   "cell_type": "code",
   "execution_count": 11,
   "metadata": {
    "scrolled": false
   },
   "outputs": [
    {
     "name": "stdout",
     "output_type": "stream",
     "text": [
      "####### producto #######\n",
      "+-------+--------+\n",
      "|summary|producto|\n",
      "+-------+--------+\n",
      "|min    |A.S.COR |\n",
      "|max    |ZYPREXA |\n",
      "+-------+--------+\n",
      "\n",
      "####### presentacion #######\n",
      "+-------+----------------------------------------------+\n",
      "|summary|presentacion                                  |\n",
      "+-------+----------------------------------------------+\n",
      "|min    |# 6017872 O C.B. 96911. HEDBANZ ¡PARA ADULTOS!|\n",
      "|max    |´0280808. PATIN/SCOOTER. ULTIMATE SPIDER-MAN  |\n",
      "+-------+----------------------------------------------+\n",
      "\n",
      "####### marca #######\n",
      "+-------+------------------------+\n",
      "|summary|marca                   |\n",
      "+-------+------------------------+\n",
      "|min    |'PAPER MATE. ERASER-MATE|\n",
      "|max    |iO MABE                 |\n",
      "+-------+------------------------+\n",
      "\n",
      "####### categoria #######\n",
      "+-------+---------------------+\n",
      "|summary|categoria            |\n",
      "+-------+---------------------+\n",
      "|min    |ACCESORIOS DOMESTICOS|\n",
      "|max    |VINOS Y LICORES      |\n",
      "+-------+---------------------+\n",
      "\n",
      "####### catalogo #######\n",
      "+-------+----------------+\n",
      "|summary|catalogo        |\n",
      "+-------+----------------+\n",
      "|min    |BASICOS         |\n",
      "|max    |UTILES ESCOLARES|\n",
      "+-------+----------------+\n",
      "\n",
      "####### precio #######\n",
      "+-------+------------------+\n",
      "|summary|precio            |\n",
      "+-------+------------------+\n",
      "|mean   |520.13878087      |\n",
      "|stddev |2007.5387305914912|\n",
      "|min    |0.1000            |\n",
      "|25%    |17.9              |\n",
      "|50%    |38.9              |\n",
      "|75%    |168.35            |\n",
      "|max    |299999.0000       |\n",
      "+-------+------------------+\n",
      "\n",
      "####### fechaRegistro #######\n",
      "Sin sumario\n",
      "\n",
      "\n",
      "####### cadenaComercial #######\n",
      "+-------+---------------+\n",
      "|summary|cadenaComercial|\n",
      "+-------+---------------+\n",
      "|min    |7 ELEVEN       |\n",
      "|max    |ZAPOPAN ESCOLAR|\n",
      "+-------+---------------+\n",
      "\n",
      "####### giro #######\n",
      "+-------+--------------------+\n",
      "|summary|giro                |\n",
      "+-------+--------------------+\n",
      "|min    |ARTICULOS DEPORTIVOS|\n",
      "|max    |ZAPATERIA           |\n",
      "+-------+--------------------+\n",
      "\n",
      "####### nombreComercial #######\n",
      "+-------+---------------+\n",
      "|summary|nombreComercial|\n",
      "+-------+---------------+\n",
      "|min    |7 ELEVEN       |\n",
      "|max    |ZARAGOZA       |\n",
      "+-------+---------------+\n",
      "\n",
      "####### direccion #######\n",
      "+-------+--------------------------------------------------+\n",
      "|summary|direccion                                         |\n",
      "+-------+--------------------------------------------------+\n",
      "|min    |1 DE MAYO 103, ENTRE ARTICULO 123 Y LUCRECIO TORIS|\n",
      "|max    |ZURICH NO. 1039, ESQ. MANZANARES                  |\n",
      "+-------+--------------------------------------------------+\n",
      "\n",
      "####### estado #######\n",
      "+-------+--------------+\n",
      "|summary|estado        |\n",
      "+-------+--------------+\n",
      "|min    |AGUASCALIENTES|\n",
      "|max    |ZACATECAS     |\n",
      "+-------+--------------+\n",
      "\n",
      "####### municipio #######\n",
      "+-------+----------------------------------------+\n",
      "|summary|municipio                               |\n",
      "+-------+----------------------------------------+\n",
      "|min    |ACAPULCO DE JUAREZ                      |\n",
      "|max    |ÁLVARO OBREGÓN                          |\n",
      "+-------+----------------------------------------+\n",
      "\n",
      "####### latitud #######\n",
      "+-------+------------------+\n",
      "|summary|latitud           |\n",
      "+-------+------------------+\n",
      "|mean   |23.73501506003635 |\n",
      "|stddev |264.47329834556217|\n",
      "|min    |0.0               |\n",
      "|25%    |19.357925         |\n",
      "|50%    |19.696173         |\n",
      "|75%    |21.493175         |\n",
      "|max    |28745.542         |\n",
      "+-------+------------------+\n",
      "\n",
      "####### longitud #######\n",
      "+-------+------------------+\n",
      "|summary|longitud          |\n",
      "+-------+------------------+\n",
      "|mean   |-100.0703738936918|\n",
      "|stddev |10.823734846866175|\n",
      "|min    |-1061.61231       |\n",
      "|25%    |-101.695268       |\n",
      "|50%    |-99.227253        |\n",
      "|75%    |-99.027852        |\n",
      "|max    |115.478937        |\n",
      "+-------+------------------+\n",
      "\n"
     ]
    }
   ],
   "source": [
    "for (nombre, tipo) in data.dtypes:\n",
    "    print(\"####### %s #######\"%nombre)\n",
    "    if tipo in \"string\":\n",
    "        summary.select(\"summary\", nombre) \\\n",
    "            .filter(\"summary = 'min' OR summary = 'max'\") \\\n",
    "            .show(truncate=False)\n",
    "    elif \"decimal\" in tipo or tipo in \"double\":\n",
    "        summary.select(\"summary\", nombre) \\\n",
    "            .filter(\"summary <> 'count'\") \\\n",
    "            .show(truncate=False)\n",
    "    else:\n",
    "        print(\"Sin sumario\\n\\n\")"
   ]
  },
  {
   "cell_type": "code",
   "execution_count": 132,
   "metadata": {
    "scrolled": false
   },
   "outputs": [
    {
     "name": "stdout",
     "output_type": "stream",
     "text": [
      "####### producto #######\n",
      "       producto\n",
      "count  62530715\n",
      "min     A.S.COR\n",
      "max     ZYPREXA\n",
      "\n",
      "\n",
      "####### presentacion #######\n",
      "                                         presentacion\n",
      "count                                        62530715\n",
      "min    # 6017872 O C.B. 96911. HEDBANZ ¡PARA ADULTOS!\n",
      "max      ´0280808. PATIN/SCOOTER. ULTIMATE SPIDER-MAN\n",
      "\n",
      "\n",
      "####### marca #######\n",
      "                          marca\n",
      "count                  62530715\n",
      "min    'PAPER MATE. ERASER-MATE\n",
      "max                     iO MABE\n",
      "\n",
      "\n",
      "####### categoria #######\n",
      "                   categoria\n",
      "count               62530715\n",
      "min    ACCESORIOS DOMESTICOS\n",
      "max          VINOS Y LICORES\n",
      "\n",
      "\n",
      "####### catalogo #######\n",
      "               catalogo\n",
      "count          62530715\n",
      "min             BASICOS\n",
      "max    UTILES ESCOLARES\n",
      "\n",
      "\n",
      "####### precio #######\n",
      "                     precio\n",
      "count              62530715\n",
      "min                  0.1000\n",
      "25%                    21.9\n",
      "50%                    45.9\n",
      "75%                   289.0\n",
      "max            299,999.0000\n",
      "avg            520.13878087\n",
      "stddev  2,007.5387305914912\n",
      "\n",
      "\n",
      "####### fechaRegistro #######\n",
      "Sin sumario\n",
      "\n",
      "\n",
      "####### cadenaComercial #######\n",
      "       cadenaComercial\n",
      "count         62530715\n",
      "min           7 ELEVEN\n",
      "max    ZAPOPAN ESCOLAR\n",
      "\n",
      "\n",
      "####### giro #######\n",
      "                       giro\n",
      "count              62530715\n",
      "min    ARTICULOS DEPORTIVOS\n",
      "max               ZAPATERIA\n",
      "\n",
      "\n",
      "####### nombreComercial #######\n",
      "      nombreComercial\n",
      "count        62530715\n",
      "min          7 ELEVEN\n",
      "max          ZARAGOZA\n",
      "\n",
      "\n",
      "####### direccion #######\n",
      "                                               direccion\n",
      "count                                           62530715\n",
      "min    1 DE MAYO 103, ENTRE ARTICULO 123 Y LUCRECIO T...\n",
      "max                     ZURICH NO. 1039, ESQ. MANZANARES\n",
      "\n",
      "\n",
      "####### estado #######\n",
      "               estado\n",
      "count        62530715\n",
      "min    AGUASCALIENTES\n",
      "max         ZACATECAS\n",
      "\n",
      "\n",
      "####### municipio #######\n",
      "                                      municipio\n",
      "count                                  62530715\n",
      "min    ACAPULCO DE JUAREZ                      \n",
      "max                              ÁLVARO OBREGÓN\n",
      "\n",
      "\n",
      "####### latitud #######\n",
      "                   latitud\n",
      "count             62530715\n",
      "min                    0.0\n",
      "25%              19.380448\n",
      "50%              20.596809\n",
      "75%              21.164728\n",
      "max             28,745.542\n",
      "avg      23.73501506003635\n",
      "stddev  264.47329834556217\n",
      "\n",
      "\n",
      "####### longitud #######\n",
      "                  longitud\n",
      "count             62530715\n",
      "min           -1,061.61231\n",
      "25%            -101.158295\n",
      "50%             -99.209474\n",
      "75%             -98.229813\n",
      "max             115.478937\n",
      "avg     -100.0703738936918\n",
      "stddev  10.823734846866175\n",
      "\n",
      "\n",
      "+--------+--------------------+--------------------+--------------------+----------------+-------------------+---------------+--------------------+---------------+--------------------+--------------+--------------------+------------------+------------------+\n",
      "|producto|        presentacion|               marca|           categoria|        catalogo|             precio|cadenaComercial|                giro|nombreComercial|           direccion|        estado|           municipio|           latitud|          longitud|\n",
      "+--------+--------------------+--------------------+--------------------+----------------+-------------------+---------------+--------------------+---------------+--------------------+--------------+--------------------+------------------+------------------+\n",
      "|     nan|                 nan|                 nan|                 nan|             nan|               21.9|            nan|                 nan|            nan|                 nan|           nan|                 nan|         19.380448|       -101.158295|\n",
      "|     nan|                 nan|                 nan|                 nan|             nan|               45.9|            nan|                 nan|            nan|                 nan|           nan|                 nan|         20.596809|        -99.209474|\n",
      "|     nan|                 nan|                 nan|                 nan|             nan|              289.0|            nan|                 nan|            nan|                 nan|           nan|                 nan|         21.164728|        -98.229813|\n",
      "|     nan|                 nan|                 nan|                 nan|             nan|       520.13878087|            nan|                 nan|            nan|                 nan|           nan|                 nan| 23.73501506003635|-100.0703738936918|\n",
      "|62530715|            62530715|            62530715|            62530715|        62530715|           62530715|       62530715|            62530715|       62530715|            62530715|      62530715|            62530715|          62530715|          62530715|\n",
      "| ZYPREXA|´0280808. PATIN/S...|             iO MABE|     VINOS Y LICORES|UTILES ESCOLARES|       299,999.0000|ZAPOPAN ESCOLAR|           ZAPATERIA|       ZARAGOZA|ZURICH NO. 1039, ...|     ZACATECAS|      ÁLVARO OBREGÓN|        28,745.542|        115.478937|\n",
      "| A.S.COR|# 6017872 O C.B. ...|'PAPER MATE. ERAS...|ACCESORIOS DOMEST...|         BASICOS|             0.1000|       7 ELEVEN|ARTICULOS DEPORTIVOS|       7 ELEVEN|1 DE MAYO 103, EN...|AGUASCALIENTES|ACAPULCO DE JUARE...|               0.0|      -1,061.61231|\n",
      "|     nan|                 nan|                 nan|                 nan|             nan|2,007.5387305914912|            nan|                 nan|            nan|                 nan|           nan|                 nan|264.47329834556217|10.823734846866175|\n",
      "+--------+--------------------+--------------------+--------------------+----------------+-------------------+---------------+--------------------+---------------+--------------------+--------------+--------------------+------------------+------------------+\n",
      "\n",
      "CPU times: user 600 ms, sys: 86.9 ms, total: 687 ms\n",
      "Wall time: 55.9 s\n"
     ]
    }
   ],
   "source": [
    "%%time \n",
    "#funcion que hace lo mismo que summary, pero \n",
    "#irónicamente más rápido que spark (esta es para numéricos)\n",
    "def summary_j3a(col):\n",
    "    min1 = data.select(min(data[col]).alias(\"min\")).toPandas().transpose()\n",
    "    max1 = data.select(max(data[col]).alias(\"max\")).toPandas().transpose()\n",
    "    avg1 = data.select(mean(data[col]).alias(\"avg\")).toPandas().transpose()\n",
    "    std1 = data.select(stddev(data[col]).alias(\"stddev\")).toPandas().transpose()\n",
    "    probs = [0.25, 0.5, 0.75]\n",
    "    qnt1 = pd.DataFrame(  \\\n",
    "        data.approxQuantile(col, probabilities=probs, relativeError=0.05)\n",
    "    )\n",
    "    qnt1 = qnt1.rename_axis({0: \"25%\", 1: \"50%\", 2: \"75%\"}, axis=0)\n",
    "    complete = min1.append(qnt1).append(max1).append(avg1).append(std1)\n",
    "    complete = complete.rename(index=str, columns={0: col})\n",
    "    complete[col] = complete.apply(lambda x: \"{:,}\".format(x[col]), axis=1)\n",
    "    return complete\n",
    "#funcion que hace lo mismo que summary, pero \n",
    "#irónicamente más rápido que spark (esta es para strings)\n",
    "def summary_string_j3a(col):\n",
    "    min1 = data.select(min(data[col]).alias(\"min\")).toPandas().transpose()\n",
    "    max1 = data.select(max(data[col]).alias(\"max\")).toPandas().transpose()\n",
    "    complete = min1.append(max1)\n",
    "    complete = complete.rename(index=str, columns={0: col})\n",
    "    return complete\n",
    "summary_list = list()\n",
    "#ahora lo vamos a hacer por cada columna\n",
    "for (nombre, tipo) in data.dtypes:\n",
    "    ## header de la columna\n",
    "    print(\"####### %s #######\"%nombre)\n",
    "    ## los conteos los hacemos una vez\n",
    "    cnt1 = pd.DataFrame([{\"count\": data.count()}]).transpose()\n",
    "    cnt1 = cnt1.rename(index=str, columns={0: nombre})\n",
    "    ## sacar output de una columna string\n",
    "    if tipo in \"string\":\n",
    "        ret_val = cnt1.append(summary_string_j3a(nombre))\n",
    "        #agregarlo a un pandas para escritura al final\n",
    "        summary_list.append(ret_val)\n",
    "        print(ret_val)\n",
    "    ## sacar output de una columna numérica\n",
    "    elif \"decimal\" in tipo or tipo in \"double\":\n",
    "        #agregarlo a un pandas para escritura al final\n",
    "        ret_val = cnt1.append(summary_j3a(nombre))\n",
    "        summary_list.append(ret_val)\n",
    "        print(ret_val)\n",
    "    #no sabemos qué es, entoncess sacamos sin datos :-)\n",
    "    #se puede mejorar\n",
    "    else:\n",
    "        print(\"Sin sumario\")\n",
    "    print(\"\\n\")\n",
    "sumario = pd.concat(summary_list, 1)\n",
    "sumario_df = spark.createDataFrame(sumario.astype(str))\n",
    "sumario_df.coalesce(1).write.parquet(\"hdfs://172.17.0.2:9000/data/profeco/sumario_df.parquet\", \n",
    "                                    mode=\"overwrite\")\n",
    "sumario_df.show()"
   ]
  },
  {
   "cell_type": "markdown",
   "metadata": {},
   "source": [
    "### Cuantiles y Conteos"
   ]
  },
  {
   "cell_type": "code",
   "execution_count": 55,
   "metadata": {},
   "outputs": [
    {
     "name": "stdout",
     "output_type": "stream",
     "text": [
      "CPU times: user 28.4 ms, sys: 9.64 ms, total: 38.1 ms\n",
      "Wall time: 4.47 s\n"
     ]
    },
    {
     "data": {
      "text/plain": [
       "[10.89, 18.5, 39.9, 459.0, 924.0]"
      ]
     },
     "execution_count": 55,
     "metadata": {},
     "output_type": "execute_result"
    }
   ],
   "source": [
    "%%time\n",
    "data.approxQuantile(\"precio\", probabilities=[0.1, 0.25, 0.5, 0.85, 0.9], relativeError=0.01)"
   ]
  },
  {
   "cell_type": "code",
   "execution_count": 56,
   "metadata": {},
   "outputs": [
    {
     "name": "stdout",
     "output_type": "stream",
     "text": [
      "+-------------------------------+\n",
      "|approx_count_distinct(producto)|\n",
      "+-------------------------------+\n",
      "|                           1099|\n",
      "+-------------------------------+\n",
      "\n",
      "62530715\n",
      "CPU times: user 6.44 ms, sys: 4.48 ms, total: 10.9 ms\n",
      "Wall time: 3.2 s\n"
     ]
    }
   ],
   "source": [
    "%%time\n",
    "data.select(approxCountDistinct(data.producto, rsd=0.01)).show()\n",
    "print(data.count())"
   ]
  },
  {
   "cell_type": "code",
   "execution_count": 57,
   "metadata": {},
   "outputs": [
    {
     "name": "stdout",
     "output_type": "stream",
     "text": [
      "+-----------------------------+\n",
      "|approx_count_distinct(estado)|\n",
      "+-----------------------------+\n",
      "|                           32|\n",
      "+-----------------------------+\n",
      "\n"
     ]
    }
   ],
   "source": [
    "data.select(approxCountDistinct(data.estado, rsd=0.01)).show()"
   ]
  },
  {
   "cell_type": "code",
   "execution_count": 58,
   "metadata": {},
   "outputs": [
    {
     "name": "stdout",
     "output_type": "stream",
     "text": [
      "+--------------------+\n",
      "|              estado|\n",
      "+--------------------+\n",
      "|                null|\n",
      "|      AGUASCALIENTES|\n",
      "|     BAJA CALIFORNIA|\n",
      "| BAJA CALIFORNIA SUR|\n",
      "|            CAMPECHE|\n",
      "|             CHIAPAS|\n",
      "|           CHIHUAHUA|\n",
      "|COAHUILA DE ZARAGOZA|\n",
      "|              COLIMA|\n",
      "|    DISTRITO FEDERAL|\n",
      "|             DURANGO|\n",
      "|          GUANAJUATO|\n",
      "|            GUERRERO|\n",
      "|             HIDALGO|\n",
      "|             JALISCO|\n",
      "| MICHOACÁN DE OCAMPO|\n",
      "|             MORELOS|\n",
      "|              MÉXICO|\n",
      "|             NAYARIT|\n",
      "|          NUEVO LEÓN|\n",
      "|              OAXACA|\n",
      "|              PUEBLA|\n",
      "|           QUERÉTARO|\n",
      "|        QUINTANA ROO|\n",
      "|     SAN LUIS POTOSÍ|\n",
      "|             SINALOA|\n",
      "|              SONORA|\n",
      "|             TABASCO|\n",
      "|          TAMAULIPAS|\n",
      "|            TLAXCALA|\n",
      "|VERACRUZ DE IGNAC...|\n",
      "|             YUCATÁN|\n",
      "|           ZACATECAS|\n",
      "+--------------------+\n",
      "\n",
      "CPU times: user 8.96 ms, sys: 2.97 ms, total: 11.9 ms\n",
      "Wall time: 1.68 s\n"
     ]
    }
   ],
   "source": [
    "%%time\n",
    "data.select(data.estado).distinct().orderBy(data.estado).show(35)"
   ]
  },
  {
   "cell_type": "markdown",
   "metadata": {},
   "source": [
    "### Datos Nulos\n",
    "\n",
    "Desconocemos porqué quedaron tantos datos nulos. Esto nos resalto al encontrar $estado == Null$."
   ]
  },
  {
   "cell_type": "code",
   "execution_count": 133,
   "metadata": {},
   "outputs": [
    {
     "name": "stdout",
     "output_type": "stream",
     "text": [
      "Número de estados con valor nulo: 1130352\n",
      "\n",
      "\n",
      "+--------+------------+-----+---------+--------+------+-------------+---------------+----+---------------+---------+------+---------+-------+--------+\n",
      "|producto|presentacion|marca|categoria|catalogo|precio|fechaRegistro|cadenaComercial|giro|nombreComercial|direccion|estado|municipio|latitud|longitud|\n",
      "+--------+------------+-----+---------+--------+------+-------------+---------------+----+---------------+---------+------+---------+-------+--------+\n",
      "|    null|        null| null|     null|    null|  null|         null|           null|null|           null|     null|  null|     null|   null|    null|\n",
      "|    null|        null| null|     null|    null|  null|         null|           null|null|           null|     null|  null|     null|   null|    null|\n",
      "|    null|        null| null|     null|    null|  null|         null|           null|null|           null|     null|  null|     null|   null|    null|\n",
      "|    null|        null| null|     null|    null|  null|         null|           null|null|           null|     null|  null|     null|   null|    null|\n",
      "|    null|        null| null|     null|    null|  null|         null|           null|null|           null|     null|  null|     null|   null|    null|\n",
      "+--------+------------+-----+---------+--------+------+-------------+---------------+----+---------------+---------+------+---------+-------+--------+\n",
      "only showing top 5 rows\n",
      "\n"
     ]
    }
   ],
   "source": [
    "print(\"Número de estados con valor nulo: %d\\n\\n\"%data.filter(\"estado is null\").count())\n",
    "data.filter(\"estado is null\").show(5)"
   ]
  },
  {
   "cell_type": "code",
   "execution_count": 60,
   "metadata": {
    "collapsed": true
   },
   "outputs": [],
   "source": [
    "sc.stop()"
   ]
  }
 ],
 "metadata": {
  "kernelspec": {
   "display_name": "Python 3",
   "language": "python",
   "name": "python3"
  },
  "language_info": {
   "codemirror_mode": {
    "name": "ipython",
    "version": 3
   },
   "file_extension": ".py",
   "mimetype": "text/x-python",
   "name": "python",
   "nbconvert_exporter": "python",
   "pygments_lexer": "ipython3",
   "version": "3.6.3"
  }
 },
 "nbformat": 4,
 "nbformat_minor": 2
}
