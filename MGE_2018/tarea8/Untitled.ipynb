{
 "cells": [
  {
   "cell_type": "code",
   "execution_count": 1,
   "metadata": {},
   "outputs": [
    {
     "name": "stderr",
     "output_type": "stream",
     "text": [
      "DEBUG: Checking if examples.HelloWorldTask() is complete\n",
      "/home/abraham/anaconda3/envs/py35/lib/python3.5/site-packages/luigi/worker.py:346: UserWarning: Task examples.HelloWorldTask() without outputs has no custom complete() method\n",
      "  is_complete = task.complete()\n",
      "INFO: Informed scheduler that task   examples.HelloWorldTask__99914b932b   has status   PENDING\n",
      "INFO: Done scheduling tasks\n",
      "INFO: Running Worker with 1 processes\n",
      "DEBUG: Asking scheduler for work...\n",
      "DEBUG: Pending tasks: 1\n",
      "INFO: [pid 26452] Worker Worker(salt=397100295, workers=1, host=Lenovo-ideapad-700-15ISK, username=abraham, pid=26452) running   examples.HelloWorldTask()\n",
      "INFO: [pid 26452] Worker Worker(salt=397100295, workers=1, host=Lenovo-ideapad-700-15ISK, username=abraham, pid=26452) done      examples.HelloWorldTask()\n",
      "DEBUG: 1 running tasks, waiting for next task to finish\n",
      "INFO: Informed scheduler that task   examples.HelloWorldTask__99914b932b   has status   DONE\n",
      "DEBUG: Asking scheduler for work...\n",
      "DEBUG: Done\n",
      "DEBUG: There are no more tasks to run at this time\n",
      "INFO: Worker Worker(salt=397100295, workers=1, host=Lenovo-ideapad-700-15ISK, username=abraham, pid=26452) was stopped. Shutting down Keep-Alive thread\n",
      "INFO: \n",
      "===== Luigi Execution Summary =====\n",
      "\n",
      "Scheduled 1 tasks of which:\n",
      "* 1 ran successfully:\n",
      "    - 1 examples.HelloWorldTask()\n",
      "\n",
      "This progress looks :) because there were no failed tasks or missing external dependencies\n",
      "\n",
      "===== Luigi Execution Summary =====\n",
      "\n"
     ]
    },
    {
     "name": "stdout",
     "output_type": "stream",
     "text": [
      "HelloWorldTask says: Hello world!\n"
     ]
    }
   ],
   "source": [
    "import luigi\n",
    "\n",
    "\n",
    "class HelloWorldTask(luigi.Task):\n",
    "    task_namespace = 'examples'\n",
    "\n",
    "    def run(self):\n",
    "        print(\"{task} says: Hello world!\".format(task=self.__class__.__name__))\n",
    "\n",
    "\n",
    "if __name__ == '__main__':\n",
    "    luigi.run(['examples.HelloWorldTask', '--workers', '1', '--local-scheduler'])"
   ]
  },
  {
   "cell_type": "code",
   "execution_count": 5,
   "metadata": {},
   "outputs": [],
   "source": [
    "import datetime\n"
   ]
  },
  {
   "cell_type": "code",
   "execution_count": null,
   "metadata": {
    "collapsed": true
   },
   "outputs": [],
   "source": [
    "                                                                            "
   ]
  },
  {
   "cell_type": "code",
   "execution_count": null,
   "metadata": {
    "collapsed": true
   },
   "outputs": [],
   "source": []
  },
  {
   "cell_type": "code",
   "execution_count": null,
   "metadata": {
    "collapsed": true
   },
   "outputs": [],
   "source": []
  },
  {
   "cell_type": "code",
   "execution_count": null,
   "metadata": {
    "collapsed": true
   },
   "outputs": [],
   "source": []
  },
  {
   "cell_type": "code",
   "execution_count": 7,
   "metadata": {},
   "outputs": [],
   "source": [
    "dict={'Name': 'Boto3 test cluster', 'Status': {'State': 'STARTING', 'Timeline': {'CreationDateTime': datetime.datetime(2018, 4, 29, 18, 56, 42, 367000)}, 'StateChangeReason': {}}, 'Id': 'j-G8ZO9FZC9TB5', 'NormalizedInstanceHours': 0}\n"
   ]
  },
  {
   "cell_type": "code",
   "execution_count": 15,
   "metadata": {},
   "outputs": [
    {
     "data": {
      "text/plain": [
       "True"
      ]
     },
     "execution_count": 15,
     "metadata": {},
     "output_type": "execute_result"
    }
   ],
   "source": [
    "dict['Status']['State'] in ['WATING','RUNNING']"
   ]
  },
  {
   "cell_type": "code",
   "execution_count": null,
   "metadata": {
    "collapsed": true
   },
   "outputs": [],
   "source": []
  }
 ],
 "metadata": {
  "kernelspec": {
   "display_name": "Python 3",
   "language": "python",
   "name": "python3"
  },
  "language_info": {
   "codemirror_mode": {
    "name": "ipython",
    "version": 3
   },
   "file_extension": ".py",
   "mimetype": "text/x-python",
   "name": "python",
   "nbconvert_exporter": "python",
   "pygments_lexer": "ipython3",
   "version": "3.5.4"
  }
 },
 "nbformat": 4,
 "nbformat_minor": 2
}
