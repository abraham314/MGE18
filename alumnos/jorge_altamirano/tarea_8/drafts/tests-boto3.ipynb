{
 "cells": [
  {
   "cell_type": "code",
   "execution_count": 1,
   "metadata": {
    "collapsed": true
   },
   "outputs": [],
   "source": [
    "import boto3"
   ]
  },
  {
   "cell_type": "code",
   "execution_count": 15,
   "metadata": {},
   "outputs": [
    {
     "name": "stdout",
     "output_type": "stream",
     "text": [
      "Cluster ID=j-NMZWAXEMJCJL RUNNING\n",
      "[{'Id': 'j-NMZWAXEMJCJL', 'Name': 'equipo_05', 'Status': {'State': 'RUNNING', 'StateChangeReason': {'Message': 'Running step'}, 'Timeline': {'CreationDateTime': datetime.datetime(2018, 4, 30, 12, 53, 18, 533000, tzinfo=tzlocal()), 'ReadyDateTime': datetime.datetime(2018, 4, 30, 12, 59, 47, 914000, tzinfo=tzlocal())}}, 'NormalizedInstanceHours': 0}, {'Id': 'j-243VYS5W1T8DH', 'Name': 'equipo_05', 'Status': {'State': 'TERMINATED', 'StateChangeReason': {'Code': 'USER_REQUEST', 'Message': 'Terminated by user request'}, 'Timeline': {'CreationDateTime': datetime.datetime(2018, 4, 29, 22, 25, 46, 709000, tzinfo=tzlocal()), 'ReadyDateTime': datetime.datetime(2018, 4, 29, 22, 31, 45, 633000, tzinfo=tzlocal()), 'EndDateTime': datetime.datetime(2018, 4, 30, 1, 32, 48, 701000, tzinfo=tzlocal())}}, 'NormalizedInstanceHours': 72}, {'Id': 'j-2TC2G7Z9C36QT', 'Name': 'cluster_tarea_8_02', 'Status': {'State': 'TERMINATED_WITH_ERRORS', 'StateChangeReason': {'Code': 'STEP_FAILURE', 'Message': 'Shut down as step failed'}, 'Timeline': {'CreationDateTime': datetime.datetime(2018, 4, 29, 20, 46, 35, 658000, tzinfo=tzlocal()), 'ReadyDateTime': datetime.datetime(2018, 4, 29, 20, 52, 15, 669000, tzinfo=tzlocal()), 'EndDateTime': datetime.datetime(2018, 4, 29, 22, 20, 19, 297000, tzinfo=tzlocal())}}, 'NormalizedInstanceHours': 48}, {'Id': 'j-2OJ18JX0F6K2S', 'Name': 'My cluster', 'Status': {'State': 'TERMINATED', 'StateChangeReason': {'Code': 'USER_REQUEST', 'Message': 'Terminated by user request'}, 'Timeline': {'CreationDateTime': datetime.datetime(2018, 3, 17, 15, 5, 51, 347000, tzinfo=tzlocal()), 'ReadyDateTime': datetime.datetime(2018, 3, 17, 15, 11, 50, 278000, tzinfo=tzlocal()), 'EndDateTime': datetime.datetime(2018, 3, 18, 1, 10, 44, 570000, tzinfo=tzlocal())}}, 'NormalizedInstanceHours': 240}, {'Id': 'j-3GO9154OA62RJ', 'Name': 'jorge_altamirano', 'Status': {'State': 'TERMINATED', 'StateChangeReason': {'Code': 'USER_REQUEST', 'Message': 'Terminated by user request'}, 'Timeline': {'CreationDateTime': datetime.datetime(2018, 3, 9, 11, 6, 17, 1000, tzinfo=tzlocal()), 'ReadyDateTime': datetime.datetime(2018, 3, 9, 11, 17, 23, 698000, tzinfo=tzlocal()), 'EndDateTime': datetime.datetime(2018, 3, 9, 15, 51, 55, 302000, tzinfo=tzlocal())}}, 'NormalizedInstanceHours': 120}, {'Id': 'j-1V0489WY8SV6', 'Name': 'jorge_altamirano', 'Status': {'State': 'TERMINATED', 'StateChangeReason': {'Code': 'USER_REQUEST', 'Message': 'Terminated by user request'}, 'Timeline': {'CreationDateTime': datetime.datetime(2018, 3, 8, 7, 57, 34, 891000, tzinfo=tzlocal()), 'ReadyDateTime': datetime.datetime(2018, 3, 8, 8, 7, 57, 55000, tzinfo=tzlocal()), 'EndDateTime': datetime.datetime(2018, 3, 8, 23, 15, 53, 340000, tzinfo=tzlocal())}}, 'NormalizedInstanceHours': 384}, {'Id': 'j-6UU7XES6A0L0', 'Name': 'jorge_altamirano', 'Status': {'State': 'TERMINATED', 'StateChangeReason': {'Code': 'USER_REQUEST', 'Message': 'Terminated by user request'}, 'Timeline': {'CreationDateTime': datetime.datetime(2018, 3, 7, 20, 41, 24, 365000, tzinfo=tzlocal()), 'ReadyDateTime': datetime.datetime(2018, 3, 7, 20, 51, 33, 611000, tzinfo=tzlocal()), 'EndDateTime': datetime.datetime(2018, 3, 7, 20, 57, 3, 970000, tzinfo=tzlocal())}}, 'NormalizedInstanceHours': 24}, {'Id': 'j-1T0U5VYWD2ZWR', 'Name': 'My cluster', 'Status': {'State': 'TERMINATED', 'StateChangeReason': {'Code': 'USER_REQUEST', 'Message': 'Terminated by user request'}, 'Timeline': {'CreationDateTime': datetime.datetime(2018, 3, 7, 20, 26, 14, 311000, tzinfo=tzlocal()), 'ReadyDateTime': datetime.datetime(2018, 3, 7, 20, 36, 40, 857000, tzinfo=tzlocal()), 'EndDateTime': datetime.datetime(2018, 3, 7, 20, 45, 57, 640000, tzinfo=tzlocal())}}, 'NormalizedInstanceHours': 24}, {'Id': 'j-PWR1B8HU8XZW', 'Name': 'jorge_altamirano', 'Status': {'State': 'TERMINATED', 'StateChangeReason': {'Code': 'USER_REQUEST', 'Message': 'Terminated by user request'}, 'Timeline': {'CreationDateTime': datetime.datetime(2018, 3, 7, 20, 1, 9, 436000, tzinfo=tzlocal()), 'EndDateTime': datetime.datetime(2018, 3, 7, 20, 25, 26, 103000, tzinfo=tzlocal())}}, 'NormalizedInstanceHours': 0}, {'Id': 'j-3OCCKYCXZRK9E', 'Name': 'jorge_altamirano', 'Status': {'State': 'TERMINATED', 'StateChangeReason': {'Code': 'USER_REQUEST', 'Message': 'Terminated by user request'}, 'Timeline': {'CreationDateTime': datetime.datetime(2018, 3, 7, 19, 28, 4, 438000, tzinfo=tzlocal()), 'ReadyDateTime': datetime.datetime(2018, 3, 7, 19, 38, 33, 157000, tzinfo=tzlocal()), 'EndDateTime': datetime.datetime(2018, 3, 7, 20, 3, 35, 424000, tzinfo=tzlocal())}}, 'NormalizedInstanceHours': 24}, {'Id': 'j-QXS2RX9T0LUE', 'Name': 'My cluster', 'Status': {'State': 'TERMINATED', 'StateChangeReason': {'Code': 'USER_REQUEST', 'Message': 'Terminated by user request'}, 'Timeline': {'CreationDateTime': datetime.datetime(2018, 3, 7, 19, 27, 41, 729000, tzinfo=tzlocal()), 'EndDateTime': datetime.datetime(2018, 3, 7, 19, 28, 11, 229000, tzinfo=tzlocal())}}, 'NormalizedInstanceHours': 0}]\n"
     ]
    }
   ],
   "source": [
    "default_region='us-east-1'\n",
    "\n",
    "emr_connection = boto3.client('emr', region_name=default_region)\n",
    "\n",
    "for cluster in emr_connection.list_clusters()[\"Clusters\"]:\n",
    "    if cluster[\"Name\"] == \"equipo_05\" and \\\n",
    "        (cluster[\"Status\"][\"State\"] == \"WAITING\" or \\\n",
    "        cluster[\"Status\"][\"State\"] == \"RUNNING\"): \n",
    "        print(\"Cluster ID=\" + cluster[\"Id\"] + \" \" + cluster[\"Status\"][\"State\"])\n",
    "        jobflow_id = cluster[\"Id\"]\n",
    "\n",
    "print(emr_connection.list_clusters()[\"Clusters\"])"
   ]
  },
  {
   "cell_type": "code",
   "execution_count": 104,
   "metadata": {},
   "outputs": [
    {
     "name": "stdout",
     "output_type": "stream",
     "text": [
      "Resetting dropped connection: elasticmapreduce.us-east-1.amazonaws.com\n"
     ]
    },
    {
     "data": {
      "text/plain": [
       "{'ResponseMetadata': {'HTTPHeaders': {'content-length': '31',\n",
       "   'content-type': 'application/x-amz-json-1.1',\n",
       "   'date': 'Mon, 30 Apr 2018 04:38:30 GMT',\n",
       "   'x-amzn-requestid': '557e93ef-4c30-11e8-a3b2-c7ffdc067abb'},\n",
       "  'HTTPStatusCode': 200,\n",
       "  'RequestId': '557e93ef-4c30-11e8-a3b2-c7ffdc067abb',\n",
       "  'RetryAttempts': 0},\n",
       " 'StepIds': ['s-2JK4ZV2ENOSK0']}"
      ]
     },
     "execution_count": 104,
     "metadata": {},
     "output_type": "execute_result"
    }
   ],
   "source": [
    "# aws emr add-steps --cluster-id JobFlowId \n",
    "# --steps Type=spark,Name=parqueteo,\n",
    "# Args=[--deploy-mode,cluster,--master,yarn,--conf,spark.yarn.submit.waitAppCompletion=true,\n",
    "# s3a://jorge-altamirano/profeco/parquet.j3a.py],\n",
    "# ActionOnFailure=CONTINUE\n",
    "emr_connection.add_job_flow_steps(JobFlowId=jobflow_id,                \n",
    "                                                         Steps=[{\n",
    "                                                             'Name': 'parqueteo',\n",
    "                                                             'ActionOnFailure': 'CONTINUE',\n",
    "                                                             'HadoopJarStep': {\n",
    "                                                                 'Jar': 'command-runner.jar',\n",
    "                                                                 'Args': [\n",
    "                                                                     \"spark-submit\",\n",
    "                   \n",
    "                                                                     \"s3a://jorge-altamirano/profeco/parquet.j3a.py\",\n",
    "                                                                 ]\n",
    "                                                             }\n",
    "                                                         }]\n",
    "                                                        )"
   ]
  },
  {
   "cell_type": "code",
   "execution_count": 76,
   "metadata": {},
   "outputs": [
    {
     "data": {
      "text/plain": [
       "{'ResponseMetadata': {'HTTPHeaders': {'content-length': '31',\n",
       "   'content-type': 'application/x-amz-json-1.1',\n",
       "   'date': 'Mon, 30 Apr 2018 22:48:14 GMT',\n",
       "   'x-amzn-requestid': '913156c2-4cc8-11e8-8bc4-43b7e6877fff'},\n",
       "  'HTTPStatusCode': 200,\n",
       "  'RequestId': '913156c2-4cc8-11e8-8bc4-43b7e6877fff',\n",
       "  'RetryAttempts': 0},\n",
       " 'StepIds': ['s-2023C7PF1KHIJ']}"
      ]
     },
     "execution_count": 76,
     "metadata": {},
     "output_type": "execute_result"
    }
   ],
   "source": [
    "emr_connection.add_job_flow_steps(JobFlowId=jobflow_id,                \n",
    "                                                         Steps=[{\n",
    "                                                             'Name': 'sumarizacion-2223',\n",
    "                                                             'ActionOnFailure': 'CONTINUE',\n",
    "                                                             'HadoopJarStep': {\n",
    "                                                                 'Jar': 'command-runner.jar',\n",
    "                                                                 'Args': [\n",
    "                                                                     \"spark-submit\",\n",
    "                                                                     \"s3a://jorge-altamirano/profeco/agg.j3a.py\",\n",
    "                                                                 ]\n",
    "                                                             }\n",
    "                                                         }]\n",
    "                                                        )"
   ]
  },
  {
   "cell_type": "code",
   "execution_count": 16,
   "metadata": {},
   "outputs": [],
   "source": [
    "for step in emr_connection.list_steps(ClusterId=jobflow_id)[\"Steps\"]:\n",
    "    if( ((step[\"Name\"] == \"sumarizacion\" or step[\"Name\"] == \"sumarizacion-2223\") and \\\n",
    "          step[\"Status\"][\"State\"] == \"COMPLETED\") or \\\n",
    "        (step[\"Name\"] == \"parqueteo\" and step[\"Status\"][\"State\"] == \"COMPLETED\")) :\n",
    "        print( \" \" + step[\"Status\"][\"State\"])\n",
    "        print(step)"
   ]
  },
  {
   "cell_type": "code",
   "execution_count": 57,
   "metadata": {},
   "outputs": [],
   "source": [
    "jobflow_id = \"j-3WEDNH37EGG3\""
   ]
  },
  {
   "cell_type": "code",
   "execution_count": 65,
   "metadata": {},
   "outputs": [
    {
     "name": "stdout",
     "output_type": "stream",
     "text": [
      "parqueteo True\n",
      "sumarizacion False\n"
     ]
    }
   ],
   "source": [
    "def parqueteo_completed(jobflow_id): \n",
    "    for step in emr_connection.list_steps(ClusterId=jobflow_id)[\"Steps\"]:\n",
    "#         if step[\"Name\"] == \"parqueteo\":\n",
    "#             print(step[\"Status\"][\"State\"])\n",
    "        if step[\"Name\"] == \"parqueteo\" and step[\"Status\"][\"State\"] == \"COMPLETED\":\n",
    "            return True\n",
    "        else:\n",
    "            continue\n",
    "    return False\n",
    "def sumarizacion_completed(jobflow_id): \n",
    "    for step in emr_connection.list_steps(ClusterId=jobflow_id)[\"Steps\"]:\n",
    "#         if step[\"Name\"] == \"sumarizacion\" or step[\"Name\"] == \"sumarizacion-2223\":\n",
    "#             print(step[\"Status\"][\"State\"])\n",
    "        if (step[\"Name\"] == \"sumarizacion\" or step[\"Name\"] == \"sumarizacion-2223\") and \\\n",
    "          step[\"Status\"][\"State\"] == \"COMPLETED\":\n",
    "            return True\n",
    "        else:\n",
    "            continue\n",
    "    return False\n",
    "print(\"parqueteo \" + str(parqueteo_completed(jobflow_id)))\n",
    "print(\"sumarizacion \" + str(sumarizacion_completed(jobflow_id)))"
   ]
  },
  {
   "cell_type": "code",
   "execution_count": 63,
   "metadata": {},
   "outputs": [
    {
     "name": "stdout",
     "output_type": "stream",
     "text": [
      "parqueteo False\n",
      "sumarizacion True\n"
     ]
    }
   ],
   "source": [
    "    def parqueteo_pending(jobflow_id): \n",
    "        emr_connection = boto3.client('emr', region_name=default_region)\n",
    "        for step in emr_connection.list_steps(ClusterId=jobflow_id)[\"Steps\"]:\n",
    "            if step[\"Name\"] == \"parqueteo\" and (\\\n",
    "                step[\"Status\"][\"State\"] == \"RUNNING\" or step[\"Status\"][\"State\"] == \"PENDING\") :\n",
    "                    return True\n",
    "            else:\n",
    "                continue\n",
    "        return False \n",
    "    def sumarizacion_pending(jobflow_id): \n",
    "        emr_connection = boto3.client('emr', region_name=default_region)\n",
    "        for step in emr_connection.list_steps(ClusterId=jobflow_id)[\"Steps\"]:\n",
    "            if (step[\"Name\"] == \"sumarizacion\" or step[\"Name\"] == \"sumarizacion-2223\") and (\\\n",
    "                step[\"Status\"][\"State\"] == \"RUNNING\" or step[\"Status\"][\"State\"] == \"PENDING\") :\n",
    "                    return True\n",
    "            else:\n",
    "                continue\n",
    "        return False \n",
    "print(\"parqueteo \" + str(parqueteo_pending(jobflow_id)))\n",
    "print(\"sumarizacion \" + str(sumarizacion_pending(jobflow_id)))"
   ]
  },
  {
   "cell_type": "code",
   "execution_count": 18,
   "metadata": {},
   "outputs": [
    {
     "data": {
      "text/plain": [
       "'RUNNING'"
      ]
     },
     "execution_count": 18,
     "metadata": {},
     "output_type": "execute_result"
    }
   ],
   "source": [
    "cluster_state = \"PENDING\"\n",
    "for cluster in emr_connection.list_clusters()[\"Clusters\"]:\n",
    "    if cluster[\"Id\"] == jobflow_id:\n",
    "        cluster_state = cluster[\"Status\"][\"State\"]\n",
    "cluster_state"
   ]
  },
  {
   "cell_type": "code",
   "execution_count": 66,
   "metadata": {},
   "outputs": [
    {
     "name": "stdout",
     "output_type": "stream",
     "text": [
      "{'Id': 'j-3WEDNH37EGG3', 'Name': 'equipo_05', 'Status': {'State': 'WAITING', 'StateChangeReason': {'Message': 'Cluster ready after last step completed.'}, 'Timeline': {'CreationDateTime': datetime.datetime(2018, 4, 30, 15, 5, 9, 756000, tzinfo=tzlocal()), 'ReadyDateTime': datetime.datetime(2018, 4, 30, 15, 12, 45, 704000, tzinfo=tzlocal())}}, 'NormalizedInstanceHours': 48}\n"
     ]
    }
   ],
   "source": [
    "for cluster in emr_connection.list_clusters()[\"Clusters\"]:\n",
    "     if cluster[\"Id\"] == jobflow_id:\n",
    "        print(cluster)"
   ]
  },
  {
   "cell_type": "code",
   "execution_count": 67,
   "metadata": {},
   "outputs": [
    {
     "data": {
      "text/plain": [
       "'j-3WEDNH37EGG3'"
      ]
     },
     "execution_count": 67,
     "metadata": {},
     "output_type": "execute_result"
    }
   ],
   "source": [
    "# emr_connection.terminate_job_flows(JobFlowIds=[jobflow_id])\n",
    "# emr_connection.cancel_steps(ClusterId=jobflow_id)\n",
    "jobflow_id"
   ]
  },
  {
   "cell_type": "code",
   "execution_count": 83,
   "metadata": {},
   "outputs": [
    {
     "name": "stdout",
     "output_type": "stream",
     "text": [
      "Finalizando instancias:\n",
      "['i-0558975d34f989b6d', 'i-0629f1c3ed208e518', 'i-05c43b01b8de9ac32']\n"
     ]
    },
    {
     "data": {
      "text/plain": [
       "{'ResponseMetadata': {'HTTPHeaders': {'content-type': 'text/xml;charset=UTF-8',\n",
       "   'date': 'Mon, 30 Apr 2018 22:53:55 GMT',\n",
       "   'server': 'AmazonEC2',\n",
       "   'transfer-encoding': 'chunked',\n",
       "   'vary': 'Accept-Encoding'},\n",
       "  'HTTPStatusCode': 200,\n",
       "  'RequestId': 'bb007848-4aa6-442f-8b01-9f03155f7f71',\n",
       "  'RetryAttempts': 0},\n",
       " 'TerminatingInstances': [{'CurrentState': {'Code': 48, 'Name': 'terminated'},\n",
       "   'InstanceId': 'i-05c43b01b8de9ac32',\n",
       "   'PreviousState': {'Code': 48, 'Name': 'terminated'}},\n",
       "  {'CurrentState': {'Code': 48, 'Name': 'terminated'},\n",
       "   'InstanceId': 'i-0558975d34f989b6d',\n",
       "   'PreviousState': {'Code': 48, 'Name': 'terminated'}},\n",
       "  {'CurrentState': {'Code': 48, 'Name': 'terminated'},\n",
       "   'InstanceId': 'i-0629f1c3ed208e518',\n",
       "   'PreviousState': {'Code': 48, 'Name': 'terminated'}}]}"
      ]
     },
     "execution_count": 83,
     "metadata": {},
     "output_type": "execute_result"
    }
   ],
   "source": [
    "instancias = list()\n",
    "for instance in emr_connection.list_instances(ClusterId=jobflow_id)[\"Instances\"]:\n",
    "    instancias.append(instance[\"Ec2InstanceId\"])\n",
    "ec2 = boto3.client(\"ec2\")\n",
    "print(\"Finalizando instancias:\\n%s\"%str(instancias))\n",
    "ec2.terminate_instances(InstanceIds=instancias)"
   ]
  },
  {
   "cell_type": "code",
   "execution_count": 89,
   "metadata": {},
   "outputs": [
    {
     "name": "stdout",
     "output_type": "stream",
     "text": [
      "TERMINATED\n",
      "TERMINATED\n",
      "TERMINATED\n",
      "TERMINATED\n",
      "TERMINATED\n",
      "TERMINATED\n",
      "TERMINATED\n",
      "TERMINATED\n",
      "TERMINATED\n",
      "TERMINATED\n",
      "TERMINATED\n",
      "TERMINATED\n",
      "TERMINATED\n",
      "TERMINATED\n",
      "TERMINATED\n",
      "TERMINATED\n",
      "TERMINATED_WITH_ERRORS\n",
      "TERMINATED\n",
      "TERMINATED\n",
      "TERMINATED\n",
      "TERMINATED\n",
      "TERMINATED\n",
      "TERMINATED\n",
      "TERMINATED\n",
      "TERMINATED\n"
     ]
    }
   ],
   "source": [
    "for cluster in emr_connection.list_clusters()[\"Clusters\"]:\n",
    "    print(cluster[\"Status\"][\"State\"])"
   ]
  },
  {
   "cell_type": "code",
   "execution_count": 85,
   "metadata": {},
   "outputs": [
    {
     "data": {
      "text/plain": [
       "0"
      ]
     },
     "execution_count": 85,
     "metadata": {},
     "output_type": "execute_result"
    }
   ],
   "source": [
    "steps = list()\n",
    "for step in emr_connection.list_steps(ClusterId=jobflow_id)[\"Steps\"]:\n",
    "    if step[\"Status\"][\"State\"] == \"RUNNING\" or step[\"Status\"][\"State\"] == \"PENDING\":\n",
    "        steps.append(step[\"Id\"])\n",
    "        \n",
    "len(steps)"
   ]
  },
  {
   "cell_type": "code",
   "execution_count": null,
   "metadata": {
    "collapsed": true
   },
   "outputs": [],
   "source": [
    "print()"
   ]
  }
 ],
 "metadata": {
  "kernelspec": {
   "display_name": "Python 3",
   "language": "python",
   "name": "python3"
  },
  "language_info": {
   "codemirror_mode": {
    "name": "ipython",
    "version": 3
   },
   "file_extension": ".py",
   "mimetype": "text/x-python",
   "name": "python",
   "nbconvert_exporter": "python",
   "pygments_lexer": "ipython3",
   "version": "3.6.3"
  }
 },
 "nbformat": 4,
 "nbformat_minor": 2
}
