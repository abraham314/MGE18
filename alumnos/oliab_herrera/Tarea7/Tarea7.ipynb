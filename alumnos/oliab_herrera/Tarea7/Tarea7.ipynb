{
 "cells": [
  {
   "cell_type": "code",
   "execution_count": 62,
   "metadata": {},
   "outputs": [],
   "source": [
    "from pyspark.sql import SparkSession\n",
    "\n",
    "from pyspark.sql import SparkSession\n",
    "spark = SparkSession \\\n",
    "    .builder \\\n",
    "    .appName(\"Python Spark SQL basic example\") \\\n",
    "    .config(\"spark.some.config.option\", \"some-value\") \\\n",
    "    .getOrCreate()"
   ]
  },
  {
   "cell_type": "code",
   "execution_count": 63,
   "metadata": {},
   "outputs": [
    {
     "name": "stdout",
     "output_type": "stream",
     "text": [
      "root\n",
      " |-- YEAR: integer (nullable = true)\n",
      " |-- MONTH: integer (nullable = true)\n",
      " |-- DAY: integer (nullable = true)\n",
      " |-- DAY_OF_WEEK: integer (nullable = true)\n",
      " |-- AIRLINE: string (nullable = true)\n",
      " |-- FLIGHT_NUMBER: integer (nullable = true)\n",
      " |-- TAIL_NUMBER: string (nullable = true)\n",
      " |-- ORIGIN_AIRPORT: string (nullable = true)\n",
      " |-- DESTINATION_AIRPORT: string (nullable = true)\n",
      " |-- SCHEDULED_DEPARTURE: integer (nullable = true)\n",
      " |-- DEPARTURE_TIME: integer (nullable = true)\n",
      " |-- DEPARTURE_DELAY: integer (nullable = true)\n",
      " |-- TAXI_OUT: integer (nullable = true)\n",
      " |-- WHEELS_OFF: integer (nullable = true)\n",
      " |-- SCHEDULED_TIME: integer (nullable = true)\n",
      " |-- ELAPSED_TIME: integer (nullable = true)\n",
      " |-- AIR_TIME: integer (nullable = true)\n",
      " |-- DISTANCE: integer (nullable = true)\n",
      " |-- WHEELS_ON: integer (nullable = true)\n",
      " |-- TAXI_IN: integer (nullable = true)\n",
      " |-- SCHEDULED_ARRIVAL: integer (nullable = true)\n",
      " |-- ARRIVAL_TIME: integer (nullable = true)\n",
      " |-- ARRIVAL_DELAY: integer (nullable = true)\n",
      " |-- DIVERTED: integer (nullable = true)\n",
      " |-- CANCELLED: integer (nullable = true)\n",
      " |-- CANCELLATION_REASON: string (nullable = true)\n",
      " |-- AIR_SYSTEM_DELAY: integer (nullable = true)\n",
      " |-- SECURITY_DELAY: integer (nullable = true)\n",
      " |-- AIRLINE_DELAY: integer (nullable = true)\n",
      " |-- LATE_AIRCRAFT_DELAY: integer (nullable = true)\n",
      " |-- WEATHER_DELAY: integer (nullable = true)\n",
      "\n"
     ]
    }
   ],
   "source": [
    "flights = spark.read.load('flights.csv',\n",
    "                     format=\"csv\", sep=\",\", inferSchema=\"true\", header=\"true\")\n",
    "flights.printSchema()"
   ]
  },
  {
   "cell_type": "markdown",
   "metadata": {},
   "source": [
    " Con esto podemos ver que datos debemos transformar o modificar para poder usarlos en el modelo:  \n",
    "        1.- Variables vategóricas en \"integer\" a numéricas  \n",
    "        2.- One-hot encoding a las variables categóricas  \n",
    "        3.- Ver variables como cancellation reason para ver como le hacemos token-hash.  \n",
    "        4.- Meter en el modelo.  "
   ]
  },
  {
   "cell_type": "markdown",
   "metadata": {},
   "source": [
    "1.- Transformar variables categóricas a numéricas con StringIndexer"
   ]
  },
  {
   "cell_type": "code",
   "execution_count": 64,
   "metadata": {},
   "outputs": [],
   "source": [
    "# Las que vamos a cambiar van a ser: AIRLINE,ORIGIN_AIRPORT, DESTINATION_AIRPORT\n",
    "from pyspark.ml.feature import OneHotEncoder, StringIndexer\n",
    "from pyspark.ml import Pipeline\n",
    "\n",
    "\n",
    "variables = [\"AIRLINE\",\"ORIGIN_AIRPORT\",\"DESTINATION_AIRPORT\",\"DAY_OF_WEEK\"]\n",
    "variables_string_encoded=[\"AIRLINE_string_encoded\",\"ORIGIN_AIRPORT_string_encoded\",\"DESTINATION_AIRPORT_string_encoded\",\"DAY_OF_WEEK_string_encoded\"]\n",
    "\n",
    "stage_string = [StringIndexer(inputCol= c, outputCol= c+\"_string_encoded\") for c in variables]\n",
    "stage_one_hot = [OneHotEncoder(inputCol= c+\"_string_encoded\", outputCol= c+ \"_one_hot\") for c in variables]\n",
    "\n",
    "ppl = Pipeline(stages= stage_string + stage_one_hot)\n",
    "flights = ppl.fit(flights).transform(flights)"
   ]
  },
  {
   "cell_type": "code",
   "execution_count": null,
   "metadata": {},
   "outputs": [],
   "source": [
    "## Tokenizer\n",
    "from pyspark.ml.feature import HashingTF, Tokenizer\n",
    "\n",
    "tokenizer = Tokenizer(inputCol=\"CANCELLATION_REASON\", outputCol=\"CANCELLATION_REASON_tok\")\n",
    "hashingTF = HashingTF(inputCol=tokenizer.getOutputCol(), outputCol=\"CANCELLATION_REASON_hash\")\n"
   ]
  },
  {
   "cell_type": "code",
   "execution_count": 65,
   "metadata": {},
   "outputs": [
    {
     "name": "stderr",
     "output_type": "stream",
     "text": [
      "Exception ignored in: <object repr() failed>\n",
      "Traceback (most recent call last):\n",
      "  File \"/usr/local/spark/python/pyspark/ml/wrapper.py\", line 105, in __del__\n",
      "    SparkContext._active_spark_context._gateway.detach(self._java_obj)\n",
      "AttributeError: 'RegressionEvaluator' object has no attribute '_java_obj'\n"
     ]
    },
    {
     "name": "stdout",
     "output_type": "stream",
     "text": [
      "+----+-----+---+-----------+-------+-------------+-----------+--------------+-------------------+-------------------+--------------+---------------+--------+----------+--------------+------------+--------+--------+---------+-------+-----------------+------------+-------------+--------+---------+-------------------+----------------+--------------+-------------+-------------------+-------------+----------------------+-----------------------------+----------------------------------+--------------------------+---------------+----------------------+---------------------------+-------------------+\n",
      "|YEAR|MONTH|DAY|DAY_OF_WEEK|AIRLINE|FLIGHT_NUMBER|TAIL_NUMBER|ORIGIN_AIRPORT|DESTINATION_AIRPORT|SCHEDULED_DEPARTURE|DEPARTURE_TIME|DEPARTURE_DELAY|TAXI_OUT|WHEELS_OFF|SCHEDULED_TIME|ELAPSED_TIME|AIR_TIME|DISTANCE|WHEELS_ON|TAXI_IN|SCHEDULED_ARRIVAL|ARRIVAL_TIME|ARRIVAL_DELAY|DIVERTED|CANCELLED|CANCELLATION_REASON|AIR_SYSTEM_DELAY|SECURITY_DELAY|AIRLINE_DELAY|LATE_AIRCRAFT_DELAY|WEATHER_DELAY|AIRLINE_string_encoded|ORIGIN_AIRPORT_string_encoded|DESTINATION_AIRPORT_string_encoded|DAY_OF_WEEK_string_encoded|AIRLINE_one_hot|ORIGIN_AIRPORT_one_hot|DESTINATION_AIRPORT_one_hot|DAY_OF_WEEK_one_hot|\n",
      "+----+-----+---+-----------+-------+-------------+-----------+--------------+-------------------+-------------------+--------------+---------------+--------+----------+--------------+------------+--------+--------+---------+-------+-----------------+------------+-------------+--------+---------+-------------------+----------------+--------------+-------------+-------------------+-------------+----------------------+-----------------------------+----------------------------------+--------------------------+---------------+----------------------+---------------------------+-------------------+\n",
      "|   0|    0|  0|          0|      0|            0|      14721|             0|                  0|                  0|         86153|          86153|   89047|     89047|             6|      105071|  105071|       0|    92513|  92513|                0|       92513|       105071|       0|        0|            5729195|         4755640|       4755640|      4755640|            4755640|      4755640|                     0|                            0|                                 0|                         0|              0|                     0|                          0|                  0|\n",
      "+----+-----+---+-----------+-------+-------------+-----------+--------------+-------------------+-------------------+--------------+---------------+--------+----------+--------------+------------+--------+--------+---------+-------+-----------------+------------+-------------+--------+---------+-------------------+----------------+--------------+-------------+-------------------+-------------+----------------------+-----------------------------+----------------------------------+--------------------------+---------------+----------------------+---------------------------+-------------------+\n",
      "\n"
     ]
    },
    {
     "data": {
      "text/plain": [
       "5819079"
      ]
     },
     "execution_count": 65,
     "metadata": {},
     "output_type": "execute_result"
    }
   ],
   "source": [
    "from pyspark.sql.functions import col,sum\n",
    "flights.select(*(sum(col(c).isNull().cast(\"int\")).alias(c) for c in flights.columns)).show()\n",
    "flights.count()"
   ]
  },
  {
   "cell_type": "code",
   "execution_count": 66,
   "metadata": {},
   "outputs": [
    {
     "data": {
      "text/plain": [
       "5714008"
      ]
     },
     "execution_count": 66,
     "metadata": {},
     "output_type": "execute_result"
    }
   ],
   "source": [
    "#flights1 = flights.dropna(thresh=1, subset=[\"YEAR\",\"MONTH\",\"DAY\",\"FLIGHT_NUMBER\",\"SCHEDULED_DEPARTURE\",\"DEPARTURE_TIME\",\"TAXI_OUT\",\n",
    "#              \"WHEELS_OFF\", \"SCHEDULED_TIME\",\"ELAPSED_TIME\",\"AIR_TIME\",\"DISTANCE\",\"WHEELS_OFF\",\"SCHEDULED_TIME\",\n",
    "#              \"ARRIVAL_TIME\",\"ARRIVAL_DELAY\",\"AIRLINE_one_hot\",\"ORIGIN_AIRPORT_one_hot\",\"DESTINATION_AIRPORT_one_hot\",\"DAY_OF_WEEK_one_hot\"])\n",
    "\n",
    "flights1 = flights.dropna(how='any', thresh=None, subset=[\"YEAR\",\"MONTH\",\"DAY\",\"FLIGHT_NUMBER\",\"SCHEDULED_DEPARTURE\",\"DEPARTURE_TIME\",\"TAXI_OUT\",\n",
    "              \"WHEELS_OFF\", \"SCHEDULED_TIME\",\"ELAPSED_TIME\",\"AIR_TIME\",\"DISTANCE\",\"WHEELS_OFF\",\"SCHEDULED_TIME\",\n",
    "              \"ARRIVAL_TIME\",\"ARRIVAL_DELAY\"])\n",
    "flights1.count()"
   ]
  },
  {
   "cell_type": "code",
   "execution_count": 67,
   "metadata": {},
   "outputs": [],
   "source": [
    "from pyspark.ml.feature import VectorAssembler\n",
    "\n",
    "variables_int=[\"YEAR\",\"MONTH\",\"DAY\",\"FLIGHT_NUMBER\",\"SCHEDULED_DEPARTURE\",\"DEPARTURE_TIME\",\"TAXI_OUT\",\n",
    "              \"WHEELS_OFF\", \"SCHEDULED_TIME\",\"ELAPSED_TIME\",\"AIR_TIME\",\"DISTANCE\",\"WHEELS_OFF\",\"SCHEDULED_TIME\",\n",
    "              \"ARRIVAL_TIME\",\"ARRIVAL_DELAY\"]\n",
    "\n",
    "variables_trans=[\"AIRLINE_one_hot\",\"ORIGIN_AIRPORT_one_hot\",\"DESTINATION_AIRPORT_one_hot\",\"DAY_OF_WEEK_one_hot\"]\n",
    "\n",
    "features = variables_int + variables_trans\n",
    "\n",
    "vector_assembler = VectorAssembler(inputCols = features, outputCol= \"features\")\n",
    "data_training_and_test1 = vector_assembler.transform(flights1)\n"
   ]
  },
  {
   "cell_type": "code",
   "execution_count": null,
   "metadata": {},
   "outputs": [],
   "source": [
    "data_training_and_test1.count()"
   ]
  },
  {
   "cell_type": "code",
   "execution_count": null,
   "metadata": {},
   "outputs": [],
   "source": [
    "data_training_and_test1.show()"
   ]
  },
  {
   "cell_type": "code",
   "execution_count": 8,
   "metadata": {},
   "outputs": [],
   "source": [
    "#from pyspark.ml.feature import PCA\n",
    "#pca_model = PCA(k = 5,inputCol = \"features\", outputCol = \"pca_features\")\n",
    "#model = pca_model.fit(data_training_and_test1)\n",
    "#data_training_and_test1 = model.transform(data_training_and_test1)"
   ]
  },
  {
   "cell_type": "code",
   "execution_count": 68,
   "metadata": {},
   "outputs": [],
   "source": [
    "from pyspark.ml.regression import RandomForestRegressor\n",
    "\n",
    "(training_data, test_data) = data_training_and_test1.randomSplit([0.7, 0.3])\n",
    "rf = RandomForestRegressor(labelCol = \"DEPARTURE_DELAY\", featuresCol = \"features\", numTrees = 20)\n",
    "rf_model = rf.fit(training_data)\n",
    "\n"
   ]
  },
  {
   "cell_type": "code",
   "execution_count": 79,
   "metadata": {},
   "outputs": [],
   "source": [
    "from pyspark.ml.tuning import CrossValidator, ParamGridBuilder\n",
    "from pyspark.ml.evaluation import RegressionEvaluator \n",
    "\n",
    "very_small_sample = data_training_and_test1.sample(False, 0.001).cache()\n",
    "\n",
    "#pca_model = PCA(inputCol = \"features\", outputCol = \"features_cv\")\n",
    "rf = RandomForestRegressor(labelCol = \"DEPARTURE_DELAY\", featuresCol = \"features\")\n",
    "ppl_cv = Pipeline(stages = [rf])\n",
    "\n",
    "paramGrid = ParamGridBuilder() \\\n",
    "    .addGrid(rf.numTrees, [20, 30]) \\\n",
    "    .addGrid(rf.maxDepth,[5,10]) \\\n",
    "    .build()\n",
    "\n"
   ]
  },
  {
   "cell_type": "code",
   "execution_count": 80,
   "metadata": {},
   "outputs": [],
   "source": [
    "crossval = CrossValidator(estimator = ppl_cv,\n",
    "                        estimatorParamMaps=paramGrid,\n",
    "                        evaluator = RegressionEvaluator(\n",
    "    labelCol=\"DEPARTURE_DELAY\", predictionCol=\"prediction\", metricName=\"rmse\"),\n",
    "                        numFolds= 3)\n",
    "\n",
    "cv_model = crossval.fit(very_small_sample)"
   ]
  },
  {
   "cell_type": "code",
   "execution_count": 82,
   "metadata": {},
   "outputs": [],
   "source": [
    "predictions = cv_model.transform(test_data)\n",
    "evaluator= RegressionEvaluator(labelCol = \"DEPARTURE_DELAY\", predictionCol=\"prediction\", metricName= \"rmse\")\n",
    "rmse = evaluator.evaluate(predictions)"
   ]
  },
  {
   "cell_type": "code",
   "execution_count": 83,
   "metadata": {},
   "outputs": [
    {
     "name": "stdout",
     "output_type": "stream",
     "text": [
      "+---------------+------------------+\n",
      "|DEPARTURE_DELAY|        prediction|\n",
      "+---------------+------------------+\n",
      "|             -5|0.2891211948259482|\n",
      "|              0| -0.59855011451892|\n",
      "|             -4|-2.945706573606688|\n",
      "|              3| 8.867815057557763|\n",
      "|              6|22.700427670343363|\n",
      "+---------------+------------------+\n",
      "only showing top 5 rows\n",
      "\n"
     ]
    }
   ],
   "source": [
    "predictions.select(\"DEPARTURE_DELAY\",\"prediction\").show(5)\n",
    "  "
   ]
  },
  {
   "cell_type": "code",
   "execution_count": 84,
   "metadata": {},
   "outputs": [
    {
     "name": "stdout",
     "output_type": "stream",
     "text": [
      "18.79777317492078\n"
     ]
    }
   ],
   "source": [
    "print(rmse)"
   ]
  },
  {
   "cell_type": "code",
   "execution_count": 220,
   "metadata": {},
   "outputs": [],
   "source": [
    "from pyspark.ml.regression import GeneralizedLinearRegression\n",
    "very_small_sample = data_training_and_test1.sample(False, 0.001).cache()\n",
    "\n",
    "#pca_model = PCA(inputCol = \"features\", outputCol = \"features_cv\")\n",
    "glr = GeneralizedLinearRegression(labelCol = \"DEPARTURE_DELAY\", featuresCol = \"features\")\n",
    "glr_cv = Pipeline(stages = [glr])\n",
    "\n",
    "paramGrid=ParamGridBuilder() \\\n",
    "    .addGrid(glr.regParam, [.05, .1]) \\\n",
    "    .addGrid(glr.maxIter,[5,10]) \\\n",
    "    .build()\n",
    "\n"
   ]
  },
  {
   "cell_type": "code",
   "execution_count": 90,
   "metadata": {},
   "outputs": [],
   "source": [
    "crossval = CrossValidator(estimator = glr_cv,\n",
    "                        estimatorParamMaps=paramGrid,\n",
    "                        evaluator = RegressionEvaluator(\n",
    "    labelCol=\"DEPARTURE_DELAY\", predictionCol=\"prediction\", metricName=\"rmse\"),\n",
    "                        numFolds= 3)\n",
    "\n",
    "cv_model = crossval.fit(very_small_sample)"
   ]
  },
  {
   "cell_type": "code",
   "execution_count": 91,
   "metadata": {},
   "outputs": [],
   "source": [
    "predictions = cv_model.transform(test_data)\n",
    "evaluator= RegressionEvaluator(labelCol = \"DEPARTURE_DELAY\", predictionCol=\"prediction\", metricName= \"rmse\")\n",
    "rmse = evaluator.evaluate(predictions)"
   ]
  },
  {
   "cell_type": "code",
   "execution_count": 92,
   "metadata": {},
   "outputs": [
    {
     "name": "stdout",
     "output_type": "stream",
     "text": [
      "+---------------+--------------------+\n",
      "|DEPARTURE_DELAY|          prediction|\n",
      "+---------------+--------------------+\n",
      "|             -5|  -4.526025993752646|\n",
      "|              0|-0.10591200509961474|\n",
      "|             -4| -4.0215540153038125|\n",
      "|              3|   3.938270842650745|\n",
      "|              6|   7.180563166981721|\n",
      "+---------------+--------------------+\n",
      "only showing top 5 rows\n",
      "\n"
     ]
    }
   ],
   "source": [
    "predictions.select(\"DEPARTURE_DELAY\",\"prediction\").show(5)"
   ]
  },
  {
   "cell_type": "code",
   "execution_count": 93,
   "metadata": {},
   "outputs": [
    {
     "name": "stdout",
     "output_type": "stream",
     "text": [
      "1.3367365439572\n"
     ]
    }
   ],
   "source": [
    "print(rmse)"
   ]
  },
  {
   "cell_type": "code",
   "execution_count": 103,
   "metadata": {},
   "outputs": [
    {
     "data": {
      "text/plain": [
       "{Param(parent='GeneralizedLinearRegression_48989823353e63dbcf36', name='family', doc='The name of family which is a description of the error distribution to be used in the model. Supported options: poisson, binomial, gaussian, gamma, tweedie.'): 'gaussian',\n",
       " Param(parent='GeneralizedLinearRegression_48989823353e63dbcf36', name='featuresCol', doc='features column name'): 'features',\n",
       " Param(parent='GeneralizedLinearRegression_48989823353e63dbcf36', name='fitIntercept', doc='whether to fit an intercept term'): True,\n",
       " Param(parent='GeneralizedLinearRegression_48989823353e63dbcf36', name='labelCol', doc='label column name'): 'DEPARTURE_DELAY',\n",
       " Param(parent='GeneralizedLinearRegression_48989823353e63dbcf36', name='maxIter', doc='maximum number of iterations (>= 0)'): 5,\n",
       " Param(parent='GeneralizedLinearRegression_48989823353e63dbcf36', name='predictionCol', doc='prediction column name'): 'prediction',\n",
       " Param(parent='GeneralizedLinearRegression_48989823353e63dbcf36', name='regParam', doc='regularization parameter (>= 0)'): 0.05,\n",
       " Param(parent='GeneralizedLinearRegression_48989823353e63dbcf36', name='solver', doc='The solver algorithm for optimization. Supported options: irls. (Default irls)'): 'irls',\n",
       " Param(parent='GeneralizedLinearRegression_48989823353e63dbcf36', name='tol', doc='the convergence tolerance for iterative algorithms (>= 0)'): 1e-06,\n",
       " Param(parent='GeneralizedLinearRegression_48989823353e63dbcf36', name='variancePower', doc='The power in the variance function of the Tweedie distribution which characterizes the relationship between the variance and mean of the distribution. Only applicable to the Tweedie family. Supported values: 0 and [1, Inf).'): 0.0}"
      ]
     },
     "execution_count": 103,
     "metadata": {},
     "output_type": "execute_result"
    }
   ],
   "source": [
    "cv_model.bestModel.stages[0].extractParamMap()"
   ]
  },
  {
   "cell_type": "code",
   "execution_count": null,
   "metadata": {},
   "outputs": [],
   "source": [
    "\n"
   ]
  },
  {
   "cell_type": "code",
   "execution_count": 117,
   "metadata": {},
   "outputs": [],
   "source": []
  },
  {
   "cell_type": "code",
   "execution_count": 219,
   "metadata": {},
   "outputs": [],
   "source": [
    "classifiers = {\n",
    "         'RF': RandomForestRegressor(labelCol = \"DEPARTURE_DELAY\", featuresCol = \"features\"),\n",
    "         'GLR': GeneralizedLinearRegression(labelCol = \"DEPARTURE_DELAY\", featuresCol = \"features\")}\n",
    "\n",
    "grid = {\n",
    "    \"RF\":ParamGridBuilder() \\\n",
    "    .addGrid(rf.maxDepth, [ 10,5]) \\\n",
    "    .addGrid(rf.numTrees,[20, 30]) \\\n",
    "    .build(),\n",
    "    \n",
    "    \"GLR\":ParamGridBuilder() \\\n",
    "    .addGrid(glr.regParam, [.05, .1]) \\\n",
    "    .addGrid(glr.maxIter,[5,10]) \\\n",
    "    .build()\n",
    "     }"
   ]
  },
  {
   "cell_type": "code",
   "execution_count": 229,
   "metadata": {},
   "outputs": [
    {
     "data": {
      "text/plain": [
       "RandomForestRegressor_48869beebab65e2c4821"
      ]
     },
     "execution_count": 229,
     "metadata": {},
     "output_type": "execute_result"
    }
   ],
   "source": [
    "lista=[\"RF\",\"GLR\"]\n",
    "classifiers[lista[0]]"
   ]
  },
  {
   "cell_type": "code",
   "execution_count": 235,
   "metadata": {},
   "outputs": [
    {
     "name": "stdout",
     "output_type": "stream",
     "text": [
      "RF\n",
      "+---------------+------------------+\n",
      "|DEPARTURE_DELAY|        prediction|\n",
      "+---------------+------------------+\n",
      "|             -5|1.3999266505974748|\n",
      "|              0| 4.621446789157801|\n",
      "|             -4|-1.468974901819656|\n",
      "|              3| 6.694421276066909|\n",
      "|              6|28.734671273107274|\n",
      "+---------------+------------------+\n",
      "only showing top 5 rows\n",
      "\n",
      "None\n",
      "20.64587610545861\n",
      "{Param(parent='RandomForestRegressor_48869beebab65e2c4821', name='cacheNodeIds', doc='If false, the algorithm will pass trees to executors to match instances with nodes. If true, the algorithm will cache node IDs for each instance. Caching can speed up training of deeper trees.'): False, Param(parent='RandomForestRegressor_48869beebab65e2c4821', name='checkpointInterval', doc='set checkpoint interval (>= 1) or disable checkpoint (-1). E.g. 10 means that the cache will get checkpointed every 10 iterations. Note: this setting will be ignored if the checkpoint directory is not set in the SparkContext'): 10, Param(parent='RandomForestRegressor_48869beebab65e2c4821', name='featureSubsetStrategy', doc='The number of features to consider for splits at each tree node. Supported options: auto, all, onethird, sqrt, log2, (0.0-1.0], [1-n].'): 'auto', Param(parent='RandomForestRegressor_48869beebab65e2c4821', name='featuresCol', doc='features column name'): 'features', Param(parent='RandomForestRegressor_48869beebab65e2c4821', name='impurity', doc='Criterion used for information gain calculation (case-insensitive). Supported options: variance'): 'variance', Param(parent='RandomForestRegressor_48869beebab65e2c4821', name='labelCol', doc='label column name'): 'DEPARTURE_DELAY', Param(parent='RandomForestRegressor_48869beebab65e2c4821', name='maxBins', doc='Max number of bins for discretizing continuous features.  Must be >=2 and >= number of categories for any categorical feature.'): 32, Param(parent='RandomForestRegressor_48869beebab65e2c4821', name='maxDepth', doc='Maximum depth of the tree. (>= 0) E.g., depth 0 means 1 leaf node; depth 1 means 1 internal node + 2 leaf nodes.'): 5, Param(parent='RandomForestRegressor_48869beebab65e2c4821', name='maxMemoryInMB', doc='Maximum memory in MB allocated to histogram aggregation.'): 256, Param(parent='RandomForestRegressor_48869beebab65e2c4821', name='minInfoGain', doc='Minimum information gain for a split to be considered at a tree node.'): 0.0, Param(parent='RandomForestRegressor_48869beebab65e2c4821', name='minInstancesPerNode', doc='Minimum number of instances each child must have after split.  If a split causes the left or right child to have fewer than minInstancesPerNode, the split will be discarded as invalid. Should be >= 1.'): 1, Param(parent='RandomForestRegressor_48869beebab65e2c4821', name='numTrees', doc='Number of trees to train (>= 1)'): 20, Param(parent='RandomForestRegressor_48869beebab65e2c4821', name='predictionCol', doc='prediction column name'): 'prediction', Param(parent='RandomForestRegressor_48869beebab65e2c4821', name='seed', doc='random seed'): -6869935680997018258, Param(parent='RandomForestRegressor_48869beebab65e2c4821', name='subsamplingRate', doc='Fraction of the training data used for learning each decision tree, in range (0, 1].'): 1.0}\n",
      "GLR\n",
      "+---------------+--------------------+\n",
      "|DEPARTURE_DELAY|          prediction|\n",
      "+---------------+--------------------+\n",
      "|             -5|  -4.891002558847072|\n",
      "|              0|-0.04145783438756634|\n",
      "|             -4|  -4.029723166333625|\n",
      "|              3|  2.9297869628179516|\n",
      "|              6|   6.048797402362515|\n",
      "+---------------+--------------------+\n",
      "only showing top 5 rows\n",
      "\n",
      "None\n",
      "0.07397496100584358\n",
      "{Param(parent='GeneralizedLinearRegression_41dba9425709a8e7fdfb', name='family', doc='The name of family which is a description of the error distribution to be used in the model. Supported options: poisson, binomial, gaussian, gamma, tweedie.'): 'gaussian', Param(parent='GeneralizedLinearRegression_41dba9425709a8e7fdfb', name='featuresCol', doc='features column name'): 'features', Param(parent='GeneralizedLinearRegression_41dba9425709a8e7fdfb', name='fitIntercept', doc='whether to fit an intercept term'): True, Param(parent='GeneralizedLinearRegression_41dba9425709a8e7fdfb', name='labelCol', doc='label column name'): 'DEPARTURE_DELAY', Param(parent='GeneralizedLinearRegression_41dba9425709a8e7fdfb', name='maxIter', doc='maximum number of iterations (>= 0)'): 25, Param(parent='GeneralizedLinearRegression_41dba9425709a8e7fdfb', name='predictionCol', doc='prediction column name'): 'prediction', Param(parent='GeneralizedLinearRegression_41dba9425709a8e7fdfb', name='regParam', doc='regularization parameter (>= 0)'): 0.0, Param(parent='GeneralizedLinearRegression_41dba9425709a8e7fdfb', name='solver', doc='The solver algorithm for optimization. Supported options: irls. (Default irls)'): 'irls', Param(parent='GeneralizedLinearRegression_41dba9425709a8e7fdfb', name='tol', doc='the convergence tolerance for iterative algorithms (>= 0)'): 1e-06, Param(parent='GeneralizedLinearRegression_41dba9425709a8e7fdfb', name='variancePower', doc='The power in the variance function of the Tweedie distribution which characterizes the relationship between the variance and mean of the distribution. Only applicable to the Tweedie family. Supported values: 0 and [1, Inf).'): 0.0}\n"
     ]
    }
   ],
   "source": [
    "lista=[\"RF\",\"GLR\"]\n",
    "classifiers[lista[0]]\n",
    "for i in range(1,3):\n",
    "    modelo = classifiers[lista[i-1]]\n",
    "    modelo_cv = modelo\n",
    "    paramGrid=grid[lista[i-1]]\n",
    "    \n",
    "    crossval = CrossValidator(estimator = modelo_cv,\n",
    "                        estimatorParamMaps=paramGrid,\n",
    "                        evaluator = RegressionEvaluator(\n",
    "    labelCol=\"DEPARTURE_DELAY\", predictionCol=\"prediction\", metricName=\"rmse\"),\n",
    "                        numFolds= 3)\n",
    "\n",
    "    cv_model = crossval.fit(very_small_sample)\n",
    "    \n",
    "    \n",
    "    predictions = cv_model.transform(test_data)\n",
    "    evaluator= RegressionEvaluator(labelCol = \"DEPARTURE_DELAY\", predictionCol=\"prediction\", metricName= \"rmse\")\n",
    "    rmse = evaluator.evaluate(predictions)\n",
    "    print(lista[i-1])\n",
    "    print(predictions.select(\"DEPARTURE_DELAY\",\"prediction\").show(5))\n",
    "    print(rmse)\n",
    "    print(cv_model.bestModel.extractParamMap())\n",
    "    i=i+1\n",
    "\n",
    "\n"
   ]
  },
  {
   "cell_type": "code",
   "execution_count": 224,
   "metadata": {},
   "outputs": [],
   "source": [
    "crossval = CrossValidator(estimator = modelo_cv,\n",
    "                        estimatorParamMaps=paramGrid,\n",
    "                        evaluator = RegressionEvaluator(\n",
    "    labelCol=\"DEPARTURE_DELAY\", predictionCol=\"prediction\", metricName=\"rmse\"),\n",
    "                        numFolds= 3)\n",
    "\n",
    "cv_model = crossval.fit(very_small_sample)"
   ]
  },
  {
   "cell_type": "code",
   "execution_count": 225,
   "metadata": {},
   "outputs": [
    {
     "name": "stdout",
     "output_type": "stream",
     "text": [
      "+---------------+------------------+\n",
      "|DEPARTURE_DELAY|        prediction|\n",
      "+---------------+------------------+\n",
      "|             -5|1.3999266505974748|\n",
      "|              0| 4.621446789157801|\n",
      "|             -4|-1.468974901819656|\n",
      "|              3| 6.694421276066909|\n",
      "|              6|28.734671273107274|\n",
      "+---------------+------------------+\n",
      "only showing top 5 rows\n",
      "\n",
      "None\n",
      "20.64587610545861\n"
     ]
    }
   ],
   "source": [
    "predictions = cv_model.transform(test_data)\n",
    "evaluator= RegressionEvaluator(labelCol = \"DEPARTURE_DELAY\", predictionCol=\"prediction\", metricName= \"rmse\")\n",
    "rmse = evaluator.evaluate(predictions)\n",
    "print(predictions.select(\"DEPARTURE_DELAY\",\"prediction\").show(5))\n",
    "print(rmse)\n",
    "print(cv_model.bestModel.stages[0].extractParamMap())"
   ]
  },
  {
   "cell_type": "code",
   "execution_count": 205,
   "metadata": {},
   "outputs": [],
   "source": [
    "\n",
    "\n",
    "     "
   ]
  },
  {
   "cell_type": "code",
   "execution_count": null,
   "metadata": {},
   "outputs": [],
   "source": []
  }
 ],
 "metadata": {
  "kernelspec": {
   "display_name": "Python 3",
   "language": "python",
   "name": "python3"
  },
  "language_info": {
   "codemirror_mode": {
    "name": "ipython",
    "version": 3
   },
   "file_extension": ".py",
   "mimetype": "text/x-python",
   "name": "python",
   "nbconvert_exporter": "python",
   "pygments_lexer": "ipython3",
   "version": "3.6.3"
  }
 },
 "nbformat": 4,
 "nbformat_minor": 2
}
