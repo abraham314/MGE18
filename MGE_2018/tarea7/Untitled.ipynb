{
 "cells": [
  {
   "cell_type": "code",
   "execution_count": 1,
   "metadata": {},
   "outputs": [],
   "source": [
    "import findspark \n",
    "findspark.init('/home/abraham/spark-2.2.1-bin-hadoop2.7') \n",
    "import pyspark\n",
    "import os\n",
    "import sys\n",
    "from pyspark.sql import SQLContext\n",
    "from pyspark import SparkContext\n",
    "sc =SparkContext()\n",
    "sqlContext = SQLContext(sc) \n",
    "from pyspark.sql import SparkSession \n",
    "spark = SparkSession.builder.appName('cruise').getOrCreate() \n",
    "vuelos = spark.read.csv('/home/abraham/MGE_2018/tarea4/flights.csv',inferSchema=True,header=True)"
   ]
  },
  {
   "cell_type": "code",
   "execution_count": 2,
   "metadata": {
    "collapsed": true
   },
   "outputs": [],
   "source": [
    "from pyspark.sql import SQLContext\n",
    "from pyspark.ml.feature import VectorIndexer\n",
    "from pyspark.ml.feature import VectorAssembler\n",
    "from pyspark.ml.feature import StandardScaler\n",
    "from pyspark.ml.regression import DecisionTreeRegressor\n",
    "from pyspark.ml.evaluation import RegressionEvaluator\n",
    "from pyspark.ml import Pipeline"
   ]
  },
  {
   "cell_type": "code",
   "execution_count": 3,
   "metadata": {},
   "outputs": [],
   "source": [
    "# Elimino aquellas variables que tienen datos \"NA\", con excepción de \"DEPARTURE_DELAY\" pues es la variable objetivo, por lo que en este caso elimino los registros para esta variable que tienen \"NA\".\n",
    "# Asimismo, selecciono las variables que sulten de interés para predecir la variable \"DEPARTURE_DELAY\" sin incrementar la dimensionalidad.\n",
    "vuelos_selec =vuelos.select('MONTH','DAY','DAY_OF_WEEK','FLIGHT_NUMBER','AIR_TIME','DISTANCE','DIVERTED','CANCELLED','DEPARTURE_DELAY').na.drop(subset='DEPARTURE_DELAY') \n",
    "vuelos_selec=vuelos_selec.na.fill(0)"
   ]
  },
  {
   "cell_type": "code",
   "execution_count": 4,
   "metadata": {
    "collapsed": true
   },
   "outputs": [],
   "source": [
    "#Hacemos VectorAssembler para poder generar la variable features que es un vector de los valores de cada columna\n",
    "#en este caso eliminamos algunas columnas ya que no hace sentido ocuparlas tipo el año, y variables de horas.\n",
    "assembler = VectorAssembler(\n",
    "  inputCols=['MONTH','DAY','DAY_OF_WEEK','FLIGHT_NUMBER','AIR_TIME','DISTANCE','DIVERTED','CANCELLED'],\n",
    "    outputCol=\"features\")"
   ]
  },
  {
   "cell_type": "code",
   "execution_count": 5,
   "metadata": {},
   "outputs": [],
   "source": [
    "# Hago el VectorAssembler para definir los features.\n",
    "vec_ass = VectorAssembler(inputCols=['MONTH','DAY','DAY_OF_WEEK','FLIGHT_NUMBER','AIR_TIME','DISTANCE','DIVERTED','CANCELLED'],outputCol='features')"
   ]
  },
  {
   "cell_type": "code",
   "execution_count": 6,
   "metadata": {
    "collapsed": true
   },
   "outputs": [],
   "source": [
    "\n",
    "# Estandarizo las variables.\n",
    "#std_scaler = StandardScaler(inputCol='features', outputCol='scaled_features')\n",
    "\n",
    "# Defino un \"Decision tree regression\" que reciba los features ya estandarizados.\n",
    "#dtr = DecisionTreeRegressor(featuresCol='scaled_features',labelCol='DEPARTURE_DELAY')\n",
    "dtr = DecisionTreeRegressor(featuresCol='features',labelCol='DEPARTURE_DELAY')\n",
    "\n",
    "# Defino el pipeline con el modelo.\n",
    "#pipeline = Pipeline(stages=[index,vec_ass,std_scaler,dtr])\n",
    "pipeline = Pipeline(stages=[assembler,dtr])\n",
    "\n",
    "# Divido la base en 70% entrenamiento y 30% prueba.\n",
    "(entrena,prueba) = vuelos_selec.randomSplit([0.7,0.3])"
   ]
  },
  {
   "cell_type": "code",
   "execution_count": 7,
   "metadata": {},
   "outputs": [],
   "source": [
    "# Entreno el modelo con los datos de entrenamiento.\n",
    "modelo = pipeline.fit(entrena)"
   ]
  },
  {
   "cell_type": "code",
   "execution_count": 26,
   "metadata": {},
   "outputs": [
    {
     "data": {
      "text/plain": [
       "5732926"
      ]
     },
     "execution_count": 26,
     "metadata": {},
     "output_type": "execute_result"
    }
   ],
   "source": [
    "vuelos_selec.count()"
   ]
  },
  {
   "cell_type": "code",
   "execution_count": 29,
   "metadata": {},
   "outputs": [],
   "source": []
  },
  {
   "cell_type": "code",
   "execution_count": null,
   "metadata": {
    "collapsed": true
   },
   "outputs": [],
   "source": []
  }
 ],
 "metadata": {
  "kernelspec": {
   "display_name": "Python 3",
   "language": "python",
   "name": "python3"
  },
  "language_info": {
   "codemirror_mode": {
    "name": "ipython",
    "version": 3
   },
   "file_extension": ".py",
   "mimetype": "text/x-python",
   "name": "python",
   "nbconvert_exporter": "python",
   "pygments_lexer": "ipython3",
   "version": "3.5.4"
  }
 },
 "nbformat": 4,
 "nbformat_minor": 2
}
